{
  "nbformat": 4,
  "nbformat_minor": 0,
  "metadata": {
    "colab": {
      "name": "iaexpert_python_fundamentals.ipynb",
      "provenance": [],
      "collapsed_sections": [],
      "include_colab_link": true
    },
    "kernelspec": {
      "name": "python3",
      "display_name": "Python 3"
    }
  },
  "cells": [
    {
      "cell_type": "markdown",
      "metadata": {
        "id": "view-in-github",
        "colab_type": "text"
      },
      "source": [
        "<a href=\"https://colab.research.google.com/github/EliGorniak/IAEXPERT_python_fundamentals/blob/main/iaexpert_python_fundamentals.ipynb\" target=\"_parent\"><img src=\"https://colab.research.google.com/assets/colab-badge.svg\" alt=\"Open In Colab\"/></a>"
      ]
    },
    {
      "cell_type": "markdown",
      "metadata": {
        "id": "V8QjcFa6R5y2"
      },
      "source": [
        "# Aula 1. Manipulação de variáveis e constantes"
      ]
    },
    {
      "cell_type": "markdown",
      "metadata": {
        "id": "vpSo8ozVTLCo"
      },
      "source": [
        "## Variáveis e constantes\n",
        "\n",
        "- Por meio de variáveis que um algortimo “guarda” os dados do problema\n",
        "- Todo dado que tem a possibilidade de ser alterado no decorrer do tempo deverá ser tratado como uma variável\n",
        "- Quando um dado não tem nenhuma possibilidade de variar no decorrer do tempo, deverá ser tratado como constante\n",
        "\n",
        "Exemplo: calcular a área de um triângulo. Sabemos que a fórmula para o cálculo da área de um triângulo é BASE * ALTURA / 2. **Base** e **altura** são dados que irão variar no decorrer do “tempo de execução”. O número 2 da fórmula é um dado constante, pois sempre terá o mesmo valor\n",
        "\n",
        "## Tipo de variáveis\n",
        "\n",
        "- Inteiros: valores positivos ou negativos, que não possuem uma parte fracionária. Exemplos: 1, 30, 40, 12, -50\n",
        "- Float (real): valores positivos ou negativos, que podem possuir uma parte fracionária (também podem ser inteiros). Exemplos: 1.4, 6.7, 10.3, 100, -47\n",
        "- Caracteres (char ou string): qualquer elemento presente no teclado. Exemplos: “Maria”, “João”, ‘M’, ‘F’\n",
        "- Lógico (boleano): verdadeiro ou falso. Exemplos: true, false, 1, 0"
      ]
    },
    {
      "cell_type": "markdown",
      "metadata": {
        "id": "dJuQ83faR_Pc"
      },
      "source": [
        "## Variáveis inteiras"
      ]
    },
    {
      "cell_type": "code",
      "metadata": {
        "id": "AlNS5Ngsm_dB"
      },
      "source": [
        "numero = -3\n",
        "numero_jogos = 14\n",
        "numero_convidados = 15"
      ],
      "execution_count": null,
      "outputs": []
    },
    {
      "cell_type": "code",
      "metadata": {
        "id": "h11ASYEknOD1",
        "colab": {
          "base_uri": "https://localhost:8080/"
        },
        "outputId": "7b9e080a-9c57-40dd-d15e-8c4bca1179e3"
      },
      "source": [
        "numero"
      ],
      "execution_count": null,
      "outputs": [
        {
          "output_type": "execute_result",
          "data": {
            "text/plain": [
              "-3"
            ]
          },
          "metadata": {
            "tags": []
          },
          "execution_count": 2
        }
      ]
    },
    {
      "cell_type": "code",
      "metadata": {
        "id": "c8kmjtIinQNi",
        "colab": {
          "base_uri": "https://localhost:8080/"
        },
        "outputId": "16c1db60-bd98-407d-e206-0faad304dca1"
      },
      "source": [
        "print(numero)"
      ],
      "execution_count": null,
      "outputs": [
        {
          "output_type": "stream",
          "text": [
            "-3\n"
          ],
          "name": "stdout"
        }
      ]
    },
    {
      "cell_type": "code",
      "metadata": {
        "id": "KP0Wt0yynY7b",
        "colab": {
          "base_uri": "https://localhost:8080/"
        },
        "outputId": "22cb665a-a429-46a6-9250-0713b25ba155"
      },
      "source": [
        "print(numero, numero_convidados)"
      ],
      "execution_count": null,
      "outputs": [
        {
          "output_type": "stream",
          "text": [
            "-3 15\n"
          ],
          "name": "stdout"
        }
      ]
    },
    {
      "cell_type": "markdown",
      "metadata": {
        "id": "JhCsz7fBSQ8E"
      },
      "source": [
        "## Variáveis float (ponto flutuante)"
      ]
    },
    {
      "cell_type": "code",
      "metadata": {
        "id": "wNQq80punev_"
      },
      "source": [
        "pi = 3.14\n",
        "numero_euler = 2.71\n",
        "escala_terremoto = -4.55"
      ],
      "execution_count": null,
      "outputs": []
    },
    {
      "cell_type": "code",
      "metadata": {
        "id": "yusfNXQ2nmCv",
        "colab": {
          "base_uri": "https://localhost:8080/"
        },
        "outputId": "ca9494bb-8017-4e67-e106-64af358bd683"
      },
      "source": [
        "print(pi)\n",
        "print(numero_euler)\n",
        "print(escala_terremoto)"
      ],
      "execution_count": null,
      "outputs": [
        {
          "output_type": "stream",
          "text": [
            "3.14\n",
            "2.71\n",
            "-4.55\n"
          ],
          "name": "stdout"
        }
      ]
    },
    {
      "cell_type": "markdown",
      "metadata": {
        "id": "fCiZKeOFSwig"
      },
      "source": [
        "## Strings e chars"
      ]
    },
    {
      "cell_type": "code",
      "metadata": {
        "id": "yvccp63ZnvEZ"
      },
      "source": [
        "letra = 'a'\n",
        "palavra1 = 'linguagem de programação'\n",
        "palavra2 = 'Python'"
      ],
      "execution_count": null,
      "outputs": []
    },
    {
      "cell_type": "code",
      "metadata": {
        "id": "AwZul8K-n3L-",
        "colab": {
          "base_uri": "https://localhost:8080/"
        },
        "outputId": "2fd21ea2-128c-4ba8-80c0-8fd6ce5d9ef2"
      },
      "source": [
        "print(letra, palavra1)"
      ],
      "execution_count": null,
      "outputs": [
        {
          "output_type": "stream",
          "text": [
            "a linguagem de programação\n"
          ],
          "name": "stdout"
        }
      ]
    },
    {
      "cell_type": "code",
      "metadata": {
        "id": "DnEKLamYn7Vw",
        "colab": {
          "base_uri": "https://localhost:8080/"
        },
        "outputId": "302f8cb5-467b-4090-cc2d-9d6f4284d0a0"
      },
      "source": [
        "print('Estou aprendendo uma', palavra1)"
      ],
      "execution_count": null,
      "outputs": [
        {
          "output_type": "stream",
          "text": [
            "Estou aprendendo uma linguagem de programação\n"
          ],
          "name": "stdout"
        }
      ]
    },
    {
      "cell_type": "code",
      "metadata": {
        "id": "07uhcWXEoGHs",
        "colab": {
          "base_uri": "https://localhost:8080/"
        },
        "outputId": "91d85380-cb62-44c4-cde1-4d1e6116541d"
      },
      "source": [
        "print('Esta', palavra1, 'se chama', palavra2)"
      ],
      "execution_count": null,
      "outputs": [
        {
          "output_type": "stream",
          "text": [
            "Esta linguagem de programação se chama Python\n"
          ],
          "name": "stdout"
        }
      ]
    },
    {
      "cell_type": "code",
      "metadata": {
        "id": "QbO7XNY3oQKk",
        "colab": {
          "base_uri": "https://localhost:8080/"
        },
        "outputId": "1135f1da-c442-4ad6-ba5e-a7c11cdc1e82"
      },
      "source": [
        "idade = int(input('Digite sua idade:'))\n",
        "print('Sua idade é ', idade)"
      ],
      "execution_count": null,
      "outputs": [
        {
          "output_type": "stream",
          "text": [
            "Digite sua idade:45\n",
            "Sua idade é  45\n"
          ],
          "name": "stdout"
        }
      ]
    },
    {
      "cell_type": "code",
      "metadata": {
        "id": "4Bmhcm_sogXZ",
        "colab": {
          "base_uri": "https://localhost:8080/"
        },
        "outputId": "9d71f7f4-8aeb-488e-bfb3-6b871947fd81"
      },
      "source": [
        "pH = float(input('Qual o pH do solo durante a última medição? '))\n",
        "print('O pH medido foi ', pH)"
      ],
      "execution_count": null,
      "outputs": [
        {
          "output_type": "stream",
          "text": [
            "Qual o pH do solo durante a última medição? 6\n",
            "O pH medido foi  6.0\n"
          ],
          "name": "stdout"
        }
      ]
    },
    {
      "cell_type": "code",
      "metadata": {
        "id": "TWKEPsOHosFh",
        "colab": {
          "base_uri": "https://localhost:8080/"
        },
        "outputId": "fee0e56c-4bad-402a-ad81-bfcc0703abdb"
      },
      "source": [
        "nome = str(input('Qual o seu nome?'))\n",
        "print('Seu nome é', nome)"
      ],
      "execution_count": null,
      "outputs": [
        {
          "output_type": "stream",
          "text": [
            "Qual o seu nome?eli\n",
            "Seu nome é eli\n"
          ],
          "name": "stdout"
        }
      ]
    },
    {
      "cell_type": "code",
      "metadata": {
        "id": "WS0kaS_jo5c2",
        "colab": {
          "base_uri": "https://localhost:8080/"
        },
        "outputId": "20db741e-3ca0-4747-860f-c4e2db39683e"
      },
      "source": [
        "idade"
      ],
      "execution_count": null,
      "outputs": [
        {
          "output_type": "execute_result",
          "data": {
            "text/plain": [
              "45"
            ]
          },
          "metadata": {
            "tags": []
          },
          "execution_count": 14
        }
      ]
    },
    {
      "cell_type": "markdown",
      "metadata": {
        "id": "9XhwkaE4s86u"
      },
      "source": [
        "# Aula 2. Manipulação de Strings"
      ]
    },
    {
      "cell_type": "code",
      "metadata": {
        "colab": {
          "base_uri": "https://localhost:8080/"
        },
        "id": "2YKxFErKtx1e",
        "outputId": "b90b6f1c-e72e-4636-8d2e-144f3e719d83"
      },
      "source": [
        "a = 'casaco'\r\n",
        "print(a)"
      ],
      "execution_count": null,
      "outputs": [
        {
          "output_type": "stream",
          "text": [
            "casaco\n"
          ],
          "name": "stdout"
        }
      ]
    },
    {
      "cell_type": "code",
      "metadata": {
        "colab": {
          "base_uri": "https://localhost:8080/"
        },
        "id": "pvsYShiF8ubI",
        "outputId": "ad242992-a311-4644-8d5e-69d28aaf6c47"
      },
      "source": [
        "maiuscula = a.upper()\r\n",
        "print(maiuscula)"
      ],
      "execution_count": null,
      "outputs": [
        {
          "output_type": "stream",
          "text": [
            "CASACO\n"
          ],
          "name": "stdout"
        }
      ]
    },
    {
      "cell_type": "code",
      "metadata": {
        "colab": {
          "base_uri": "https://localhost:8080/"
        },
        "id": "gOheSu3Z8uLo",
        "outputId": "7120f0ae-4c1a-4b09-aba7-331171a665ed"
      },
      "source": [
        "minuscula = maiuscula.lower()\r\n",
        "print(minuscula)"
      ],
      "execution_count": null,
      "outputs": [
        {
          "output_type": "stream",
          "text": [
            "casaco\n"
          ],
          "name": "stdout"
        }
      ]
    },
    {
      "cell_type": "code",
      "metadata": {
        "colab": {
          "base_uri": "https://localhost:8080/"
        },
        "id": "sz6IAT9m8uAV",
        "outputId": "adddaf1e-89ab-4349-b78a-acc0e6f0588d"
      },
      "source": [
        "capital = a.capitalize()\r\n",
        "print(capital)"
      ],
      "execution_count": null,
      "outputs": [
        {
          "output_type": "stream",
          "text": [
            "Casaco\n"
          ],
          "name": "stdout"
        }
      ]
    },
    {
      "cell_type": "code",
      "metadata": {
        "colab": {
          "base_uri": "https://localhost:8080/"
        },
        "id": "TGnxg9xk9D3M",
        "outputId": "08838a42-a500-490a-9744-b9216506748c"
      },
      "source": [
        "# extrair partes da string pelo índice\r\n",
        "metade_palavra = a[0:3] # de zero a 3\r\n",
        "print(metade_palavra)"
      ],
      "execution_count": null,
      "outputs": [
        {
          "output_type": "stream",
          "text": [
            "cas\n"
          ],
          "name": "stdout"
        }
      ]
    },
    {
      "cell_type": "code",
      "metadata": {
        "colab": {
          "base_uri": "https://localhost:8080/"
        },
        "id": "4fGgmKSb9Dtd",
        "outputId": "a87321f0-1994-485d-fec8-50bdbd647dad"
      },
      "source": [
        "# extrair as ultimas letras\r\n",
        "ultimas_letras = a[3:] # da posição 3 até o final (posições 3, 4 e 5)\r\n",
        "print(ultimas_letras)"
      ],
      "execution_count": null,
      "outputs": [
        {
          "output_type": "stream",
          "text": [
            "aco\n"
          ],
          "name": "stdout"
        }
      ]
    },
    {
      "cell_type": "code",
      "metadata": {
        "colab": {
          "base_uri": "https://localhost:8080/"
        },
        "id": "oNJ2eOpP9DkC",
        "outputId": "6f1cf2a3-6046-429c-c336-dae8d01a95e0"
      },
      "source": [
        "# para substituir algum caractere dentro da string\r\n",
        "b = a.replace('aco', 'inha') # substituindo onde tem 'aco' por 'inha' na string\r\n",
        "print(a)\r\n",
        "print(b)"
      ],
      "execution_count": null,
      "outputs": [
        {
          "output_type": "stream",
          "text": [
            "casaco\n",
            "casinha\n"
          ],
          "name": "stdout"
        }
      ]
    },
    {
      "cell_type": "code",
      "metadata": {
        "colab": {
          "base_uri": "https://localhost:8080/"
        },
        "id": "am8mNZTD_l-7",
        "outputId": "14b8b266-c72b-46f1-93f4-6defbe81a6fb"
      },
      "source": [
        "c = a. replace('o', 'a')\r\n",
        "print(c)"
      ],
      "execution_count": null,
      "outputs": [
        {
          "output_type": "stream",
          "text": [
            "casaca\n"
          ],
          "name": "stdout"
        }
      ]
    },
    {
      "cell_type": "code",
      "metadata": {
        "colab": {
          "base_uri": "https://localhost:8080/"
        },
        "id": "PniB-0JC_MVD",
        "outputId": "987e7639-a728-4bb7-c564-d885cc893296"
      },
      "source": [
        "# metodo para achar algum elemento dentro da string\r\n",
        "c.find('s') # a resposta vai indicar o índice/posição dentro da string"
      ],
      "execution_count": null,
      "outputs": [
        {
          "output_type": "execute_result",
          "data": {
            "text/plain": [
              "2"
            ]
          },
          "metadata": {
            "tags": []
          },
          "execution_count": 23
        }
      ]
    },
    {
      "cell_type": "code",
      "metadata": {
        "colab": {
          "base_uri": "https://localhost:8080/"
        },
        "id": "zZd2vTmR_MMF",
        "outputId": "0f221dfd-c0ba-4b47-a651-1a7bc312a936"
      },
      "source": [
        "# se houver mais de um caracter igual, vai retornar a posição de apenas O PRIMEIRO encontrado\r\n",
        "c.find('a')"
      ],
      "execution_count": null,
      "outputs": [
        {
          "output_type": "execute_result",
          "data": {
            "text/plain": [
              "1"
            ]
          },
          "metadata": {
            "tags": []
          },
          "execution_count": 24
        }
      ]
    },
    {
      "cell_type": "code",
      "metadata": {
        "colab": {
          "base_uri": "https://localhost:8080/"
        },
        "id": "76-ngiBq_MCD",
        "outputId": "3ea743cb-9f23-4268-8391-318f74cee460"
      },
      "source": [
        "# se tentar achar um caracter que não existe, ele vai retornar -1 ou FALSO\r\n",
        "c.find('b')"
      ],
      "execution_count": null,
      "outputs": [
        {
          "output_type": "execute_result",
          "data": {
            "text/plain": [
              "-1"
            ]
          },
          "metadata": {
            "tags": []
          },
          "execution_count": 25
        }
      ]
    },
    {
      "cell_type": "code",
      "metadata": {
        "colab": {
          "base_uri": "https://localhost:8080/"
        },
        "id": "NsZiH_FwAkTW",
        "outputId": "634c67dc-3825-4861-d1c6-f8a9036f2e13"
      },
      "source": [
        "# tamanho da string - vai contar inclusive os espaços em branco:\r\n",
        "e = ' casaco '\r\n",
        "print(len(e))"
      ],
      "execution_count": null,
      "outputs": [
        {
          "output_type": "stream",
          "text": [
            "8\n"
          ],
          "name": "stdout"
        }
      ]
    },
    {
      "cell_type": "code",
      "metadata": {
        "colab": {
          "base_uri": "https://localhost:8080/"
        },
        "id": "Dts3s8PSAwDR",
        "outputId": "3e80a8b2-7e80-4421-a635-d50840408c0e"
      },
      "source": [
        "# para retirar os espaços em branco antes e depois\r\n",
        "f = e.strip()\r\n",
        "print(f)\r\n",
        "print(len(f))"
      ],
      "execution_count": null,
      "outputs": [
        {
          "output_type": "stream",
          "text": [
            "casaco\n",
            "6\n"
          ],
          "name": "stdout"
        }
      ]
    },
    {
      "cell_type": "code",
      "metadata": {
        "colab": {
          "base_uri": "https://localhost:8080/"
        },
        "id": "FfDAS727Avqa",
        "outputId": "3fc587a5-3881-4316-ec7d-0646c1d133ce"
      },
      "source": [
        "# usando f para indicar formatação e uso das variáveis concatenadas dentro da string:\r\n",
        "n1 = 14\r\n",
        "n2 = 16\r\n",
        "print(f'Dividindo {n1} por {n2} o resultado é {n1/n2}.')"
      ],
      "execution_count": null,
      "outputs": [
        {
          "output_type": "stream",
          "text": [
            "Dividindo 14 por 16 o resultado é 0.875.\n"
          ],
          "name": "stdout"
        }
      ]
    },
    {
      "cell_type": "markdown",
      "metadata": {
        "id": "ZOB9XkHTB4mD"
      },
      "source": [
        "# Aula 3. Operações matemáticas"
      ]
    },
    {
      "cell_type": "code",
      "metadata": {
        "colab": {
          "base_uri": "https://localhost:8080/"
        },
        "id": "HO5awM23B-xe",
        "outputId": "23959adc-4c1d-4c32-feb6-53df14ac6ca3"
      },
      "source": [
        "a = 5\r\n",
        "b = 3\r\n",
        "print(a + b)"
      ],
      "execution_count": null,
      "outputs": [
        {
          "output_type": "stream",
          "text": [
            "8\n"
          ],
          "name": "stdout"
        }
      ]
    },
    {
      "cell_type": "code",
      "metadata": {
        "colab": {
          "base_uri": "https://localhost:8080/"
        },
        "id": "2j4hrsOvB_vB",
        "outputId": "d59a5ec9-b321-4450-a027-93b8405727d8"
      },
      "source": [
        "a + b"
      ],
      "execution_count": null,
      "outputs": [
        {
          "output_type": "execute_result",
          "data": {
            "text/plain": [
              "8"
            ]
          },
          "metadata": {
            "tags": []
          },
          "execution_count": 30
        }
      ]
    },
    {
      "cell_type": "code",
      "metadata": {
        "colab": {
          "base_uri": "https://localhost:8080/"
        },
        "id": "x7nNDKEqB_lb",
        "outputId": "2e653fe4-8141-4acf-e5d3-51f7349b823e"
      },
      "source": [
        "# operações matematicas:\r\n",
        "print('A soma é ', a + b)\r\n",
        "print('A subtração é ', a - b)\r\n",
        "print('A multiplicação é', a * b)\r\n",
        "print('A divisão é', a/b)\r\n",
        "print('O resto da divisão é', a%b) #vai devolver o que sobra da divisão\r\n",
        "print('5 elevado a 3 é', 5**3) # numero elevado a uma potencia\r\n"
      ],
      "execution_count": null,
      "outputs": [
        {
          "output_type": "stream",
          "text": [
            "A soma é  8\n",
            "A subtração é  2\n",
            "A multiplicação é 15\n",
            "A divisão é 1.6666666666666667\n",
            "O resto da divisão é 2\n",
            "5 elevado a 3 é 125\n"
          ],
          "name": "stdout"
        }
      ]
    },
    {
      "cell_type": "code",
      "metadata": {
        "colab": {
          "base_uri": "https://localhost:8080/"
        },
        "id": "FvEpTQtHDcwg",
        "outputId": "2c8080b0-2e5b-4c07-d0df-463f1f5b1878"
      },
      "source": [
        "# para extrair a raiz quadrada, importar a biblioteca MATH\r\n",
        "import math \r\n",
        "math.sqrt(81)"
      ],
      "execution_count": null,
      "outputs": [
        {
          "output_type": "execute_result",
          "data": {
            "text/plain": [
              "9.0"
            ]
          },
          "metadata": {
            "tags": []
          },
          "execution_count": 32
        }
      ]
    },
    {
      "cell_type": "markdown",
      "metadata": {
        "id": "aHrX-I2gCZC8"
      },
      "source": [
        "## **Arredondamento**"
      ]
    },
    {
      "cell_type": "code",
      "metadata": {
        "colab": {
          "base_uri": "https://localhost:8080/"
        },
        "id": "I_YvCzQfB_dX",
        "outputId": "00c9ab14-1439-4c8d-f83b-1aaf7decc7c8"
      },
      "source": [
        "casos_doenca = 134\r\n",
        "numero_habitantes = 34432\r\n",
        "casos_por_habitante = casos_doenca / numero_habitantes\r\n",
        "print(casos_por_habitante)"
      ],
      "execution_count": null,
      "outputs": [
        {
          "output_type": "stream",
          "text": [
            "0.003891728624535316\n"
          ],
          "name": "stdout"
        }
      ]
    },
    {
      "cell_type": "code",
      "metadata": {
        "colab": {
          "base_uri": "https://localhost:8080/"
        },
        "id": "NU4PsbzGD7G_",
        "outputId": "ffae4b41-26bf-4cbc-eb7f-f24bc274b8d0"
      },
      "source": [
        "# para arredondar o resultado, usar a função ROUND e o numero de casas decimais desejadas\r\n",
        "round(casos_por_habitante, 6)\r\n",
        "print('O número de casos por habitante é de', round(casos_por_habitante, 4))"
      ],
      "execution_count": null,
      "outputs": [
        {
          "output_type": "stream",
          "text": [
            "O número de casos por habitante é de 0.0039\n"
          ],
          "name": "stdout"
        }
      ]
    },
    {
      "cell_type": "markdown",
      "metadata": {
        "id": "0pfvImIjEngz"
      },
      "source": [
        "#### **Exercicios de fixação**"
      ]
    },
    {
      "cell_type": "markdown",
      "metadata": {
        "id": "DcIXVyawExb2"
      },
      "source": [
        "**1. Ler dois números inteiros, executar e mostrar o resultado das seguintes operações: adição, subtração, multiplicação e divisão**"
      ]
    },
    {
      "cell_type": "code",
      "metadata": {
        "colab": {
          "base_uri": "https://localhost:8080/"
        },
        "id": "XDQN12kiE16P",
        "outputId": "7ee9cc57-ce0f-4f53-9c05-bfc8ccb7efb0"
      },
      "source": [
        "numero1 = int(input('Digite um número:'))\r\n",
        "numero2 = int(input('Digite um número:'))\r\n",
        "print('adição dos dois números:', numero1 + numero2)\r\n",
        "print('subtração dos dois números:', numero1 - numero2)\r\n",
        "print('multiplicação dos dois números:', numero1 * numero2)\r\n",
        "print('divisão dos dois números:', round(numero1 / numero2, 2))"
      ],
      "execution_count": null,
      "outputs": [
        {
          "output_type": "stream",
          "text": [
            "Digite um número:8\n",
            "Digite um número:9\n",
            "adição dos dois números: 17\n",
            "subtração dos dois números: -1\n",
            "multiplicação dos dois números: 72\n",
            "divisão dos dois números: 0.89\n"
          ],
          "name": "stdout"
        }
      ]
    },
    {
      "cell_type": "markdown",
      "metadata": {
        "id": "g0LQQnyQEzGi"
      },
      "source": [
        "**2. Efetuar o cálculo da quantidade de litros de combustível gasto em uma viagem, utilizando um automóvel que faz 12 Km por litro. Para obter o cálculo, o usuário deve fornecer o tempo gasto na viagem e a velocidade média durante ela. Desta forma, será possível obter a distância percorrida com a fórmula DISTANCIA = TEMPO * VELOCIDADE. Tendo o valor da distância, basta calcular a quantidade de litros de combustível utilizada na viagem, com a fórmula: LITROS_USADOS = DISTANCIA / 12. O programa deve apresentar os valores da velocidade média, tempo gasto na viagem, a distância percorrida e a quantidade de litros utilizada na viagem.**"
      ]
    },
    {
      "cell_type": "code",
      "metadata": {
        "colab": {
          "base_uri": "https://localhost:8080/"
        },
        "id": "6DWK5j2ZD-om",
        "outputId": "6294f935-edf2-4a6e-f1bc-ad46223b15b4"
      },
      "source": [
        "consumo = 12\r\n",
        "tempo_viagem = float(input('Digite o tempo de viagem: '))\r\n",
        "velocidade = float(input('Digite a velocidade média: '))\r\n",
        "distancia_percorrida = tempo_viagem * velocidade\r\n",
        "consumo_total = round(distancia_percorrida / consumo, 2)\r\n",
        "print(f'A velocidade média foi de {velocidade}km/h, o tempo gasto foi de {tempo_viagem} horas, a distancia total percorrida foi de {distancia_percorrida} km e o consumo total foi de {consumo_total} litros.')"
      ],
      "execution_count": null,
      "outputs": [
        {
          "output_type": "stream",
          "text": [
            "Digite o tempo de viagem: 3\n",
            "Digite a velocidade média: 82\n",
            "A velocidade média foi de 82.0km/h, o tempo gasto foi de 3.0 horas, a distancia total percorrida foi de 246.0 km e o consumo total foi de 20.5 litros.\n"
          ],
          "name": "stdout"
        }
      ]
    },
    {
      "cell_type": "markdown",
      "metadata": {
        "id": "sVavrR7sRpYO"
      },
      "source": [
        "# Aula 4. Operadores lógicos e relacionais"
      ]
    },
    {
      "cell_type": "markdown",
      "metadata": {
        "id": "XdPPv-Z6R3Ei"
      },
      "source": [
        "## 4.1 Operadores lógicos"
      ]
    },
    {
      "cell_type": "code",
      "metadata": {
        "colab": {
          "base_uri": "https://localhost:8080/"
        },
        "id": "SbnvV0GARvGN",
        "outputId": "7b4c22e8-09f7-4c73-aa8f-fdc18bf00407"
      },
      "source": [
        "a = True\r\n",
        "b = False\r\n",
        "print(a, b)"
      ],
      "execution_count": null,
      "outputs": [
        {
          "output_type": "stream",
          "text": [
            "True False\n"
          ],
          "name": "stdout"
        }
      ]
    },
    {
      "cell_type": "code",
      "metadata": {
        "colab": {
          "base_uri": "https://localhost:8080/"
        },
        "id": "pLPY2NL3SM18",
        "outputId": "5446ad30-43bb-45aa-953a-0e9ccdb7e88c"
      },
      "source": [
        "a and b"
      ],
      "execution_count": null,
      "outputs": [
        {
          "output_type": "execute_result",
          "data": {
            "text/plain": [
              "False"
            ]
          },
          "metadata": {
            "tags": []
          },
          "execution_count": 38
        }
      ]
    },
    {
      "cell_type": "code",
      "metadata": {
        "colab": {
          "base_uri": "https://localhost:8080/"
        },
        "id": "Hc3VUkMySMj3",
        "outputId": "13b3ddc2-a55c-443f-984b-1ea62f6b0e91"
      },
      "source": [
        "a & b"
      ],
      "execution_count": null,
      "outputs": [
        {
          "output_type": "execute_result",
          "data": {
            "text/plain": [
              "False"
            ]
          },
          "metadata": {
            "tags": []
          },
          "execution_count": 39
        }
      ]
    },
    {
      "cell_type": "code",
      "metadata": {
        "colab": {
          "base_uri": "https://localhost:8080/"
        },
        "id": "UdAYVE62SY-n",
        "outputId": "5aa8e39e-0d8a-48a9-ac00-7b9e7f38c2d5"
      },
      "source": [
        "c = a and b\r\n",
        "print('A e B são iguais é:', c) # para usar aspas dentro da string, usar aspas duplas por fora e dentro simples: \"'A' e 'B' são iguais é\""
      ],
      "execution_count": null,
      "outputs": [
        {
          "output_type": "stream",
          "text": [
            "A e B são iguais é: False\n"
          ],
          "name": "stdout"
        }
      ]
    },
    {
      "cell_type": "code",
      "metadata": {
        "colab": {
          "base_uri": "https://localhost:8080/"
        },
        "id": "8AcQBmCOTF1Z",
        "outputId": "9434e322-29c9-435e-8643-3d5ce99e033b"
      },
      "source": [
        "a or b"
      ],
      "execution_count": null,
      "outputs": [
        {
          "output_type": "execute_result",
          "data": {
            "text/plain": [
              "True"
            ]
          },
          "metadata": {
            "tags": []
          },
          "execution_count": 41
        }
      ]
    },
    {
      "cell_type": "code",
      "metadata": {
        "colab": {
          "base_uri": "https://localhost:8080/"
        },
        "id": "ik6TdaG0TFoy",
        "outputId": "8d526c32-1076-439a-d716-ce05dbce44fb"
      },
      "source": [
        "a | b"
      ],
      "execution_count": null,
      "outputs": [
        {
          "output_type": "execute_result",
          "data": {
            "text/plain": [
              "True"
            ]
          },
          "metadata": {
            "tags": []
          },
          "execution_count": 42
        }
      ]
    },
    {
      "cell_type": "code",
      "metadata": {
        "colab": {
          "base_uri": "https://localhost:8080/"
        },
        "id": "nSUqvbw7TLU5",
        "outputId": "a04f9af4-53de-4e36-dacd-9237984772cc"
      },
      "source": [
        "d = a or b\r\n",
        "print(\"'A' ou 'B' é igual a\", d)"
      ],
      "execution_count": null,
      "outputs": [
        {
          "output_type": "stream",
          "text": [
            "'A' ou 'B' é igual a True\n"
          ],
          "name": "stdout"
        }
      ]
    },
    {
      "cell_type": "code",
      "metadata": {
        "colab": {
          "base_uri": "https://localhost:8080/"
        },
        "id": "jZnONkLdTY2m",
        "outputId": "df2c1d1d-d5de-4b1e-f161-cc6f8e06f792"
      },
      "source": [
        "not a"
      ],
      "execution_count": null,
      "outputs": [
        {
          "output_type": "execute_result",
          "data": {
            "text/plain": [
              "False"
            ]
          },
          "metadata": {
            "tags": []
          },
          "execution_count": 44
        }
      ]
    },
    {
      "cell_type": "code",
      "metadata": {
        "colab": {
          "base_uri": "https://localhost:8080/"
        },
        "id": "dlza3LrSTYsh",
        "outputId": "29ab0470-e97f-4bed-9c74-bdd35e4230f3"
      },
      "source": [
        "not b"
      ],
      "execution_count": null,
      "outputs": [
        {
          "output_type": "execute_result",
          "data": {
            "text/plain": [
              "True"
            ]
          },
          "metadata": {
            "tags": []
          },
          "execution_count": 45
        }
      ]
    },
    {
      "cell_type": "markdown",
      "metadata": {
        "id": "AZIb3g9bR86B"
      },
      "source": [
        "## 4.2 Operadores relacionais"
      ]
    },
    {
      "cell_type": "code",
      "metadata": {
        "colab": {
          "base_uri": "https://localhost:8080/"
        },
        "id": "qYzMd7NWSAC6",
        "outputId": "45f438c1-f020-4baa-f536-d1aafeae0593"
      },
      "source": [
        "5 > 3"
      ],
      "execution_count": null,
      "outputs": [
        {
          "output_type": "execute_result",
          "data": {
            "text/plain": [
              "True"
            ]
          },
          "metadata": {
            "tags": []
          },
          "execution_count": 46
        }
      ]
    },
    {
      "cell_type": "code",
      "metadata": {
        "colab": {
          "base_uri": "https://localhost:8080/"
        },
        "id": "WT2loC6sTwDJ",
        "outputId": "ca339bf5-3613-4aeb-fdd4-fe81815fd58c"
      },
      "source": [
        "5 < 3"
      ],
      "execution_count": null,
      "outputs": [
        {
          "output_type": "execute_result",
          "data": {
            "text/plain": [
              "False"
            ]
          },
          "metadata": {
            "tags": []
          },
          "execution_count": 47
        }
      ]
    },
    {
      "cell_type": "code",
      "metadata": {
        "colab": {
          "base_uri": "https://localhost:8080/"
        },
        "id": "ndaf0QYUTv-n",
        "outputId": "978a7ae3-4c60-44d3-b218-5ea51d448f76"
      },
      "source": [
        "5 >= 5"
      ],
      "execution_count": null,
      "outputs": [
        {
          "output_type": "execute_result",
          "data": {
            "text/plain": [
              "True"
            ]
          },
          "metadata": {
            "tags": []
          },
          "execution_count": 48
        }
      ]
    },
    {
      "cell_type": "code",
      "metadata": {
        "colab": {
          "base_uri": "https://localhost:8080/"
        },
        "id": "a3-x9u2ATv6k",
        "outputId": "333ba4a4-d3b3-4011-fd60-1c777cfaff85"
      },
      "source": [
        "5 <= 3"
      ],
      "execution_count": null,
      "outputs": [
        {
          "output_type": "execute_result",
          "data": {
            "text/plain": [
              "False"
            ]
          },
          "metadata": {
            "tags": []
          },
          "execution_count": 49
        }
      ]
    },
    {
      "cell_type": "code",
      "metadata": {
        "colab": {
          "base_uri": "https://localhost:8080/"
        },
        "id": "J_Ro5BLgTv2t",
        "outputId": "4debee5a-def2-4fe6-da64-9bc6b0e05efb"
      },
      "source": [
        "5 == 3"
      ],
      "execution_count": null,
      "outputs": [
        {
          "output_type": "execute_result",
          "data": {
            "text/plain": [
              "False"
            ]
          },
          "metadata": {
            "tags": []
          },
          "execution_count": 50
        }
      ]
    },
    {
      "cell_type": "code",
      "metadata": {
        "colab": {
          "base_uri": "https://localhost:8080/"
        },
        "id": "s4UV3vQqTvyQ",
        "outputId": "6432a9af-f3b1-4438-ee5e-48d1e915c8ea"
      },
      "source": [
        "5 != 3"
      ],
      "execution_count": null,
      "outputs": [
        {
          "output_type": "execute_result",
          "data": {
            "text/plain": [
              "True"
            ]
          },
          "metadata": {
            "tags": []
          },
          "execution_count": 51
        }
      ]
    },
    {
      "cell_type": "markdown",
      "metadata": {
        "id": "uI6xc4D3UFi_"
      },
      "source": [
        "## 4.3 Operadores condicionais - if, else"
      ]
    },
    {
      "cell_type": "code",
      "metadata": {
        "colab": {
          "base_uri": "https://localhost:8080/"
        },
        "id": "CMfzpu60Tvt1",
        "outputId": "0b870009-0c7d-4fa6-eb60-25e3828782a4"
      },
      "source": [
        "if 5 > 3:\r\n",
        "  print('5 é maior que 3')"
      ],
      "execution_count": null,
      "outputs": [
        {
          "output_type": "stream",
          "text": [
            "5 é maior que 3\n"
          ],
          "name": "stdout"
        }
      ]
    },
    {
      "cell_type": "code",
      "metadata": {
        "colab": {
          "base_uri": "https://localhost:8080/"
        },
        "id": "6eWtJ2-LVF3F",
        "outputId": "8f89928f-1a4c-4bbe-c14f-b1fe7d5de5f4"
      },
      "source": [
        "# 2 condições:\r\n",
        "if 5 > 6:\r\n",
        "  print('5 é maior')\r\n",
        "else:\r\n",
        "  print('5 não é maior')"
      ],
      "execution_count": null,
      "outputs": [
        {
          "output_type": "stream",
          "text": [
            "5 não é maior\n"
          ],
          "name": "stdout"
        }
      ]
    },
    {
      "cell_type": "code",
      "metadata": {
        "colab": {
          "base_uri": "https://localhost:8080/"
        },
        "id": "C3e2mCRpTvnF",
        "outputId": "899e85b6-7468-4972-a563-fdad7a6ab0e5"
      },
      "source": [
        "# mais de 2 condições:\r\n",
        "n = 9\r\n",
        "if n == 4:\r\n",
        "  print('n é igual a 4')\r\n",
        "else:\r\n",
        "  if n == 3:\r\n",
        "    print('n é igual a 3')\r\n",
        "  else:\r\n",
        "    print('n não é igual a 4 nem 3')"
      ],
      "execution_count": null,
      "outputs": [
        {
          "output_type": "stream",
          "text": [
            "n não é igual a 4 nem 3\n"
          ],
          "name": "stdout"
        }
      ]
    },
    {
      "cell_type": "code",
      "metadata": {
        "colab": {
          "base_uri": "https://localhost:8080/"
        },
        "id": "p-CIpoUSTvfz",
        "outputId": "fb055d14-0c86-4b0d-cb16-36c792afcbe7"
      },
      "source": [
        "x = 4\r\n",
        "y = 3\r\n",
        "if (x > 1) and (y % 2 == 0):\r\n",
        "  print('x é maior que 2 e y é par.')\r\n",
        "else:\r\n",
        "  print('Uma apenas ou nenhuma das condições foram satisfeitas.')"
      ],
      "execution_count": null,
      "outputs": [
        {
          "output_type": "stream",
          "text": [
            "Uma apenas ou nenhuma das condições foram satisfeitas.\n"
          ],
          "name": "stdout"
        }
      ]
    },
    {
      "cell_type": "markdown",
      "metadata": {
        "id": "CLSlb0IHWo4-"
      },
      "source": [
        "#### **Exercicios de fixação**"
      ]
    },
    {
      "cell_type": "markdown",
      "metadata": {
        "id": "q8SgsDfLWr1F"
      },
      "source": [
        "1. Leia a idade do usuário e classifique-o em:\r\n",
        "* Criança – 0 a 12 anos\r\n",
        "* Adolescente – 13 a 17 anos\r\n",
        "* Adulto – acima de 18 anos\r\n",
        "* Se o usuário digitar um número negativo, mostrar a mensagem que a idade é inválida."
      ]
    },
    {
      "cell_type": "code",
      "metadata": {
        "colab": {
          "base_uri": "https://localhost:8080/"
        },
        "id": "b97SyIAWXAry",
        "outputId": "a570872e-37ff-4d39-c1db-54351a3887dd"
      },
      "source": [
        "idade = int(input('Digite sua idade: '))\r\n",
        "if (idade <= 12):\r\n",
        "  print(f'Sua idade é {idade}, portanto, Criança.')\r\n",
        "elif (idade >= 13 and idade <= 18):\r\n",
        "  print(f'Sua idade é {idade}, portanto, Adolescente.')\r\n",
        "elif (idade > 18):\r\n",
        "  print(f'Sua idade é {idade}, portanto, Adulto.')\r\n",
        "else:\r\n",
        "  print('Idade inválida. Digite novamente.')"
      ],
      "execution_count": null,
      "outputs": [
        {
          "output_type": "stream",
          "text": [
            "Digite sua idade: 45\n",
            "Sua idade é 45, portanto, Adulto.\n"
          ],
          "name": "stdout"
        }
      ]
    },
    {
      "cell_type": "markdown",
      "metadata": {
        "id": "MU5Or89iXBXe"
      },
      "source": [
        "2. Calcular a média de um aluno que cursou a disciplina de Programação I, a partir da leitura das notas M1, M2 e M3; passando por um cálculo da média aritmética. Após a média calculada, devemos anunciar se o aluno foi aprovado, reprovado ou pegou exame:\r\n",
        "* Se a média estiver entre 0.0 e 4.0, o aluno está reprovado\r\n",
        "* Se a média estiver entre 4.1 e 6.0, o aluno pegou exame\r\n",
        "* Se a média for maior do que 6.0, o aluno está aprovado\r\n",
        "* Se o aluno pegou exame, deve ser lida a nota do exame. Se a nota do exame for maior do que 6.0, está aprovado, senão; está reprovado."
      ]
    },
    {
      "cell_type": "code",
      "metadata": {
        "id": "LaRjy0ChW7aO"
      },
      "source": [
        "m1 = float(input('Digite a primeira nota: '))\r\n",
        "m2 = float(input('Digite a segunda nota: '))\r\n",
        "m3 = float(input('Digite a terceira nota: '))\r\n",
        "media = (m1 + m2 + m3)/3\r\n",
        "print('Sua média é', round(media, 2))\r\n",
        "if (media <= 4.0):\r\n",
        "  print('Você reprovou!')\r\n",
        "elif (media >= 4.1 and media <= 6.0):\r\n",
        "  print('Você pegou exame!')\r\n",
        "  exame = float(input('Digite a nota do seu exame: '))\r\n",
        "  if (exame > 6.0):\r\n",
        "    print('Você está aprovado no exame!')\r\n",
        "  else:\r\n",
        "    print('Você reprovou no exame!')\r\n",
        "elif (media > 6.0):\r\n",
        "  print('Você está aprovado!')"
      ],
      "execution_count": null,
      "outputs": []
    },
    {
      "cell_type": "markdown",
      "metadata": {
        "id": "lg2dJZt7dEvK"
      },
      "source": [
        "# Aula 5. Estruturas de repetição"
      ]
    },
    {
      "cell_type": "markdown",
      "metadata": {
        "id": "AKJyPbxZdMYn"
      },
      "source": [
        "## 5.1 Estrutura de repetição - For"
      ]
    },
    {
      "cell_type": "code",
      "metadata": {
        "id": "fbck73-ramxx"
      },
      "source": [
        "for numero in range(1,5): #imprime de 1 a 4, o ultimo numero não imprime!\r\n",
        "  print(numero)"
      ],
      "execution_count": null,
      "outputs": []
    },
    {
      "cell_type": "code",
      "metadata": {
        "id": "t0jw6x7UdVpM"
      },
      "source": [
        "for numero in range(5, 0, -1): # o terceiro parametro é o step, de quantos em quantos\r\n",
        "  print(numero)"
      ],
      "execution_count": null,
      "outputs": []
    },
    {
      "cell_type": "code",
      "metadata": {
        "id": "48b4B9kKdVf3"
      },
      "source": [
        "soma = 0\r\n",
        "for numero in range (1, 6):\r\n",
        "  soma = soma + numero\r\n",
        "  print(soma)\r\n",
        "print(soma)"
      ],
      "execution_count": null,
      "outputs": []
    },
    {
      "cell_type": "code",
      "metadata": {
        "id": "hGb2kX5RhIx-"
      },
      "source": [
        "# como utilizar o for para percorrer strings:\r\n",
        "palavra = 'sorvete'\r\n",
        "for letra in palavra:\r\n",
        "  print(letra)\r\n",
        "  if letra == 'v':\r\n",
        "    print('Achou a letra v!')"
      ],
      "execution_count": null,
      "outputs": []
    },
    {
      "cell_type": "code",
      "metadata": {
        "id": "ywnK0BBSho1I"
      },
      "source": [
        "# como utilizar o for aninhado, excelente para percorrer matrizes\r\n",
        "for i in range(0,5):\r\n",
        "  print(i)\r\n",
        "  print('---')\r\n",
        "  for j in range (0,3): # para cada i impresso, ele vai imprimir 0, 1 e 2\r\n",
        "    print(j)\r\n",
        "  print()"
      ],
      "execution_count": null,
      "outputs": []
    },
    {
      "cell_type": "markdown",
      "metadata": {
        "id": "82OrHjzrdWPu"
      },
      "source": [
        "## 5.2 Estrutura de repetição - While"
      ]
    },
    {
      "cell_type": "code",
      "metadata": {
        "id": "RBCrGnGuicmj"
      },
      "source": [
        "# sempre que trabalhar com while precisa usar um break, senão vai ficar rodando até o final da memoria!\r\n",
        "# SEMPRE definir uma variavel fora do while\r\n",
        "numero = 1 \r\n",
        "while numero < 6: # SEMPRE definir uma condição\r\n",
        "  print(numero)\r\n",
        "  numero += 1 # SEMPRE colocar um incremento para evitar o loop infinito!!!!!!!!!!!  \r\n",
        "print('- - -')"
      ],
      "execution_count": null,
      "outputs": []
    },
    {
      "cell_type": "code",
      "metadata": {
        "id": "-dbaUwFPdYx7"
      },
      "source": [
        "# while invertido\r\n",
        "numero = 5\r\n",
        "while numero > 0:\r\n",
        "  print(numero)\r\n",
        "  numero -= 1"
      ],
      "execution_count": null,
      "outputs": []
    },
    {
      "cell_type": "code",
      "metadata": {
        "id": "bJJC6wV2q5GM"
      },
      "source": [
        "soma = 0\r\n",
        "numero = 1\r\n",
        "while numero < 6:\r\n",
        "  soma += numero\r\n",
        "  print(soma)\r\n",
        "  numero += 1\r\n",
        "  print(numero)\r\n",
        "  ('...')\r\n",
        "print(soma)"
      ],
      "execution_count": null,
      "outputs": []
    },
    {
      "cell_type": "code",
      "metadata": {
        "id": "tSruQ95udY-H"
      },
      "source": [
        "# usando o while quando o usuario precisa digitar algum input\r\n",
        "# semelhante a uma validação do input do usuario\r\n",
        "numero = -1\r\n",
        "while numero < 1 or numero > 10:\r\n",
        "  numero = int(input('Digite um numerode 1 a 10: ')) # enquanto o usuario digitar qualquer numero fora do range, ele vai continuar executando...\r\n",
        "# enquanto a condição for FALSA, ele continua executando o loop.\r\n",
        "# quando a condição for VERDADEIRA, ele pára a execução"
      ],
      "execution_count": null,
      "outputs": []
    },
    {
      "cell_type": "markdown",
      "metadata": {
        "id": "Kq8m97FMvGF9"
      },
      "source": [
        "#### **Exercicios de fixação**"
      ]
    },
    {
      "cell_type": "markdown",
      "metadata": {
        "id": "utZVXDbsvJfZ"
      },
      "source": [
        "1. Ler 5 notas e informar a média."
      ]
    },
    {
      "cell_type": "code",
      "metadata": {
        "id": "qxIrr6RBvSY7"
      },
      "source": [
        "# usando FOR:\r\n",
        "soma_notas = 0\r\n",
        "n_notas = 5\r\n",
        "for _ in range(n_notas): # usa-se _ para substituir a definição de alguma variavel que não vai ser utilizada posteriormente, apenas para percorrer o FOR\r\n",
        "  soma_notas = float(input('Digite uma nota: ')) + soma_notas\r\n",
        "  # print(soma_notas)\r\n",
        "media = soma_notas / n_notas\r\n",
        "print(f'A média é {media}.')"
      ],
      "execution_count": null,
      "outputs": []
    },
    {
      "cell_type": "code",
      "metadata": {
        "id": "uumqQ9JHzg8C"
      },
      "source": [
        "# usando o WHILE:\r\n",
        "numero = 1\r\n",
        "while numero <= 5:\r\n",
        "  nota = float(input(\"Digite a nota: \"))\r\n",
        "  soma += nota\r\n",
        "  numero += 1\r\n",
        "print('A média é ', soma/5)"
      ],
      "execution_count": null,
      "outputs": []
    },
    {
      "cell_type": "markdown",
      "metadata": {
        "id": "VX-FEJSqvPCH"
      },
      "source": [
        "2. Imprimir a tabuada do número 3 (3 x 1 = 1 – 3 x 10 = 30)"
      ]
    },
    {
      "cell_type": "code",
      "metadata": {
        "id": "YHTiOpaTwlJ5"
      },
      "source": [
        " # usando FOR:\r\n",
        "valor = int(input('Digite um numero para ver a tabuada: '))\r\n",
        "for numero in range (1, 11):\r\n",
        "  print(f'{valor} x {numero} = {valor * numero}')"
      ],
      "execution_count": null,
      "outputs": []
    },
    {
      "cell_type": "code",
      "metadata": {
        "id": "WFgYKbGb1yIa"
      },
      "source": [
        "# usando WHILE:\r\n",
        "numero_tabuada = 1\r\n",
        "while numero_tabuada <= 10:\r\n",
        "  print('3 x {} = {}'.format(numero_tabuada, 3 * numero_tabuada))\r\n",
        "  numero_tabuada += 1"
      ],
      "execution_count": null,
      "outputs": []
    },
    {
      "cell_type": "markdown",
      "metadata": {
        "id": "GTZar3DX3TL-"
      },
      "source": [
        "# Aula 6. Coleções"
      ]
    },
    {
      "cell_type": "markdown",
      "metadata": {
        "id": "6rVTA_nn3ZtL"
      },
      "source": [
        "## 6.1 Tuplas - usa ( )"
      ]
    },
    {
      "cell_type": "code",
      "metadata": {
        "id": "UdsAC13a3pnh"
      },
      "source": [
        "tupla = ('Homo sapiens', 'Canis familiaris', 'Felis catus')\r\n",
        "tupla"
      ],
      "execution_count": null,
      "outputs": []
    },
    {
      "cell_type": "code",
      "metadata": {
        "id": "JieQyIQy341j"
      },
      "source": [
        "# traz o conteudo na posição 1\r\n",
        "tupla[1]"
      ],
      "execution_count": null,
      "outputs": []
    },
    {
      "cell_type": "code",
      "metadata": {
        "id": "u1ek3vQ434qb"
      },
      "source": [
        "# mostra em que posição está determinado item\r\n",
        "tupla.index('Canis familiaris')"
      ],
      "execution_count": null,
      "outputs": []
    },
    {
      "cell_type": "code",
      "metadata": {
        "id": "0TXDd1GD4bsI"
      },
      "source": [
        "# verificar cada um dos elementos dentro da lista\r\n",
        "for elemento in tupla:\r\n",
        "  print(elemento)"
      ],
      "execution_count": null,
      "outputs": []
    },
    {
      "cell_type": "markdown",
      "metadata": {
        "id": "K1fjU49y3Z42"
      },
      "source": [
        "## 6.2 Listas - usa [ ] e permite armazenar mais valores"
      ]
    },
    {
      "cell_type": "code",
      "metadata": {
        "id": "AAGOiONl3qYf"
      },
      "source": [
        "lista_1 = ['Homo sapiens', 'Canis familiaris', 'Felis catus']\r\n",
        "lista_2 = ['Xenopus laevis', 'Ailuropoda melanoleuca']\r\n",
        "lista_3 = lista_1 + lista_2\r\n",
        "print(lista_3)"
      ],
      "execution_count": null,
      "outputs": []
    },
    {
      "cell_type": "code",
      "metadata": {
        "id": "e7AdJtx05RJV"
      },
      "source": [
        "# é possível multiplicar ou replicar o conteúdo de uma lista\r\n",
        "lista_2_2 = lista_2 * 2\r\n",
        "print(lista_2_2)"
      ],
      "execution_count": null,
      "outputs": []
    },
    {
      "cell_type": "code",
      "metadata": {
        "id": "1HIfDZVX5iS3"
      },
      "source": [
        "# para visualizar apenas o elemento do indice 0\r\n",
        "lista_1[0]"
      ],
      "execution_count": null,
      "outputs": []
    },
    {
      "cell_type": "code",
      "metadata": {
        "id": "ymyUpOCX5w7X"
      },
      "source": [
        "# para visualizar mais de um elemento na lista\r\n",
        "lista_1[0:2] # lembrando que ele não traz o último!!!!!!!!!!!"
      ],
      "execution_count": null,
      "outputs": []
    },
    {
      "cell_type": "code",
      "metadata": {
        "id": "vTt7xQT66B6S"
      },
      "source": [
        "# adicionando itens na lista\r\n",
        "lista_1.append('Gorila gorila')\r\n",
        "print(lista_1)"
      ],
      "execution_count": null,
      "outputs": []
    },
    {
      "cell_type": "code",
      "metadata": {
        "id": "mQpgKp-X5iHI"
      },
      "source": [
        "# removendo algum item desta lista\r\n",
        "lista_1.remove('Gorila gorila')\r\n",
        "print(lista_1)"
      ],
      "execution_count": null,
      "outputs": []
    },
    {
      "cell_type": "code",
      "metadata": {
        "id": "v05PJL6g6X4G"
      },
      "source": [
        "# para deletar uma lista\r\n",
        "del(lista_2)\r\n",
        "print(lista_3)"
      ],
      "execution_count": null,
      "outputs": []
    },
    {
      "cell_type": "code",
      "metadata": {
        "id": "C6dHh9cf6msS"
      },
      "source": [
        "# para percorrer cada um dos elementos de uma lista, pode-se usar o FOR\r\n",
        "for item in lista_2_2:\r\n",
        "  print(item)"
      ],
      "execution_count": null,
      "outputs": []
    },
    {
      "cell_type": "markdown",
      "metadata": {
        "id": "RmjcvlQ83aBz"
      },
      "source": [
        "## 6.3 Dicionários - usam { } e carregam o conceito de chave e valor"
      ]
    },
    {
      "cell_type": "code",
      "metadata": {
        "id": "0f20fOBR3rT3"
      },
      "source": [
        "coleta = {'Aedes aegypt': 32, 'Aedes albopictus': 22, 'Anopheles darlingi': 14}"
      ],
      "execution_count": null,
      "outputs": []
    },
    {
      "cell_type": "code",
      "metadata": {
        "id": "w66pCzKt-J_3"
      },
      "source": [
        "coleta['Aedes aegypt']"
      ],
      "execution_count": null,
      "outputs": []
    },
    {
      "cell_type": "code",
      "metadata": {
        "id": "cPqPNhL7-QCx"
      },
      "source": [
        "# para adicionar um novo item no dicionario\r\n",
        "coleta['Rhodnius montenegrensis'] = 11\r\n",
        "print(coleta)"
      ],
      "execution_count": null,
      "outputs": []
    },
    {
      "cell_type": "code",
      "metadata": {
        "id": "YkoSfvO3-P5I"
      },
      "source": [
        "# para apagar um item\r\n",
        "del(coleta)['Rhodnius montenegrensis']\r\n",
        "print(coleta)"
      ],
      "execution_count": null,
      "outputs": []
    },
    {
      "cell_type": "code",
      "metadata": {
        "id": "6j_YcJU_-ssb"
      },
      "source": [
        "# para visualizar os itens do dicionario\r\n",
        "coleta.items()"
      ],
      "execution_count": null,
      "outputs": []
    },
    {
      "cell_type": "code",
      "metadata": {
        "id": "BZ6EPRnQ-PvY"
      },
      "source": [
        "# para visualizar as chaves do dicionario\r\n",
        "coleta.keys()"
      ],
      "execution_count": null,
      "outputs": []
    },
    {
      "cell_type": "code",
      "metadata": {
        "id": "mwjaBdQs-7bB"
      },
      "source": [
        "# para visualizar os valores no dicionario\r\n",
        "coleta.values()"
      ],
      "execution_count": null,
      "outputs": []
    },
    {
      "cell_type": "code",
      "metadata": {
        "id": "HCAvIRWi-7RX"
      },
      "source": [
        "# juntar 2 dicionarios\r\n",
        "coleta2 = {'Anopheles gambiae': 13, 'Anopheles daeneorum': 14}"
      ],
      "execution_count": null,
      "outputs": []
    },
    {
      "cell_type": "code",
      "metadata": {
        "id": "_KJCuCwo_fXw"
      },
      "source": [
        "# após criar o novo dicionario\r\n",
        "coleta.update(coleta2) # primeiro dicionario + metodo update e como parametro o dicionario a ser incorporado no primeiro\r\n",
        "print(coleta)"
      ],
      "execution_count": null,
      "outputs": []
    },
    {
      "cell_type": "code",
      "metadata": {
        "id": "daT95c4w_5t7"
      },
      "source": [
        "# ver todos os itens agora com os 2 dicionarios adicionados\r\n",
        "coleta.items()"
      ],
      "execution_count": null,
      "outputs": []
    },
    {
      "cell_type": "code",
      "metadata": {
        "id": "wBSG-2Fm_1En"
      },
      "source": [
        "for especie, num_especimes in coleta.items(): # especie é a chave, num_especimes é o valor\r\n",
        "  print(f'Espécie: {especie} | Número de especimes: {num_especimes}.')"
      ],
      "execution_count": null,
      "outputs": []
    },
    {
      "cell_type": "markdown",
      "metadata": {
        "id": "XgeFWXp83aJX"
      },
      "source": [
        "## 6.4 Conjuntos (set)"
      ]
    },
    {
      "cell_type": "code",
      "metadata": {
        "id": "XuUREJEi3r3u"
      },
      "source": [
        "biomoleculas = ('proteina', 'ácidos nucleicos', 'carboidrato', 'lipídeo', 'ácidos nucleicos', 'carboidrato', 'carboidrato', 'carboidrato')\r\n",
        "print(biomoleculas)"
      ],
      "execution_count": null,
      "outputs": []
    },
    {
      "cell_type": "code",
      "metadata": {
        "id": "4dG0gAv4BPv1"
      },
      "source": [
        "print(set(biomoleculas)) # vai trazer apenas os itens únicos, sem repetição"
      ],
      "execution_count": null,
      "outputs": []
    },
    {
      "cell_type": "code",
      "metadata": {
        "id": "qZe67NsaBPj5"
      },
      "source": [
        "conj1 = {1,2,3,4,5}\r\n",
        "conj2 = {3,4,5,6,7}\r\n",
        "conj3 = conj1.intersection(conj2) # a função intersection vai trazer apenas os itens que estão presentes nos 2 conjuntos analisados\r\n",
        "print(conj3)"
      ],
      "execution_count": null,
      "outputs": []
    },
    {
      "cell_type": "code",
      "metadata": {
        "id": "YpxnCGuRBPX6"
      },
      "source": [
        "# calculo da diferença entre os conjuntos - vai retornar apenas os itens que estão presentes no C1 mas NÃO ESTÃO NO c2\r\n",
        "conj1.difference(conj2)"
      ],
      "execution_count": null,
      "outputs": []
    },
    {
      "cell_type": "code",
      "metadata": {
        "id": "bBqATrnbDUka"
      },
      "source": [
        "conj2.difference(conj1) # vai trazer apenas os itens que estão presentes no C2 mas nao estão no C1"
      ],
      "execution_count": null,
      "outputs": []
    },
    {
      "cell_type": "markdown",
      "metadata": {
        "id": "7lhM23znD5EI"
      },
      "source": [
        "## 6.5 Matrizes - precisa da biblioteca Numpy para processamento dos calculos matematicos"
      ]
    },
    {
      "cell_type": "code",
      "metadata": {
        "id": "LTQnPXeDDUa2"
      },
      "source": [
        "import numpy as np"
      ],
      "execution_count": null,
      "outputs": []
    },
    {
      "cell_type": "code",
      "metadata": {
        "id": "RKQC9_JIDUOx"
      },
      "source": [
        "matriz = np.array([[2, 3, 1], \r\n",
        "                   [4, 5, 7]]) # 2 linhas e 3 colunas\r\n",
        "matriz"
      ],
      "execution_count": null,
      "outputs": []
    },
    {
      "cell_type": "code",
      "metadata": {
        "id": "TujVwsBFE0bm"
      },
      "source": [
        "# traz o formato da matriz\r\n",
        "matriz.shape "
      ],
      "execution_count": null,
      "outputs": []
    },
    {
      "cell_type": "code",
      "metadata": {
        "id": "J0sPlW_WE2XZ"
      },
      "source": [
        "# traz tudo que ocupa a posição 0 dentro do array\r\n",
        "matriz [0] "
      ],
      "execution_count": null,
      "outputs": []
    },
    {
      "cell_type": "code",
      "metadata": {
        "id": "wG7imonNE0Q0"
      },
      "source": [
        "# traz tudo que ocupa a posição 1 dentro do array\r\n",
        "matriz[1]"
      ],
      "execution_count": null,
      "outputs": []
    },
    {
      "cell_type": "code",
      "metadata": {
        "id": "73seJnISFUUN"
      },
      "source": [
        "# traz de dentro do conjunto da posição 0, o elemento na posição 1\r\n",
        "matriz[0][2]"
      ],
      "execution_count": null,
      "outputs": []
    },
    {
      "cell_type": "code",
      "metadata": {
        "id": "P1ltnipqFUJB"
      },
      "source": [
        "# traz de dentro do conjunto da posição 1, o elemento na posição 2\r\n",
        "matriz[1][2]"
      ],
      "execution_count": null,
      "outputs": []
    },
    {
      "cell_type": "code",
      "metadata": {
        "id": "g0oKuiQPGABq"
      },
      "source": [
        "# percorrer todos os elementos do array\r\n",
        "for i in range(matriz.shape[0]): # vai percorrer as linhas\r\n",
        "  print(matriz[i])\r\n",
        "  for j in range(matriz.shape[1]): # vai percorrer as colunas dentro de cada um dos i = cada linha\r\n",
        "    print(matriz[i][j])"
      ],
      "execution_count": null,
      "outputs": []
    },
    {
      "cell_type": "markdown",
      "metadata": {
        "id": "tAzWOfR8G6tp"
      },
      "source": [
        "#### **Exercicios de fixação**"
      ]
    },
    {
      "cell_type": "markdown",
      "metadata": {
        "id": "_MhfGOOdG_QW"
      },
      "source": [
        "1. **Lista**: Crie uma estrutura de repetição para fazer a leitura de 5 números inteiros e os armazene dentro de uma lista. Após a leitura, crie outra estrutura de repetição para somar todos os valores digitados"
      ]
    },
    {
      "cell_type": "code",
      "metadata": {
        "id": "7Aa1mqjrHW2J"
      },
      "source": [
        "lista = []\r\n",
        "for i in range(0, 5):\r\n",
        "  numero = int(input(\"Digite um numero: \"))\r\n",
        "  lista.append(numero)\r\n",
        "print(lista)\r\n",
        "\r\n",
        "# usando FOR\r\n",
        "soma = 0\r\n",
        "for item in lista:\r\n",
        "  soma += item\r\n",
        "print(soma)"
      ],
      "execution_count": null,
      "outputs": []
    },
    {
      "cell_type": "code",
      "metadata": {
        "id": "v-cBxkGwRn5V"
      },
      "source": [
        "# usando NUMPY\r\n",
        "import numpy as np\r\n",
        "np.array(lista).sum()"
      ],
      "execution_count": null,
      "outputs": []
    },
    {
      "cell_type": "markdown",
      "metadata": {
        "id": "05V6eGVdHCMG"
      },
      "source": [
        "2. **Dicionário**: Crie um dicionário para armazenar o nome e a nota de 3 alunos, fazendo a leitura dos valores por meio de uma estrutura de repetição. Depois, crie uma nova estrutura de repetição para somar todas as notas e retornar a média"
      ]
    },
    {
      "cell_type": "code",
      "metadata": {
        "id": "9NZC3MynHXrR"
      },
      "source": [
        "alunos = {}\r\n",
        "for item in range(1, 4):\r\n",
        "  nome = str(input('Digite o nome do aluno: '))\r\n",
        "  nota = float(input('Digite a nota: '))\r\n",
        "  alunos[nome] = nota\r\n",
        "print(alunos)"
      ],
      "execution_count": null,
      "outputs": []
    },
    {
      "cell_type": "code",
      "metadata": {
        "id": "jC-8ETODUBxF"
      },
      "source": [
        "# qual a nota da Ana?\r\n",
        "alunos['ana']"
      ],
      "execution_count": null,
      "outputs": []
    },
    {
      "cell_type": "code",
      "metadata": {
        "id": "QgtpOGgbTQ_n"
      },
      "source": [
        "# cálculo da média\r\n",
        "soma = 0\r\n",
        "for i in alunos.values():\r\n",
        "  soma += i\r\n",
        "media = soma / 3\r\n",
        "print(f'Média: {media}')"
      ],
      "execution_count": null,
      "outputs": []
    },
    {
      "cell_type": "markdown",
      "metadata": {
        "id": "97-_TQYbHCVW"
      },
      "source": [
        "3. **Matriz**: Dada a matriz abaixo, construa uma estrutura de repetição para percorrer e somar todos os elementos da matriz\r\n",
        "matriz = np.array([[3, 4, 1], [3, 1, 5]])"
      ]
    },
    {
      "cell_type": "code",
      "metadata": {
        "id": "EXBekVVmF_sD"
      },
      "source": [
        "matrizz = np.array([[3, 4, 1], [3, 1, 5]])"
      ],
      "execution_count": null,
      "outputs": []
    },
    {
      "cell_type": "code",
      "metadata": {
        "id": "JAzKtQfDE0FO"
      },
      "source": [
        "total = 0\r\n",
        "for i in range(matrizz.shape[0]):\r\n",
        "  for j in range(matrizz.shape[1]):\r\n",
        "    total += matrizz[i][j]\r\n",
        "print(f'Soma dos valores é {total}.')"
      ],
      "execution_count": null,
      "outputs": []
    },
    {
      "cell_type": "markdown",
      "metadata": {
        "id": "gRtwwzfoXTIb"
      },
      "source": [
        "# Aula 7. Funções"
      ]
    },
    {
      "cell_type": "markdown",
      "metadata": {
        "id": "h0CWKEwn6CT7"
      },
      "source": [
        "## 7.1 Funções sem parâmetro e sem retorno"
      ]
    },
    {
      "cell_type": "code",
      "metadata": {
        "id": "tgXzOtMj6PFq"
      },
      "source": [
        "def mensagem():\r\n",
        "  print('Texto dessa função')"
      ],
      "execution_count": null,
      "outputs": []
    },
    {
      "cell_type": "code",
      "metadata": {
        "id": "6QdFdbw26VDW"
      },
      "source": [
        "mensagem()"
      ],
      "execution_count": null,
      "outputs": []
    },
    {
      "cell_type": "markdown",
      "metadata": {
        "id": "qqFMcXjq6Cj2"
      },
      "source": [
        "## 7.2 Funções com passagem de parâmetro"
      ]
    },
    {
      "cell_type": "code",
      "metadata": {
        "id": "2y6GVeq4-Ms_"
      },
      "source": [
        "def mensagem(texto):\r\n",
        "  print(texto)"
      ],
      "execution_count": null,
      "outputs": []
    },
    {
      "cell_type": "code",
      "metadata": {
        "id": "K93fyTVZ-MZf"
      },
      "source": [
        "mensagem('texto 1')\r\n",
        "mensagem('texto 2')\r\n",
        "mensagem('texto 3')"
      ],
      "execution_count": null,
      "outputs": []
    },
    {
      "cell_type": "code",
      "metadata": {
        "id": "6uY3a-rA-mww"
      },
      "source": [
        "def soma(a, b):\r\n",
        "  print(a + b)"
      ],
      "execution_count": null,
      "outputs": []
    },
    {
      "cell_type": "code",
      "metadata": {
        "id": "Ie-ShpL2-qJ3"
      },
      "source": [
        "soma(2, 4)"
      ],
      "execution_count": null,
      "outputs": []
    },
    {
      "cell_type": "code",
      "metadata": {
        "id": "AokdZthh-twI"
      },
      "source": [
        "soma(3, 3)\r\n",
        "soma(1, 2)"
      ],
      "execution_count": null,
      "outputs": []
    },
    {
      "cell_type": "markdown",
      "metadata": {
        "id": "gJMBrKtZ6CuX"
      },
      "source": [
        "## 7.3 Funções com passagem de parâmetros e retorno"
      ]
    },
    {
      "cell_type": "code",
      "metadata": {
        "id": "Y16q7W1DXWcz"
      },
      "source": [
        "def soma(a, b):\r\n",
        "  return a + b"
      ],
      "execution_count": null,
      "outputs": []
    },
    {
      "cell_type": "code",
      "metadata": {
        "id": "kHVqmDW8-6kX"
      },
      "source": [
        "soma(3, 2)"
      ],
      "execution_count": null,
      "outputs": []
    },
    {
      "cell_type": "code",
      "metadata": {
        "id": "knPeakfd_IC9"
      },
      "source": [
        "# r = 7\r\n",
        "r = soma(3,2) # o que será mostrado será o return a + b\r\n",
        "print(r)"
      ],
      "execution_count": null,
      "outputs": []
    },
    {
      "cell_type": "code",
      "metadata": {
        "id": "tdZ7Gb39-6Zw"
      },
      "source": [
        "def calcula_energia_potencial_gravitacional(m, h, g=10):\r\n",
        "  '''\r\n",
        "  calcula a energia potencial gravitacional\r\n",
        "  m: massa, argumento de entrada como uma variavel float\r\n",
        "  h: altura, argumento de entrada como uma variavl float\r\n",
        "  g: aceleração gravitacional, argumento variavel mas com valor default de 10\r\n",
        "  '''\r\n",
        "  e = g * m * h\r\n",
        "  return e"
      ],
      "execution_count": null,
      "outputs": []
    },
    {
      "cell_type": "code",
      "metadata": {
        "id": "WEzBaNBFSi1F"
      },
      "source": [
        "calcula_energia_potencial_gravitacional(30, 12) # NÃO PRECISA COLOCAR O g PQ ELE JÁ TRAZ POR PADRÃO, JÁ FOI DEFINIDO NA FUNÇÃO."
      ],
      "execution_count": null,
      "outputs": []
    },
    {
      "cell_type": "code",
      "metadata": {
        "id": "ukH8V62lSinc"
      },
      "source": [
        "calcula_energia_potencial_gravitacional(30, 12, 9.8) # aqui o valor de g foi substituido por 9.8"
      ],
      "execution_count": null,
      "outputs": []
    },
    {
      "cell_type": "code",
      "metadata": {
        "id": "xvo_y19qUYxY"
      },
      "source": [
        "help(calcula_energia_potencial_gravitacional)"
      ],
      "execution_count": null,
      "outputs": []
    },
    {
      "cell_type": "markdown",
      "metadata": {
        "id": "3-H7s0G0Vbwt"
      },
      "source": [
        "#### **Exercicios de fixação**"
      ]
    },
    {
      "cell_type": "markdown",
      "metadata": {
        "id": "bg6UiupsVd_z"
      },
      "source": [
        "1. Ler uma temperatura em graus Celsius e apresentá-la convertida em graus Fahrenheit. A fórmula de conversão é F = (9 * C + 160) / 5, na qual F é a temperatura em Fahrenheit e C é a temperatura em graus Celsius:\r\n",
        "- Função para ler e retorna o valor da temperatura (não recebe parâmetro)\r\n",
        "- Função para fazer o cálculo (recebe como parâmetro a temperatura em graus Celsius)\r\n",
        "- Função para mostrar o resultado, recebendo como parâmetro o valor e fazendo a impressão\r\n",
        "\r\n"
      ]
    },
    {
      "cell_type": "code",
      "metadata": {
        "id": "lNEYmXWZVwF5"
      },
      "source": [
        "def ler_temperatura():\r\n",
        "  c = float(input(\"Digite a temperatura em Celsius: \"))\r\n",
        "  return c"
      ],
      "execution_count": null,
      "outputs": []
    },
    {
      "cell_type": "code",
      "metadata": {
        "id": "E6G3qIqwWYxQ"
      },
      "source": [
        "def calcula_temp_fahrenheit(c):\r\n",
        "  f = (9 * c + 160) / 5\r\n",
        "  return f"
      ],
      "execution_count": null,
      "outputs": []
    },
    {
      "cell_type": "code",
      "metadata": {
        "id": "9J0w7zSxWYbc"
      },
      "source": [
        "def resultado(f):\r\n",
        "  print(f)"
      ],
      "execution_count": null,
      "outputs": []
    },
    {
      "cell_type": "code",
      "metadata": {
        "id": "3wZvcwPOWYMX"
      },
      "source": [
        "resultado(calcula_temp_fahrenheit(ler_temperatura()))"
      ],
      "execution_count": null,
      "outputs": []
    },
    {
      "cell_type": "markdown",
      "metadata": {
        "id": "6u6V2MkSVelz"
      },
      "source": [
        "2. Efetuar o cálculo da quantidade de litros de combustível gasto em uma viagem, utilizando um automóvel que faz 12 Km por litro. Para obter o cálculo, o usuário deve fornecer o tempo gasto na viagem e a velocidade média durante ela. Desta forma, será possível obter a distância percorrida com a fórmula DISTANCIA = TEMPO * VELOCIDADE. Tendo o valor da distância, basta calcular a quantidade de litros de combustível utilizada na viagem, com a fórmula: LITROS_USADOS = DISTANCIA / 12. O programa deve apresentar os valores da velocidade média, tempo gasto na viagem, a distância percorrida e a quantidade de litros utilizada na viagem:\r\n",
        "- Função para ler os valores (não recebe parâmetro e retorna os dois valores)\r\n",
        "- Função para calcular a distância (recebe como parâmetro o tempo e a velocidade e retorna a distância)\r\n",
        "- Função para calcular a quantidade de litros (recebe como parâmetro a distância e retorna os litros)\r\n",
        "- Função para apresentar o resultado (recebe como parâmetro os valores e somente imprime o resultado)"
      ]
    },
    {
      "cell_type": "code",
      "metadata": {
        "id": "5NeYTGGDZpRi"
      },
      "source": [
        "def ler_valores():\r\n",
        "  tempo = float(input('Digite o tempo gasto da viagem: '))\r\n",
        "  velocidade = float(input('Digite a velocidade média: '))\r\n",
        "  return tempo, velocidade"
      ],
      "execution_count": null,
      "outputs": []
    },
    {
      "cell_type": "code",
      "metadata": {
        "id": "pzSmbydLZpI2"
      },
      "source": [
        "def calcula_distancia(tempo, velocidade):\r\n",
        "  return tempo * velocidade"
      ],
      "execution_count": null,
      "outputs": []
    },
    {
      "cell_type": "code",
      "metadata": {
        "id": "TH9e6HtFZo-l"
      },
      "source": [
        "def litros_gastos(distancia):\r\n",
        "  return distancia / 12"
      ],
      "execution_count": null,
      "outputs": []
    },
    {
      "cell_type": "code",
      "metadata": {
        "id": "m98A9szQZoz4"
      },
      "source": [
        "def resultado(tempo, velocidade, distancia, litros):\r\n",
        "  print(f'O tempo gasto foi de é {tempo} horas, a velocidade média foi de {velocidade} km/h, a distancia percorrida foi de {distancia} km e o total gasto de gasolina foi de {round(litros,2)} litros.')"
      ],
      "execution_count": null,
      "outputs": []
    },
    {
      "cell_type": "code",
      "metadata": {
        "id": "vudoFahLdnmQ"
      },
      "source": [
        "t, v = ler_valores()\r\n",
        "d = calcula_distancia(t, v)\r\n",
        "l = litros_gastos(d)\r\n",
        "resultado(t, v, d, l)"
      ],
      "execution_count": null,
      "outputs": []
    },
    {
      "cell_type": "markdown",
      "metadata": {
        "id": "BzbOHXWufPKK"
      },
      "source": [
        "# Aula 8. Módulos úteis - math, datetime, random, time\r\n",
        "\r\n"
      ]
    },
    {
      "cell_type": "markdown",
      "metadata": {
        "id": "j2_a3A4VfUou"
      },
      "source": [
        "## 8.1 Biblioteca math \r\n",
        "https://docs.python.org/3/library/math.html "
      ]
    },
    {
      "cell_type": "code",
      "metadata": {
        "id": "LTyRbnrdfedj"
      },
      "source": [
        "import math"
      ],
      "execution_count": null,
      "outputs": []
    },
    {
      "cell_type": "code",
      "metadata": {
        "id": "t0FPa1Ibf6Gc"
      },
      "source": [
        "# raiz quadrada\r\n",
        "math.sqrt(9)"
      ],
      "execution_count": null,
      "outputs": []
    },
    {
      "cell_type": "code",
      "metadata": {
        "id": "cuGUOZ_VgCfF"
      },
      "source": [
        "# seno\r\n",
        "math.sin(45)"
      ],
      "execution_count": null,
      "outputs": []
    },
    {
      "cell_type": "code",
      "metadata": {
        "id": "sRUuORnUf55s"
      },
      "source": [
        "# cosseno\r\n",
        "math.cos(45)"
      ],
      "execution_count": null,
      "outputs": []
    },
    {
      "cell_type": "code",
      "metadata": {
        "id": "L3Nm94Bof5s6"
      },
      "source": [
        "# logaritmo\r\n",
        "math.log(1000, 10)"
      ],
      "execution_count": null,
      "outputs": []
    },
    {
      "cell_type": "code",
      "metadata": {
        "id": "MygeMnCDggVj"
      },
      "source": [
        "# logaritmo sem declarar a base, ele usa por default o número de Euler 2.718281.....\r\n",
        "math.log(1000)"
      ],
      "execution_count": null,
      "outputs": []
    },
    {
      "cell_type": "code",
      "metadata": {
        "id": "vlIo24BgggLO"
      },
      "source": [
        "math.e"
      ],
      "execution_count": null,
      "outputs": []
    },
    {
      "cell_type": "code",
      "metadata": {
        "id": "IS5cpDP8gyQZ"
      },
      "source": [
        "math.pi"
      ],
      "execution_count": null,
      "outputs": []
    },
    {
      "cell_type": "markdown",
      "metadata": {
        "id": "TTfejd_Bg3F-"
      },
      "source": [
        "## 8.2 Biblioteca datetime\r\n",
        "https://docs.python.org/3/library/datetime.html "
      ]
    },
    {
      "cell_type": "code",
      "metadata": {
        "id": "hVyhZ_yCggAL"
      },
      "source": [
        "import datetime"
      ],
      "execution_count": null,
      "outputs": []
    },
    {
      "cell_type": "code",
      "metadata": {
        "id": "vErqkpluhL7_"
      },
      "source": [
        "dir(datetime)"
      ],
      "execution_count": null,
      "outputs": []
    },
    {
      "cell_type": "code",
      "metadata": {
        "id": "u0NCsf1yhLyV"
      },
      "source": [
        "datetime.date.today()"
      ],
      "execution_count": null,
      "outputs": []
    },
    {
      "cell_type": "code",
      "metadata": {
        "id": "w7stJ7bSh30s"
      },
      "source": [
        "datetime.datetime.now()"
      ],
      "execution_count": null,
      "outputs": []
    },
    {
      "cell_type": "code",
      "metadata": {
        "id": "63J0W2_cioCX"
      },
      "source": [
        "data = datetime.date(2020, 12, 10)\r\n",
        "data"
      ],
      "execution_count": null,
      "outputs": []
    },
    {
      "cell_type": "code",
      "metadata": {
        "id": "44-w_N9-hLpO"
      },
      "source": [
        "# extraindo o dia apenas\r\n",
        "data.day"
      ],
      "execution_count": null,
      "outputs": []
    },
    {
      "cell_type": "code",
      "metadata": {
        "id": "aWlQDw4Mqxjf"
      },
      "source": [
        "# extraindo o mês apenas\r\n",
        "data.month"
      ],
      "execution_count": null,
      "outputs": []
    },
    {
      "cell_type": "code",
      "metadata": {
        "id": "a7LDoUNUqxXQ"
      },
      "source": [
        "# extraindo apenas o ano\r\n",
        "data.year"
      ],
      "execution_count": null,
      "outputs": []
    },
    {
      "cell_type": "code",
      "metadata": {
        "id": "SqYOtpdeq951"
      },
      "source": [
        "horario = datetime.datetime(2020, 12, 10, 4, 30, 0)"
      ],
      "execution_count": null,
      "outputs": []
    },
    {
      "cell_type": "code",
      "metadata": {
        "id": "FBTYKvq0q9v7"
      },
      "source": [
        "# extraindo a hora\r\n",
        "horario.hour"
      ],
      "execution_count": null,
      "outputs": []
    },
    {
      "cell_type": "code",
      "metadata": {
        "id": "AZY571f-rbew"
      },
      "source": [
        "# extraindo os minutos\r\n",
        "horario.min"
      ],
      "execution_count": null,
      "outputs": []
    },
    {
      "cell_type": "markdown",
      "metadata": {
        "id": "vAhzA0n-hS7E"
      },
      "source": [
        "## 8.3 Biblioteca random\r\n",
        "https://docs.python.org/3/library/random.html "
      ]
    },
    {
      "cell_type": "code",
      "metadata": {
        "id": "IUfAMv1uqxK_"
      },
      "source": [
        "import random"
      ],
      "execution_count": null,
      "outputs": []
    },
    {
      "cell_type": "code",
      "metadata": {
        "id": "tR1Tze_ptSQj"
      },
      "source": [
        "# vai gerar numeros entre 0 e 1\r\n",
        "random.random()"
      ],
      "execution_count": null,
      "outputs": []
    },
    {
      "cell_type": "code",
      "metadata": {
        "id": "HcX6vC5ktSLQ"
      },
      "source": [
        "# para gerar somente numeros inteiros\r\n",
        "random.randint(1, 10)"
      ],
      "execution_count": null,
      "outputs": []
    },
    {
      "cell_type": "code",
      "metadata": {
        "id": "asqBXQVOtSGr"
      },
      "source": [
        "# gerar numeros entre 0 e 10, mas pulando de 2 em 2\r\n",
        "random.randrange(0, 10, 2)"
      ],
      "execution_count": null,
      "outputs": []
    },
    {
      "cell_type": "code",
      "metadata": {
        "id": "zX83wqU0tR_4"
      },
      "source": [
        "# gerar apenas numeros impares\r\n",
        "random.randrange(0, 10, 3)"
      ],
      "execution_count": null,
      "outputs": []
    },
    {
      "cell_type": "code",
      "metadata": {
        "id": "8bwjYZX6vMlZ"
      },
      "source": [
        "x = ['k', 'd', 13, '34-j', 'x']\r\n",
        "x"
      ],
      "execution_count": null,
      "outputs": []
    },
    {
      "cell_type": "code",
      "metadata": {
        "id": "jn1pwNTCvMV1"
      },
      "source": [
        "# sortear um elemento dentro de uma lista\r\n",
        "random.choice(x)"
      ],
      "execution_count": null,
      "outputs": []
    },
    {
      "cell_type": "markdown",
      "metadata": {
        "id": "gTX_AJKchT2x"
      },
      "source": [
        "## 8.4 Biblioteca time\r\n",
        "https://docs.python.org/3/library/time.html "
      ]
    },
    {
      "cell_type": "code",
      "metadata": {
        "id": "KUzH2KHhvlg_"
      },
      "source": [
        "import time as tm"
      ],
      "execution_count": null,
      "outputs": []
    },
    {
      "cell_type": "code",
      "metadata": {
        "id": "rBfxLlDkvldJ"
      },
      "source": [
        "# retorna o tempo atual em segundos\r\n",
        "tm.time()"
      ],
      "execution_count": null,
      "outputs": []
    },
    {
      "cell_type": "code",
      "metadata": {
        "id": "FTORm08uvlX0"
      },
      "source": [
        "# quanto tempo um codigo levou para ser executado\r\n",
        "antes = tm.time()\r\n",
        "lista = []\r\n",
        "for i in range(0,10000):\r\n",
        "  lista.append(i)\r\n",
        "depois = tm.time()"
      ],
      "execution_count": null,
      "outputs": []
    },
    {
      "cell_type": "code",
      "metadata": {
        "id": "UfuQzQrhvlQl"
      },
      "source": [
        "intervalo = depois - antes\r\n",
        "print(f'Tempo: {intervalo} segundos')"
      ],
      "execution_count": null,
      "outputs": []
    },
    {
      "cell_type": "code",
      "metadata": {
        "id": "MnI8KWFbhf6R"
      },
      "source": [
        "print('Finalizando....')\r\n",
        "tm.sleep(2)\r\n",
        "print('...')\r\n",
        "tm.sleep(2)\r\n",
        "print('Até a proxima....')"
      ],
      "execution_count": null,
      "outputs": []
    },
    {
      "cell_type": "markdown",
      "metadata": {
        "id": "1kuKTexRfQzt"
      },
      "source": [
        "# Aula 9. Criação de módulos personalizados"
      ]
    },
    {
      "cell_type": "code",
      "metadata": {
        "id": "TS_rye01hl9l"
      },
      "source": [
        "import utilitarios as ut"
      ],
      "execution_count": null,
      "outputs": []
    },
    {
      "cell_type": "code",
      "metadata": {
        "id": "O4GcV9RfBZmQ"
      },
      "source": [
        "ut.soma(1, 2, 3)"
      ],
      "execution_count": null,
      "outputs": []
    },
    {
      "cell_type": "code",
      "metadata": {
        "id": "_PWV4y2aBZXR"
      },
      "source": [
        "ut.mult(3, 2, 2)"
      ],
      "execution_count": null,
      "outputs": []
    },
    {
      "cell_type": "code",
      "metadata": {
        "id": "HyVBgvBaB3cC"
      },
      "source": [
        "ut.isPalindromo('abc')"
      ],
      "execution_count": null,
      "outputs": []
    },
    {
      "cell_type": "code",
      "metadata": {
        "id": "xCwoIn3sB6TR"
      },
      "source": [
        "ut.isPalindromo('abccba')"
      ],
      "execution_count": null,
      "outputs": []
    },
    {
      "cell_type": "code",
      "metadata": {
        "id": "Q_yuw7EDCH8s"
      },
      "source": [
        "t = 'abccba'"
      ],
      "execution_count": null,
      "outputs": []
    },
    {
      "cell_type": "code",
      "metadata": {
        "id": "_6m5wWssCHz0"
      },
      "source": [
        "t[::-1] # faz a leitura da string do final pro início"
      ],
      "execution_count": null,
      "outputs": []
    },
    {
      "cell_type": "code",
      "metadata": {
        "id": "XRtMb1WbCHpn"
      },
      "source": [
        "t1 = 'abc'\r\n",
        "t1[::-1] # fez a leitura do final pro inicio imprimindo 'cba'"
      ],
      "execution_count": null,
      "outputs": []
    },
    {
      "cell_type": "markdown",
      "metadata": {
        "id": "Tp59CxXeDrO1"
      },
      "source": [
        "#### **Exercicios de fixação**"
      ]
    },
    {
      "cell_type": "markdown",
      "metadata": {
        "id": "aHqXusnCDtqJ"
      },
      "source": [
        "1. Crie um arquivo .py com duas funções:\r\n",
        "- Função para ler um string (recebe como parâmetro uma mensagem e retorna o que o usuário digitou)\r\n",
        "- Função para ler um número float (recebe como parâmetro uma mensagem e retorna o que o usuário digitou)\r\n",
        "2. Importar o arquivo criado no Google Colab e testar as funções\r\n"
      ]
    },
    {
      "cell_type": "code",
      "metadata": {
        "id": "zPQ2iqwREN8X"
      },
      "source": [
        "import exercicio_modulos as em"
      ],
      "execution_count": null,
      "outputs": []
    },
    {
      "cell_type": "code",
      "metadata": {
        "id": "uvh84sRbFPFg"
      },
      "source": [
        "texto = em.ler_string('Digite uma mensagem: ')\r\n",
        "print(texto)\r\n"
      ],
      "execution_count": null,
      "outputs": []
    },
    {
      "cell_type": "code",
      "metadata": {
        "id": "0d8BKvlxGu6i"
      },
      "source": [
        "numero = em.ler_numero('Digite um numero: ')\r\n",
        "print(numero)"
      ],
      "execution_count": null,
      "outputs": []
    },
    {
      "cell_type": "markdown",
      "metadata": {
        "id": "DqcF9CfsfR3F"
      },
      "source": [
        "# Aula 10. Tratamento de errros e exceções"
      ]
    },
    {
      "cell_type": "markdown",
      "metadata": {
        "id": "XW0SqkIcHiS6"
      },
      "source": [
        "# Tratamento de erros e exceções\r\n",
        "\r\n",
        "- NameError: variável nao foi definida\r\n",
        "- TypeError: tipos de dados incompatíveis\r\n",
        "- RuntimeError: erro de execução\r\n",
        "- SyntaxError: sintaxe digitada é inválida e não reconhecida pelo interpretador\r\n",
        "- ZeroDivisionError: divisão por zero\r\n",
        "- IndexError: índice está fora da coleção"
      ]
    },
    {
      "cell_type": "markdown",
      "metadata": {
        "id": "FZeUkhYifVYO"
      },
      "source": [
        "## 10.1 Tipos de erros"
      ]
    },
    {
      "cell_type": "code",
      "metadata": {
        "id": "o0T0N_7XHhCf"
      },
      "source": [
        "# Erro de sintaxe\r\n",
        "3 = 4"
      ],
      "execution_count": null,
      "outputs": []
    },
    {
      "cell_type": "code",
      "metadata": {
        "id": "FTbnHqr0daIm"
      },
      "source": [
        "# erro de nome, variável não definida\r\n",
        "print('Meu nome é', nome)"
      ],
      "execution_count": null,
      "outputs": []
    },
    {
      "cell_type": "code",
      "metadata": {
        "id": "MTBBj32xdZ--"
      },
      "source": [
        "# erro de divisão por zero\r\n",
        "print(3 / 0)"
      ],
      "execution_count": null,
      "outputs": []
    },
    {
      "cell_type": "code",
      "metadata": {
        "id": "A7Iknpb2dZz5"
      },
      "source": [
        "# erro de tipo, os tipos de dados são incompatíveis.\r\n",
        "23.0 / 'cachorro'"
      ],
      "execution_count": null,
      "outputs": []
    },
    {
      "cell_type": "code",
      "metadata": {
        "id": "jGv8z_KvH7fW"
      },
      "source": [
        "# erro de index - tentar trazer algum elemento cujo indice não existe\r\n",
        "c = [1,2,3,4,5]\r\n",
        "c[5]"
      ],
      "execution_count": null,
      "outputs": []
    },
    {
      "cell_type": "markdown",
      "metadata": {
        "id": "yYu5W_R8fVC1"
      },
      "source": [
        "## 10.2 Tratamento de erros"
      ]
    },
    {
      "cell_type": "code",
      "metadata": {
        "id": "oVcrH39IH-T9"
      },
      "source": [
        "# erro de valor, usando o try para corrigir o erro e exceções\r\n",
        "# com o tratamento de exceção, ele NÃO MOSTRA MENSAGEM DE ERRO, mas a mensagem de aviso que está programada!\r\n",
        "# WHILE/break é uma estrutura de repetição, enquanto ele não encontrar aquilo que está sendo solicitado, \r\n",
        "#   ele vai apresentar as mensagens codificadas, ao invés de apenas apresentar a mensagem de error e parar a solicitação.\r\n",
        "while True:\r\n",
        "  try:\r\n",
        "    n = int(input('Digite um numero inteiro: '))\r\n",
        "  except: # esse comando substitui a mensagem de error, indicando a mensagem indicada no print. Isso é tratamento de exceção ou erro.\r\n",
        "    print('valor inválido')\r\n",
        "  else:\r\n",
        "    print(f'valor digitado é {n}')\r\n",
        "    break # aqui ele vai sair do loop while"
      ],
      "execution_count": null,
      "outputs": []
    },
    {
      "cell_type": "code",
      "metadata": {
        "id": "xksfN28AH9wb"
      },
      "source": [
        "# mandando mensagens personalizadas conforme a ocorrencia de erro\r\n",
        "while True:\r\n",
        "  try:\r\n",
        "    p = int(input('Digite um numero inteiro: '))\r\n",
        "  except ValueError: # um tipo de erro\r\n",
        "    print('Valor inválido')\r\n",
        "  except KeyboardInterrupt: # um tipo de erro, o usuario interrompeu a execução do processamento\r\n",
        "    print('Usuário interrompeu a execução')\r\n",
        "    break\r\n",
        "  else:\r\n",
        "    print(f'Valor digitado é {p}')\r\n",
        "    break"
      ],
      "execution_count": null,
      "outputs": []
    },
    {
      "cell_type": "markdown",
      "metadata": {
        "id": "_f1-UtKHVbdq"
      },
      "source": [
        "#### **Exercicios de fixação**"
      ]
    },
    {
      "cell_type": "markdown",
      "metadata": {
        "id": "qg1ODixnVeC4"
      },
      "source": [
        "1. Crie uma lista vazia e faça a leitura de dois valores do tipo float, colocando cada um dos valores nas primeiras posições da lista (o valor1 ficará na posição 0 da lista e o valor2 ficará na posição 1 da lista). Faça a divisão dos dois valores e trate as seguintes exceções:\r\n",
        "- ValueError: se o usuário digitar um caracter\r\n",
        "- ZeroDivisionError: se o usuário digitar zero e ocorrer erro na divisão\r\n",
        "- IndexError: caso a divisão seja feita levando em consideração posições que não existem na lista\r\n",
        "- KeyboardInterrupt: caso o usuário interrompa a execução\r\n",
        "2. Mostre uma mensagem personalizada na ocorrência de cada um desses erros"
      ]
    },
    {
      "cell_type": "code",
      "metadata": {
        "id": "fuu7cpTzH9lA",
        "colab": {
          "base_uri": "https://localhost:8080/"
        },
        "outputId": "9a01b753-e62c-420e-aa3b-70af36f7330a"
      },
      "source": [
        "lista = []\r\n",
        "try:\r\n",
        "  lista.append(float(input('Digite um numero: ')))\r\n",
        "  lista.append(float(input('Digite um numero: ')))\r\n",
        "  divisao = lista[0]/lista[1]\r\n",
        "except ValueError:\r\n",
        "  print('Valor digitado inválido')\r\n",
        "except ZeroDivisionError:\r\n",
        "  print('Divisão por zero invalida')\r\n",
        "except IndexError:\r\n",
        "  print('Divisão por valor inexistente')\r\n",
        "except KeyboardInterrupt:\r\n",
        "  print('Usuario interrompeu a execução')\r\n",
        "else:\r\n",
        "  print(f'Divisão é {divisao}.')\r\n"
      ],
      "execution_count": null,
      "outputs": [
        {
          "output_type": "stream",
          "text": [
            "Digite um numero: 9\n",
            "Digite um numero: 8\n",
            "Divisão é 1.125.\n"
          ],
          "name": "stdout"
        }
      ]
    },
    {
      "cell_type": "markdown",
      "metadata": {
        "id": "oUTDg-GQamEB"
      },
      "source": [
        "# Aula 11. Manipulação de Arquivos de Texto - leitura e criação de arquivo pelo python"
      ]
    },
    {
      "cell_type": "code",
      "metadata": {
        "id": "_MWiZAW_aq73",
        "colab": {
          "base_uri": "https://localhost:8080/"
        },
        "outputId": "915b0767-3713-4cbc-d2f9-480571efefe9"
      },
      "source": [
        "# abrindo um arquivo e lendo o conteúdo\r\n",
        "with open('/content/manipulacao_texto.txt') as text:\r\n",
        "  for linha in text:\r\n",
        "    print(linha)"
      ],
      "execution_count": null,
      "outputs": [
        {
          "output_type": "stream",
          "text": [
            "Olá\n",
            "\n",
            "estou aprendendo \n",
            "\n",
            "a linguagem Python\n",
            "\n",
            "e estou gostando muito\n"
          ],
          "name": "stdout"
        }
      ]
    },
    {
      "cell_type": "code",
      "metadata": {
        "colab": {
          "base_uri": "https://localhost:8080/"
        },
        "id": "YSoC4YJd8i0p",
        "outputId": "545d7a4b-fb42-459c-b495-54e45ff2baab"
      },
      "source": [
        "# enviando o conteúdo do texto para dentro de uma lista\r\n",
        "# após enviar o conteúdo para uma linha, é possível manipular cada um dos elementos, ou linhas, no python\r\n",
        "with open('/content/manipulacao_texto.txt') as text:\r\n",
        "  r = text.readlines()\r\n",
        "r\r\n",
        "# \\n serve para quebrar a linha"
      ],
      "execution_count": null,
      "outputs": [
        {
          "output_type": "execute_result",
          "data": {
            "text/plain": [
              "['Olá\\n',\n",
              " 'estou aprendendo \\n',\n",
              " 'a linguagem Python\\n',\n",
              " 'e estou gostando muito']"
            ]
          },
          "metadata": {
            "tags": []
          },
          "execution_count": 203
        }
      ]
    },
    {
      "cell_type": "code",
      "metadata": {
        "id": "SK80zskz8390"
      },
      "source": [
        "# criando um novo arquivo de texto\r\n",
        "with open('texto2.txt', 'w') as novoTexto:\r\n",
        "  novoTexto.write('Olá a todos') # função .write servirá para criar o novo arquivo de texto"
      ],
      "execution_count": null,
      "outputs": []
    },
    {
      "cell_type": "code",
      "metadata": {
        "colab": {
          "base_uri": "https://localhost:8080/"
        },
        "id": "1HAMPpw083sB",
        "outputId": "344c14d5-0c79-4a3b-dcc5-107af74cc2d6"
      },
      "source": [
        "# para fazer a leitura desse novo texto\r\n",
        "with open('/content/texto2.txt', 'r') as tex: # 'r' = open for reading (default)\r\n",
        "  for linha in tex:\r\n",
        "    print(linha)"
      ],
      "execution_count": null,
      "outputs": [
        {
          "output_type": "stream",
          "text": [
            "Olá a todos\n"
          ],
          "name": "stdout"
        }
      ]
    },
    {
      "cell_type": "markdown",
      "metadata": {
        "id": "VfNeIylC-pyk"
      },
      "source": [
        "#### **Exercicios de fixação**"
      ]
    },
    {
      "cell_type": "markdown",
      "metadata": {
        "id": "YjME405f-wW6"
      },
      "source": [
        "1. Considerando o dicionário com o nome dos alunos e suas respectivas notas abaixo, crie uma estrutura de repetição para percorrer cada elemento do dicionário para gravar cada aluno em um novo arquivo de texto\r\n",
        "- Cada aluno deve ocupar uma linha do novo arquivo de texto\r\n",
        "- O formato deve ser: nome,nota (Pedro,8.0)\r\n",
        "- Após a criação do arquivo de texto, faça a leitura do arquivo e mostre todos os alunos\r\n",
        "\r\n",
        "alunos = {'Pedro': 8.0, 'Maria': 10.0, 'Amilton': 7.5}"
      ]
    },
    {
      "cell_type": "code",
      "metadata": {
        "id": "bPp_Qa74-68-"
      },
      "source": [
        "alunos = {'Pedro': 8.0, 'Maria': 10.0, 'Amilton': 7.5}"
      ],
      "execution_count": null,
      "outputs": []
    },
    {
      "cell_type": "code",
      "metadata": {
        "id": "w9Lgf87wAPqA"
      },
      "source": [
        "# criando o novo arquivo chamado arquivo\r\n",
        "with open('alunos.txt', 'w') as arquivo:\r\n",
        "  for aluno, nota in alunos.items(): # percorrendo cada um dos itens do dicionario\r\n",
        "    arquivo.write(f'{aluno}, {nota}\\n') # incluindo no arquivo de texto como se fossem linhas"
      ],
      "execution_count": null,
      "outputs": []
    },
    {
      "cell_type": "code",
      "metadata": {
        "colab": {
          "base_uri": "https://localhost:8080/"
        },
        "id": "mGbn75mqDIrQ",
        "outputId": "0f3126e1-1138-4510-e48d-561deda9e51f"
      },
      "source": [
        "with open('/content/alunos.txt') as arquivo:\r\n",
        "  for linha in arquivo:\r\n",
        "    print(linha)"
      ],
      "execution_count": null,
      "outputs": [
        {
          "output_type": "stream",
          "text": [
            "Pedro, 8.0\n",
            "\n",
            "Maria, 10.0\n",
            "\n",
            "Amilton, 7.5\n",
            "\n"
          ],
          "name": "stdout"
        }
      ]
    },
    {
      "cell_type": "markdown",
      "metadata": {
        "id": "Q8unvu7Y-tIx"
      },
      "source": [
        "# Aula 12. Expressões regulares"
      ]
    },
    {
      "cell_type": "markdown",
      "metadata": {
        "id": "Uw8GxXD9oZC5"
      },
      "source": [
        "- Usado em busca sofisticada por padrões. Por exemplo:\r\n",
        "  - procurar palavras que começam com a letra maiuscula ou que começam com letra maiuscula e terminam com letra minuscula\r\n",
        "  - palavras que começam com 'a' e terminam em 'e'\r\n",
        "  - procurar emails, numero de telefone, CEPs, etc\r\n",
        "- Os padrões de busca são praticamente ilimitados\r\n"
      ]
    },
    {
      "cell_type": "markdown",
      "metadata": {
        "id": "s9LO971_pPpw"
      },
      "source": [
        "#### EXEMPLO\r\n",
        "**\"O mundo está mudando. Tecnologias utilizadas na atualidade estão tornando as tarefas cada vez mais mecanizadas e práticas, onde a mente humana é deixada livre para exercer o papel criativo.\"**\r\n"
      ]
    },
    {
      "cell_type": "markdown",
      "metadata": {
        "id": "BGIuR5dzqASG"
      },
      "source": [
        "*Aplicando as expressões regulares podemos:*\r\n",
        "- extrair todas as palavras que começam com vogais e terminam com consoantes\r\n",
        "- extrair todas as palavras que possuem de 5 a 9 letras\r\n",
        "- extrair todos os trechos separados por ponto '.' \r\n",
        "- extrair todas as palavras que começam com 'c', possuem 'r', 'e' ou 'u' no meio e terminam com 'a', 'l', ou 'x'\r\n",
        "- Método **search** para encontrar as posições de padrões dentro de uma string, se estes estiverem presentes.\r\n",
        "- Método **match** para encontrar se o começo de uma string é igual a um determinado padrão.\r\n",
        "- Método **findall** para encontrar todas as substrings em uma string que correspondam a um padrão."
      ]
    },
    {
      "cell_type": "markdown",
      "metadata": {
        "id": "KAqOc5M7rGwE"
      },
      "source": [
        "#### **METACARACTERES**\r\n",
        ". - indica qualquer caractere (exceto linha nova)\r\n",
        "\r\n",
        "\\w - indica qualquer caractere alfanumerico\r\n",
        "\r\n",
        "\\W - indica qualquer caractere não-alfanumerico\r\n",
        "\r\n",
        "\\d - indica qualquer caractere que seja um digito de 0 - 9\r\n",
        "\r\n",
        "\\D - indica qualquer caractere não dígito\r\n",
        "\r\n",
        "\\s - indica espaço em branco\r\n",
        "\r\n",
        "^ - começa com\r\n",
        "\r\n",
        "$ - termina com\r\n",
        "\r\n",
        "\\ - **usado antes de metacaracteres** para especificar seu significado literal"
      ]
    },
    {
      "cell_type": "markdown",
      "metadata": {
        "id": "yS5ucBzmsopO"
      },
      "source": [
        "#### **QUANTIFICADORES**\r\n",
        "Permitem determinar como e quantas vezes os metacaracteres aparecem:\r\n",
        "\r\n",
        "[] - opcional entre os que estão dentro dos colchetes, pode ter ou não aquele caractere indicado\r\n",
        "\r\n",
        "() - captura grupos de caracteres, ex. de a até z\r\n",
        "\r\n",
        "'*'  - de zero a mais vezes aquele caractere indicado\r\n",
        "\r\n",
        "? - zero ou mais vezes\r\n",
        "\r\n",
        "'+' - uma ou mais vezes \r\n",
        "\r\n",
        "{m,n} - de m a n vezes\r\n",
        "\r\n",
        "| - significa o OU\r\n"
      ]
    },
    {
      "cell_type": "markdown",
      "metadata": {
        "id": "YcyUMpNkwqNP"
      },
      "source": [
        "#### **EXEMPLO**:\r\n",
        "- gabrielcosta@hotmail.com\r\n",
        "- felipearruda@gmail.com\r\n",
        "- joaosilva@yahoo.com.br\r\n",
        "\r\n",
        "Queremos definir uma expressão regular que detecta emails:\r\n",
        "\r\n",
        "**\\w+@\\w+\\.w+**\r\n",
        "\r\n",
        "- \\w+ significa que buscamos caracteres alfanumericos (\\w) e que pelo menos 1 caractere desse tem de estar presente (+), corresponde ao 'gabrielcosta'\r\n",
        "- @ significa que precisamos ter esse caractere\r\n",
        "- \\w+ novamente qualquer caracteres alfanumericos, corresponde ao 'gmail', 'yahoo'\r\n",
        "- \\. significa que buscamos um ponto(.), o \\ é usado antes do ponto para indicar um caractere específico buscado, no caso o ponto\r\n",
        "- w+ significa que após o . podemos ter outros caracteres alfanumericos, corresponde ao 'com' ou 'com.br'"
      ]
    },
    {
      "cell_type": "markdown",
      "metadata": {
        "id": "sZcXf0PO-qbB"
      },
      "source": [
        "#### **Exercicios práticos**"
      ]
    },
    {
      "cell_type": "markdown",
      "metadata": {
        "id": "Cwm4yduloRsl"
      },
      "source": [
        "1. Usando a função **search**"
      ]
    },
    {
      "cell_type": "code",
      "metadata": {
        "id": "GTi4A6a2oJIn"
      },
      "source": [
        "# importando o pacote das expressões regulares \r\n",
        "import re"
      ],
      "execution_count": 2,
      "outputs": []
    },
    {
      "cell_type": "code",
      "metadata": {
        "id": "3pwcI26py_8t"
      },
      "source": [
        "frase = 'Olá, meu número de telefone é (42)0000-0000'"
      ],
      "execution_count": null,
      "outputs": []
    },
    {
      "cell_type": "code",
      "metadata": {
        "colab": {
          "base_uri": "https://localhost:8080/"
        },
        "id": "7DxbFRc-UNYi",
        "outputId": "d7bc0568-b974-49b2-f3bd-243c81333cad"
      },
      "source": [
        "# no resultado span=(30, 43) significa que o resultado inicia na posição 30 e termina na posição 43 da string.\r\n",
        "re.search('\\(\\d{2}\\)\\d{4,5}-\\d{4}', frase) "
      ],
      "execution_count": null,
      "outputs": [
        {
          "output_type": "execute_result",
          "data": {
            "text/plain": [
              "<_sre.SRE_Match object; span=(30, 43), match='(42)0000-0000'>"
            ]
          },
          "metadata": {
            "tags": []
          },
          "execution_count": 12
        }
      ]
    },
    {
      "cell_type": "code",
      "metadata": {
        "id": "m_GXLP7Dy_xF"
      },
      "source": [
        "frase2 = 'A placa de carrro que eu anotei durante o acidente foi FrT-1998'"
      ],
      "execution_count": null,
      "outputs": []
    },
    {
      "cell_type": "code",
      "metadata": {
        "colab": {
          "base_uri": "https://localhost:8080/"
        },
        "id": "SEUrHeq7k_L1",
        "outputId": "1fc781f2-447c-44c7-b4e9-745659fb4c72"
      },
      "source": [
        "re.search('[A-Za-z]{3}-\\d{4}', frase2)"
      ],
      "execution_count": null,
      "outputs": [
        {
          "output_type": "execute_result",
          "data": {
            "text/plain": [
              "<_sre.SRE_Match object; span=(55, 63), match='FrT-1998'>"
            ]
          },
          "metadata": {
            "tags": []
          },
          "execution_count": 16
        }
      ]
    },
    {
      "cell_type": "code",
      "metadata": {
        "id": "1yeaieDEy_lD"
      },
      "source": [
        "email = 'Entre em contato, meu email é teste@teste.com'"
      ],
      "execution_count": null,
      "outputs": []
    },
    {
      "cell_type": "code",
      "metadata": {
        "colab": {
          "base_uri": "https://localhost:8080/"
        },
        "id": "DBBdQY2zlcO4",
        "outputId": "0bb24243-6fdb-48ce-c954-3101e9f9a6e2"
      },
      "source": [
        "re.search('\\w+@\\w+', email)"
      ],
      "execution_count": null,
      "outputs": [
        {
          "output_type": "execute_result",
          "data": {
            "text/plain": [
              "<_sre.SRE_Match object; span=(30, 41), match='teste@teste'>"
            ]
          },
          "metadata": {
            "tags": []
          },
          "execution_count": 19
        }
      ]
    },
    {
      "cell_type": "markdown",
      "metadata": {
        "id": "CaZOrtW1-wyy"
      },
      "source": [
        "2. Usando a função **match** "
      ]
    },
    {
      "cell_type": "code",
      "metadata": {
        "id": "07rB7k0Fy-y2"
      },
      "source": [
        "frase3 = 'A placa de carro que eu anotei durante a batia foi FRT-1998'"
      ],
      "execution_count": 23,
      "outputs": []
    },
    {
      "cell_type": "code",
      "metadata": {
        "colab": {
          "base_uri": "https://localhost:8080/"
        },
        "id": "Tegx-uZT0A0C",
        "outputId": "fb63d6a0-7b59-4597-ebab-d587c82818c0"
      },
      "source": [
        "print(re.match('[A-Za-z]{3}-\\d{4}', frase3))"
      ],
      "execution_count": 26,
      "outputs": [
        {
          "output_type": "stream",
          "text": [
            "None\n"
          ],
          "name": "stdout"
        }
      ]
    },
    {
      "cell_type": "code",
      "metadata": {
        "id": "GPUQyYJLj5ri"
      },
      "source": [
        "frase4 = 'FRT-1998 é a placa do carro'"
      ],
      "execution_count": 24,
      "outputs": []
    },
    {
      "cell_type": "code",
      "metadata": {
        "colab": {
          "base_uri": "https://localhost:8080/"
        },
        "id": "ABZ29Zgb0c9R",
        "outputId": "0fe98c3e-b89e-4cff-eb4c-e8d2b0bbcf4d"
      },
      "source": [
        "print(re.match('[A-Za-z]{3}-\\d{4}', frase4))"
      ],
      "execution_count": 27,
      "outputs": [
        {
          "output_type": "stream",
          "text": [
            "<_sre.SRE_Match object; span=(0, 8), match='FRT-1998'>\n"
          ],
          "name": "stdout"
        }
      ]
    },
    {
      "cell_type": "markdown",
      "metadata": {
        "id": "mv6X2fHMT4Ah"
      },
      "source": [
        "3. Usando a função **findall** "
      ]
    },
    {
      "cell_type": "code",
      "metadata": {
        "id": "_qiDfHa10p8D"
      },
      "source": [
        "frase5 = 'Meu numero de telefone atual é (42)0000-0000. O numero (56)1111-1111 é o antigo'"
      ],
      "execution_count": 4,
      "outputs": []
    },
    {
      "cell_type": "code",
      "metadata": {
        "colab": {
          "base_uri": "https://localhost:8080/"
        },
        "id": "w2whJOtu01MV",
        "outputId": "a37580b0-8c52-4b60-fbd0-3d01ccd731c3"
      },
      "source": [
        "re.findall('\\(\\d{2}\\)\\d{4,5}-\\d{4}', frase5) "
      ],
      "execution_count": 6,
      "outputs": [
        {
          "output_type": "execute_result",
          "data": {
            "text/plain": [
              "['(42)0000-0000', '(56)1111-1111']"
            ]
          },
          "metadata": {
            "tags": []
          },
          "execution_count": 6
        }
      ]
    },
    {
      "cell_type": "code",
      "metadata": {
        "id": "IKP_eEBH03zX"
      },
      "source": [
        "emails = '''Nome: 1\r\n",
        "email: teste1@teste.com\r\n",
        "Nome: Teste 2\r\n",
        "email: teste2@teste.com\r\n",
        "Nome: Teste 3\r\n",
        "email: teste3@teste.com.br\r\n",
        "'''"
      ],
      "execution_count": 5,
      "outputs": []
    },
    {
      "cell_type": "code",
      "metadata": {
        "colab": {
          "base_uri": "https://localhost:8080/"
        },
        "id": "XsCviZwJ6_3J",
        "outputId": "db2b701a-7dc0-45db-c7fa-e79908041b58"
      },
      "source": [
        "re.findall('\\w+@\\w+\\.com', emails)"
      ],
      "execution_count": 7,
      "outputs": [
        {
          "output_type": "execute_result",
          "data": {
            "text/plain": [
              "['teste1@teste.com', 'teste2@teste.com', 'teste3@teste.com']"
            ]
          },
          "metadata": {
            "tags": []
          },
          "execution_count": 7
        }
      ]
    },
    {
      "cell_type": "code",
      "metadata": {
        "id": "5j3ynGq-7jpf"
      },
      "source": [
        ""
      ],
      "execution_count": null,
      "outputs": []
    },
    {
      "cell_type": "markdown",
      "metadata": {
        "id": "Dn_Mdk5gliNh"
      },
      "source": [
        "#### **Exercicios de fixação**"
      ]
    },
    {
      "cell_type": "markdown",
      "metadata": {
        "id": "pFdL6B_r7po2"
      },
      "source": [
        "1. Crie expressões regulares para extrair as seguintes informações do texto abaixo (use a função findall):\r\n",
        "- Números\r\n",
        "- CEPs\r\n",
        "- URLs"
      ]
    },
    {
      "cell_type": "code",
      "metadata": {
        "id": "EiY9l_yd7tLv"
      },
      "source": [
        "texto = 'Meu endereço é na rua Joaquim Simões, 2222. O CEP é 85350-150 e meu site é https://www.iaexpert.academy.com ou http://iaexpert.com.br'"
      ],
      "execution_count": 15,
      "outputs": []
    },
    {
      "cell_type": "code",
      "metadata": {
        "id": "qXEUep118UtG"
      },
      "source": [
        "import re"
      ],
      "execution_count": 9,
      "outputs": []
    },
    {
      "cell_type": "code",
      "metadata": {
        "colab": {
          "base_uri": "https://localhost:8080/"
        },
        "id": "N78vNJbd8YJN",
        "outputId": "25ebd960-36ad-44eb-8770-1a3153b431c7"
      },
      "source": [
        "re.findall('\\d', texto)"
      ],
      "execution_count": 10,
      "outputs": [
        {
          "output_type": "execute_result",
          "data": {
            "text/plain": [
              "['2', '2', '2', '2', '8', '5', '3', '5', '0', '1', '5', '0']"
            ]
          },
          "metadata": {
            "tags": []
          },
          "execution_count": 10
        }
      ]
    },
    {
      "cell_type": "code",
      "metadata": {
        "colab": {
          "base_uri": "https://localhost:8080/"
        },
        "id": "VcatcA5o8Xh5",
        "outputId": "37b201f6-ea08-4d78-82a4-b19531e4829e"
      },
      "source": [
        "re.findall('\\d{5}-\\d{3}', texto)"
      ],
      "execution_count": 11,
      "outputs": [
        {
          "output_type": "execute_result",
          "data": {
            "text/plain": [
              "['85350-150']"
            ]
          },
          "metadata": {
            "tags": []
          },
          "execution_count": 11
        }
      ]
    },
    {
      "cell_type": "code",
      "metadata": {
        "colab": {
          "base_uri": "https://localhost:8080/"
        },
        "id": "FCQHpLDS9IGo",
        "outputId": "6dc56935-9018-4142-dd2a-6b849b489ce3"
      },
      "source": [
        "re.findall('https?://[A-Za-z0-9./]+', texto)"
      ],
      "execution_count": 17,
      "outputs": [
        {
          "output_type": "execute_result",
          "data": {
            "text/plain": [
              "['https://www.iaexpert.academy.com', 'http://iaexpert.com.br']"
            ]
          },
          "metadata": {
            "tags": []
          },
          "execution_count": 17
        }
      ]
    },
    {
      "cell_type": "markdown",
      "metadata": {
        "id": "t-1NXr0E-tma"
      },
      "source": [
        "# Aula 13. Orientação a objetos"
      ]
    },
    {
      "cell_type": "markdown",
      "metadata": {
        "id": "MADH4DaC-Pxn"
      },
      "source": [
        "## 13.1 Classe e Objeto"
      ]
    },
    {
      "cell_type": "markdown",
      "metadata": {
        "id": "8KMGOtIj-UuR"
      },
      "source": [
        "**Classe** é um agrupamento de objetos similares que apresentam os mesmos **atributos** (*string*, *listas*, *tuplas* (características)) e **métodos** (*funções* (ações)).\r\n",
        "\r\n",
        "Ex: molde de bonecos de gesso\r\n",
        "- define o formato e tamanho\r\n",
        "- o molde é sempre o mesmo, porém os objetos gerados podem ter características variadas, respeitando a estrutura básica do molde. Um objeto pode ter cores diferentes, porém serão o mesmo objeto.\r\n",
        "\r\n",
        "Ex: uma calculadora possui:\r\n",
        "- CARACTERISTICAS:\r\n",
        "  - cor\r\n",
        "  - marca\r\n",
        "  - tamanho\r\n",
        "  - data de fabricação\r\n",
        "- AÇÕES:\r\n",
        "  - somar\r\n",
        "  - dividir\r\n",
        "  - subtrair\r\n",
        "  - multiplicar\r\n",
        "\r\n",
        "Em suma: \r\n",
        "\r\n",
        "**Classe**: molde de boneco de gesso\r\n",
        "\r\n",
        "**Objetos**: bonecos de gesso \r\n"
      ]
    },
    {
      "cell_type": "markdown",
      "metadata": {
        "id": "c0XYG4FGIpDQ"
      },
      "source": [
        "#### **Exercicios práticos**"
      ]
    },
    {
      "cell_type": "code",
      "metadata": {
        "id": "XrNUEZ9LIrZp"
      },
      "source": [
        "# definindo as funções e atributos da classe\r\n",
        "class Triangulo:\r\n",
        "  # também chamada de FUNÇÃO CONSTRUTURA ou de CONSTRUTOR\r\n",
        "  def __init__(self, lado1, lado2, lado3, base, altura):\r\n",
        "    # criando os atributos da classe:\r\n",
        "    self.lado1 = lado1\r\n",
        "    self.lado2 = lado2\r\n",
        "    self.lado3 = lado3\r\n",
        "    self.base = base\r\n",
        "    self.altura = altura\r\n",
        "\r\n",
        "  def area(self):\r\n",
        "    return (self.base * self.altura) / 2\r\n",
        "\r\n",
        "  def tipo(self):\r\n",
        "    if self.lado1 > self.lado2 + self.lado3:\r\n",
        "      return 'não é um triangulo'\r\n",
        "    elif self.lado1 == self.lado2 or self.lado1 == self.lado3 or self.lado2 == self.lado3:\r\n",
        "      return 'triangulo isósceles'\r\n",
        "    else:\r\n",
        "      return 'outro tipo de triangulo'"
      ],
      "execution_count": 48,
      "outputs": []
    },
    {
      "cell_type": "code",
      "metadata": {
        "id": "291TIw0OJLno"
      },
      "source": [
        "# criando o primeiro objeto a partir da class Triangulo\r\n",
        "t1 = Triangulo(5, 1, 3, 4, 3)"
      ],
      "execution_count": 56,
      "outputs": []
    },
    {
      "cell_type": "code",
      "metadata": {
        "colab": {
          "base_uri": "https://localhost:8080/"
        },
        "id": "GiHQZOyBJLXr",
        "outputId": "a0d00cb5-7861-4035-8699-897b0393b8bb"
      },
      "source": [
        "print(t1.lado1, t1.lado2, t1.lado3, t1.base, t1.altura)"
      ],
      "execution_count": 57,
      "outputs": [
        {
          "output_type": "stream",
          "text": [
            "5 1 3 4 3\n"
          ],
          "name": "stdout"
        }
      ]
    },
    {
      "cell_type": "code",
      "metadata": {
        "colab": {
          "base_uri": "https://localhost:8080/"
        },
        "id": "5cC7rrCQK6m8",
        "outputId": "cd6f4b16-146a-45a9-bc84-7b3203dc76f1"
      },
      "source": [
        "t1.area()"
      ],
      "execution_count": 58,
      "outputs": [
        {
          "output_type": "execute_result",
          "data": {
            "text/plain": [
              "6.0"
            ]
          },
          "metadata": {
            "tags": []
          },
          "execution_count": 58
        }
      ]
    },
    {
      "cell_type": "code",
      "metadata": {
        "colab": {
          "base_uri": "https://localhost:8080/",
          "height": 35
        },
        "id": "jx-Jb4_JR7KZ",
        "outputId": "2f58fafb-9dee-4ae1-e578-ab852f66be41"
      },
      "source": [
        "t1.tipo()"
      ],
      "execution_count": 59,
      "outputs": [
        {
          "output_type": "execute_result",
          "data": {
            "application/vnd.google.colaboratory.intrinsic+json": {
              "type": "string"
            },
            "text/plain": [
              "'não é um triangulo'"
            ]
          },
          "metadata": {
            "tags": []
          },
          "execution_count": 59
        }
      ]
    },
    {
      "cell_type": "code",
      "metadata": {
        "colab": {
          "base_uri": "https://localhost:8080/"
        },
        "id": "YuUC56cnJgHI",
        "outputId": "89900ac8-bb17-475c-f41d-5f6f6914cc98"
      },
      "source": [
        "# criando outro objeto a partir da class Triangulo\r\n",
        "t2 = Triangulo(8, 8, 8, 16, 9)\r\n",
        "print(t2.lado1, t2.lado2, t2.lado3, t2.base, t2.altura)"
      ],
      "execution_count": 53,
      "outputs": [
        {
          "output_type": "stream",
          "text": [
            "8 8 8 16 9\n"
          ],
          "name": "stdout"
        }
      ]
    },
    {
      "cell_type": "code",
      "metadata": {
        "colab": {
          "base_uri": "https://localhost:8080/"
        },
        "id": "IC49Gnn4K_ts",
        "outputId": "2b293e88-2828-4c90-a963-c7b617e4f60d"
      },
      "source": [
        "t2.area()"
      ],
      "execution_count": 54,
      "outputs": [
        {
          "output_type": "execute_result",
          "data": {
            "text/plain": [
              "72.0"
            ]
          },
          "metadata": {
            "tags": []
          },
          "execution_count": 54
        }
      ]
    },
    {
      "cell_type": "code",
      "metadata": {
        "colab": {
          "base_uri": "https://localhost:8080/",
          "height": 35
        },
        "id": "ZvRjsqfOSKdG",
        "outputId": "43324a3b-645c-4da9-af40-120582d878b2"
      },
      "source": [
        "t2.tipo()"
      ],
      "execution_count": 55,
      "outputs": [
        {
          "output_type": "execute_result",
          "data": {
            "application/vnd.google.colaboratory.intrinsic+json": {
              "type": "string"
            },
            "text/plain": [
              "'triangulo isósceles'"
            ]
          },
          "metadata": {
            "tags": []
          },
          "execution_count": 55
        }
      ]
    },
    {
      "cell_type": "markdown",
      "metadata": {
        "id": "35VhKmTd-rAx"
      },
      "source": [
        "#### **Exercicios de fixação**"
      ]
    },
    {
      "cell_type": "markdown",
      "metadata": {
        "id": "PIFC5SLT-xRi"
      },
      "source": [
        "1. Crie uma classe chamada aluno com os seguintes atributos:\r\n",
        "- Nome\r\n",
        "- Nota 1\r\n",
        "- Nota 2\r\n",
        "- Crie um construtor para a classe (__init__)\r\n",
        "\r\n",
        "\r\n",
        "2. Crie as seguintes funções (métodos):\r\n",
        "- Calcula média, retornando a média aritmética entre as notas\r\n",
        "- Mostra dados, que somente imprime o valor de todos os atributos\r\n",
        "- Resultado, que verifica se o aluno está aprovado ou reprovado (se a média for maior ou igual a 6.0, o aluno está aprovado)\r\n",
        "\r\n",
        "3. Crie dois objetos (aluno1 e aluno2) e teste as funções"
      ]
    },
    {
      "cell_type": "code",
      "metadata": {
        "id": "TrnWgoXtTDXY"
      },
      "source": [
        "class Aluno:\r\n",
        "  def __init__(self, nome, nota1, nota2):\r\n",
        "    self.nome = nome\r\n",
        "    self.nota1 = nota1\r\n",
        "    self.nota2 = nota2\r\n",
        "    self.media = 0.0\r\n",
        "\r\n",
        "  def calcula_media(self):\r\n",
        "    self.media = (self.nota1 + self.nota2) / 2\r\n",
        "    return self.media\r\n",
        "\r\n",
        "  def mostra_dados(self):\r\n",
        "    print('Nome: ', self.nome)\r\n",
        "    print('Nota 1: ', self.nota1)\r\n",
        "    print('Nota 2: ', self.nota2)\r\n",
        "    print('Media: ', self.media)\r\n",
        "    \r\n",
        "\r\n",
        "  def resultado(self):\r\n",
        "    if self.media >= 6.0: \r\n",
        "      return 'O aluno está aprovado'\r\n",
        "    else:\r\n",
        "      return 'O aluno está reprovado'"
      ],
      "execution_count": 73,
      "outputs": []
    },
    {
      "cell_type": "code",
      "metadata": {
        "id": "WXFFtvRkTWSt"
      },
      "source": [
        "aluno1 = Aluno('Marcos', 6.9, 7.4)"
      ],
      "execution_count": 75,
      "outputs": []
    },
    {
      "cell_type": "code",
      "metadata": {
        "colab": {
          "base_uri": "https://localhost:8080/"
        },
        "id": "XQIwExP8U1Iw",
        "outputId": "ff9f3e81-a2fa-4f49-f809-a8035b35de6b"
      },
      "source": [
        "media = aluno1.calcula_media()\r\n",
        "print(media)"
      ],
      "execution_count": 77,
      "outputs": [
        {
          "output_type": "stream",
          "text": [
            "7.15\n"
          ],
          "name": "stdout"
        }
      ]
    },
    {
      "cell_type": "code",
      "metadata": {
        "colab": {
          "base_uri": "https://localhost:8080/"
        },
        "id": "E-0jXJhdU6co",
        "outputId": "7badbc9f-f45c-4c79-c826-f668cb8126ad"
      },
      "source": [
        "aluno1.mostra_dados()"
      ],
      "execution_count": 78,
      "outputs": [
        {
          "output_type": "stream",
          "text": [
            "Nome:  Marcos\n",
            "Nota 1:  6.9\n",
            "Nota 2:  7.4\n",
            "Media:  7.15\n"
          ],
          "name": "stdout"
        }
      ]
    },
    {
      "cell_type": "code",
      "metadata": {
        "colab": {
          "base_uri": "https://localhost:8080/",
          "height": 35
        },
        "id": "hSM8arEQU8zP",
        "outputId": "230fe58a-6fd8-49c4-9f5c-87c09d476dc1"
      },
      "source": [
        "aluno1.resultado()"
      ],
      "execution_count": 79,
      "outputs": [
        {
          "output_type": "execute_result",
          "data": {
            "application/vnd.google.colaboratory.intrinsic+json": {
              "type": "string"
            },
            "text/plain": [
              "'O aluno está aprovado'"
            ]
          },
          "metadata": {
            "tags": []
          },
          "execution_count": 79
        }
      ]
    },
    {
      "cell_type": "code",
      "metadata": {
        "id": "Kre1d9L-TdSv"
      },
      "source": [
        "aluno2 = Aluno('Ana', 6.0, 4.0)"
      ],
      "execution_count": 83,
      "outputs": []
    },
    {
      "cell_type": "code",
      "metadata": {
        "colab": {
          "base_uri": "https://localhost:8080/"
        },
        "id": "gVucKx8TVKIz",
        "outputId": "78ad768b-1ccf-4c5d-8a3d-9ecc87400833"
      },
      "source": [
        "aluno2.calcula_media()"
      ],
      "execution_count": 85,
      "outputs": [
        {
          "output_type": "execute_result",
          "data": {
            "text/plain": [
              "5.0"
            ]
          },
          "metadata": {
            "tags": []
          },
          "execution_count": 85
        }
      ]
    },
    {
      "cell_type": "code",
      "metadata": {
        "colab": {
          "base_uri": "https://localhost:8080/"
        },
        "id": "Fmw_D_piVJzg",
        "outputId": "5d1dcc7e-bb7e-4613-bb82-c634cb87bdd0"
      },
      "source": [
        "aluno2.mostra_dados()"
      ],
      "execution_count": 86,
      "outputs": [
        {
          "output_type": "stream",
          "text": [
            "Nome:  Ana\n",
            "Nota 1:  6.0\n",
            "Nota 2:  4.0\n",
            "Media:  5.0\n"
          ],
          "name": "stdout"
        }
      ]
    },
    {
      "cell_type": "code",
      "metadata": {
        "colab": {
          "base_uri": "https://localhost:8080/",
          "height": 35
        },
        "id": "2O80BLSdVJoC",
        "outputId": "6fe1445e-bcaf-4402-c327-7349b34cb165"
      },
      "source": [
        "aluno2.resultado()"
      ],
      "execution_count": 87,
      "outputs": [
        {
          "output_type": "execute_result",
          "data": {
            "application/vnd.google.colaboratory.intrinsic+json": {
              "type": "string"
            },
            "text/plain": [
              "'O aluno está reprovado'"
            ]
          },
          "metadata": {
            "tags": []
          },
          "execution_count": 87
        }
      ]
    },
    {
      "cell_type": "markdown",
      "metadata": {
        "id": "cySzW_qBYY6r"
      },
      "source": [
        "# FIM DO CONTEÚDO DO CURSO! :)"
      ]
    }
  ]
}