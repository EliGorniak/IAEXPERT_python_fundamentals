{
  "nbformat": 4,
  "nbformat_minor": 0,
  "metadata": {
    "colab": {
      "name": "iaexpert_python_fundamentals.ipynb",
      "provenance": [],
      "collapsed_sections": [],
      "include_colab_link": true
    },
    "kernelspec": {
      "name": "python3",
      "display_name": "Python 3"
    }
  },
  "cells": [
    {
      "cell_type": "markdown",
      "metadata": {
        "id": "view-in-github",
        "colab_type": "text"
      },
      "source": [
        "<a href=\"https://colab.research.google.com/github/EliGorniak/IAEXPERT_python_fundamentals/blob/main/iaexpert_python_fundamentals.ipynb\" target=\"_parent\"><img src=\"https://colab.research.google.com/assets/colab-badge.svg\" alt=\"Open In Colab\"/></a>"
      ]
    },
    {
      "cell_type": "markdown",
      "metadata": {
        "id": "V8QjcFa6R5y2"
      },
      "source": [
        "# Aula 1. Manipulação de variáveis e constantes"
      ]
    },
    {
      "cell_type": "markdown",
      "metadata": {
        "id": "vpSo8ozVTLCo"
      },
      "source": [
        "## Variáveis e constantes\n",
        "\n",
        "- Por meio de variáveis que um algortimo “guarda” os dados do problema\n",
        "- Todo dado que tem a possibilidade de ser alterado no decorrer do tempo deverá ser tratado como uma variável\n",
        "- Quando um dado não tem nenhuma possibilidade de variar no decorrer do tempo, deverá ser tratado como constante\n",
        "\n",
        "Exemplo: calcular a área de um triângulo. Sabemos que a fórmula para o cálculo da área de um triângulo é BASE * ALTURA / 2. **Base** e **altura** são dados que irão variar no decorrer do “tempo de execução”. O número 2 da fórmula é um dado constante, pois sempre terá o mesmo valor\n",
        "\n",
        "## Tipo de variáveis\n",
        "\n",
        "- Inteiros: valores positivos ou negativos, que não possuem uma parte fracionária. Exemplos: 1, 30, 40, 12, -50\n",
        "- Float (real): valores positivos ou negativos, que podem possuir uma parte fracionária (também podem ser inteiros). Exemplos: 1.4, 6.7, 10.3, 100, -47\n",
        "- Caracteres (char ou string): qualquer elemento presente no teclado. Exemplos: “Maria”, “João”, ‘M’, ‘F’\n",
        "- Lógico (boleano): verdadeiro ou falso. Exemplos: true, false, 1, 0"
      ]
    },
    {
      "cell_type": "markdown",
      "metadata": {
        "id": "dJuQ83faR_Pc"
      },
      "source": [
        "## Variáveis inteiras"
      ]
    },
    {
      "cell_type": "code",
      "metadata": {
        "id": "AlNS5Ngsm_dB"
      },
      "source": [
        "numero = -3\n",
        "numero_jogos = 14\n",
        "numero_convidados = 15"
      ],
      "execution_count": null,
      "outputs": []
    },
    {
      "cell_type": "code",
      "metadata": {
        "id": "h11ASYEknOD1",
        "colab": {
          "base_uri": "https://localhost:8080/",
          "height": 34
        },
        "outputId": "09ccff4b-8abc-4412-e838-c1bfbd4ed70e"
      },
      "source": [
        "numero"
      ],
      "execution_count": null,
      "outputs": [
        {
          "output_type": "execute_result",
          "data": {
            "text/plain": [
              "-3"
            ]
          },
          "metadata": {
            "tags": []
          },
          "execution_count": 2
        }
      ]
    },
    {
      "cell_type": "code",
      "metadata": {
        "id": "c8kmjtIinQNi",
        "colab": {
          "base_uri": "https://localhost:8080/",
          "height": 34
        },
        "outputId": "8492b50a-aa97-4e8f-d716-cfb81c7cef6c"
      },
      "source": [
        "print(numero)"
      ],
      "execution_count": null,
      "outputs": [
        {
          "output_type": "stream",
          "text": [
            "-3\n"
          ],
          "name": "stdout"
        }
      ]
    },
    {
      "cell_type": "code",
      "metadata": {
        "id": "KP0Wt0yynY7b",
        "colab": {
          "base_uri": "https://localhost:8080/",
          "height": 34
        },
        "outputId": "485cae45-969d-48a3-f4e8-86be9db7c1e7"
      },
      "source": [
        "print(numero, numero_convidados)"
      ],
      "execution_count": null,
      "outputs": [
        {
          "output_type": "stream",
          "text": [
            "-3 15\n"
          ],
          "name": "stdout"
        }
      ]
    },
    {
      "cell_type": "markdown",
      "metadata": {
        "id": "JhCsz7fBSQ8E"
      },
      "source": [
        "## Variáveis float (ponto flutuante)"
      ]
    },
    {
      "cell_type": "code",
      "metadata": {
        "id": "wNQq80punev_"
      },
      "source": [
        "pi = 3.14\n",
        "numero_euler = 2.71\n",
        "escala_terremoto = -4.55"
      ],
      "execution_count": 1,
      "outputs": []
    },
    {
      "cell_type": "code",
      "metadata": {
        "id": "yusfNXQ2nmCv",
        "colab": {
          "base_uri": "https://localhost:8080/"
        },
        "outputId": "e8382875-266b-471a-de71-fe5c177eb809"
      },
      "source": [
        "print(pi)\n",
        "print(numero_euler)\n",
        "print(escala_terremoto)"
      ],
      "execution_count": 2,
      "outputs": [
        {
          "output_type": "stream",
          "text": [
            "3.14\n",
            "2.71\n",
            "-4.55\n"
          ],
          "name": "stdout"
        }
      ]
    },
    {
      "cell_type": "markdown",
      "metadata": {
        "id": "fCiZKeOFSwig"
      },
      "source": [
        "## Strings e chars"
      ]
    },
    {
      "cell_type": "code",
      "metadata": {
        "id": "yvccp63ZnvEZ"
      },
      "source": [
        "letra = 'a'\n",
        "palavra1 = 'linguagem de programação'\n",
        "palavra2 = 'Python'"
      ],
      "execution_count": null,
      "outputs": []
    },
    {
      "cell_type": "code",
      "metadata": {
        "id": "AwZul8K-n3L-",
        "colab": {
          "base_uri": "https://localhost:8080/",
          "height": 34
        },
        "outputId": "dbb0fd0e-d82e-493a-91b7-0bab8f344335"
      },
      "source": [
        "print(letra, palavra1)"
      ],
      "execution_count": null,
      "outputs": [
        {
          "output_type": "stream",
          "text": [
            "a linguagem de programação\n"
          ],
          "name": "stdout"
        }
      ]
    },
    {
      "cell_type": "code",
      "metadata": {
        "id": "DnEKLamYn7Vw",
        "colab": {
          "base_uri": "https://localhost:8080/",
          "height": 34
        },
        "outputId": "f64e92ce-b909-4bbf-9439-ecf5b7215768"
      },
      "source": [
        "print('Estou aprendendo uma', palavra1)"
      ],
      "execution_count": null,
      "outputs": [
        {
          "output_type": "stream",
          "text": [
            "Estou aprendendo uma linguagem de programação\n"
          ],
          "name": "stdout"
        }
      ]
    },
    {
      "cell_type": "code",
      "metadata": {
        "id": "07uhcWXEoGHs",
        "colab": {
          "base_uri": "https://localhost:8080/",
          "height": 34
        },
        "outputId": "35a9e0b5-4fa0-4f7b-abeb-5c29c8c12c69"
      },
      "source": [
        "print('Esta', palavra1, 'se chama', palavra2)"
      ],
      "execution_count": null,
      "outputs": [
        {
          "output_type": "stream",
          "text": [
            "Esta linguagem de programação se chama Python\n"
          ],
          "name": "stdout"
        }
      ]
    },
    {
      "cell_type": "code",
      "metadata": {
        "id": "QbO7XNY3oQKk",
        "colab": {
          "base_uri": "https://localhost:8080/",
          "height": 50
        },
        "outputId": "efaf6847-684f-4aa7-f9d3-482e65202fda"
      },
      "source": [
        "idade = int(input('Digite sua idade:'))\n",
        "print('Sua idade é ', idade)"
      ],
      "execution_count": null,
      "outputs": [
        {
          "output_type": "stream",
          "text": [
            "Digite sua idade:21\n",
            "Sua idade é  21\n"
          ],
          "name": "stdout"
        }
      ]
    },
    {
      "cell_type": "code",
      "metadata": {
        "id": "4Bmhcm_sogXZ",
        "colab": {
          "base_uri": "https://localhost:8080/"
        },
        "outputId": "546f6a7b-f8e5-4e5a-92ea-9e7aa8c251b2"
      },
      "source": [
        "pH = float(input('Qual o pH do solo durante a última medição? '))\n",
        "print('O pH medido foi ', pH)"
      ],
      "execution_count": 3,
      "outputs": [
        {
          "output_type": "stream",
          "text": [
            "Qual o pH do solo durante a última medição? 2.5\n",
            "O pH medido foi  2.5\n"
          ],
          "name": "stdout"
        }
      ]
    },
    {
      "cell_type": "code",
      "metadata": {
        "id": "TWKEPsOHosFh",
        "colab": {
          "base_uri": "https://localhost:8080/",
          "height": 50
        },
        "outputId": "6b8e6a6c-6626-4624-8ca5-ddcaacca1d59"
      },
      "source": [
        "nome = str(input('Qual o seu nome?'))\n",
        "print('Seu nome é', nome)"
      ],
      "execution_count": null,
      "outputs": [
        {
          "output_type": "stream",
          "text": [
            "Qual o seu nome?Jones\n",
            "Seu nome é Jones\n"
          ],
          "name": "stdout"
        }
      ]
    },
    {
      "cell_type": "code",
      "metadata": {
        "id": "WS0kaS_jo5c2",
        "colab": {
          "base_uri": "https://localhost:8080/",
          "height": 34
        },
        "outputId": "705e3741-49c4-419f-9579-159f74f0cd87"
      },
      "source": [
        "idade"
      ],
      "execution_count": null,
      "outputs": [
        {
          "output_type": "execute_result",
          "data": {
            "text/plain": [
              "21"
            ]
          },
          "metadata": {
            "tags": []
          },
          "execution_count": 16
        }
      ]
    },
    {
      "cell_type": "markdown",
      "metadata": {
        "id": "9XhwkaE4s86u"
      },
      "source": [
        "# Aula 2. Manipulação de Strings"
      ]
    },
    {
      "cell_type": "code",
      "metadata": {
        "colab": {
          "base_uri": "https://localhost:8080/"
        },
        "id": "2YKxFErKtx1e",
        "outputId": "20842bc7-0c37-4ef6-e818-b5dd38d80c30"
      },
      "source": [
        "a = 'casaco'\r\n",
        "print(a)"
      ],
      "execution_count": 4,
      "outputs": [
        {
          "output_type": "stream",
          "text": [
            "casaco\n"
          ],
          "name": "stdout"
        }
      ]
    },
    {
      "cell_type": "code",
      "metadata": {
        "colab": {
          "base_uri": "https://localhost:8080/"
        },
        "id": "pvsYShiF8ubI",
        "outputId": "c875ff4b-45f9-4f48-ac72-677eae962acd"
      },
      "source": [
        "maiuscula = a.upper()\r\n",
        "print(maiuscula)"
      ],
      "execution_count": 5,
      "outputs": [
        {
          "output_type": "stream",
          "text": [
            "CASACO\n"
          ],
          "name": "stdout"
        }
      ]
    },
    {
      "cell_type": "code",
      "metadata": {
        "colab": {
          "base_uri": "https://localhost:8080/"
        },
        "id": "gOheSu3Z8uLo",
        "outputId": "0d5883ee-67d8-42e0-b1e3-947ec3bfd97d"
      },
      "source": [
        "minuscula = maiuscula.lower()\r\n",
        "print(minuscula)"
      ],
      "execution_count": 6,
      "outputs": [
        {
          "output_type": "stream",
          "text": [
            "casaco\n"
          ],
          "name": "stdout"
        }
      ]
    },
    {
      "cell_type": "code",
      "metadata": {
        "colab": {
          "base_uri": "https://localhost:8080/"
        },
        "id": "sz6IAT9m8uAV",
        "outputId": "242b35be-22f5-4cdb-9588-fbc91b0ddb7b"
      },
      "source": [
        "capital = a.capitalize()\r\n",
        "print(capital)"
      ],
      "execution_count": 7,
      "outputs": [
        {
          "output_type": "stream",
          "text": [
            "Casaco\n"
          ],
          "name": "stdout"
        }
      ]
    },
    {
      "cell_type": "code",
      "metadata": {
        "colab": {
          "base_uri": "https://localhost:8080/"
        },
        "id": "TGnxg9xk9D3M",
        "outputId": "08bff44b-dc4c-4968-ad02-3f5f5c660fda"
      },
      "source": [
        "# extrair partes da string pelo índice\r\n",
        "metade_palavra = a[0:3] # de zero a 3\r\n",
        "print(metade_palavra)"
      ],
      "execution_count": 8,
      "outputs": [
        {
          "output_type": "stream",
          "text": [
            "cas\n"
          ],
          "name": "stdout"
        }
      ]
    },
    {
      "cell_type": "code",
      "metadata": {
        "colab": {
          "base_uri": "https://localhost:8080/"
        },
        "id": "4fGgmKSb9Dtd",
        "outputId": "feb6d280-a3c7-48db-bd3c-c6a47055f9a3"
      },
      "source": [
        "# extrair as ultimas letras\r\n",
        "ultimas_letras = a[3:] # da posição 3 até o final (posições 3, 4 e 5)\r\n",
        "print(ultimas_letras)"
      ],
      "execution_count": 10,
      "outputs": [
        {
          "output_type": "stream",
          "text": [
            "aco\n"
          ],
          "name": "stdout"
        }
      ]
    },
    {
      "cell_type": "code",
      "metadata": {
        "colab": {
          "base_uri": "https://localhost:8080/"
        },
        "id": "oNJ2eOpP9DkC",
        "outputId": "890d2e4c-87b0-461e-b656-4e4bb2d59165"
      },
      "source": [
        "# para substituir algum caractere dentro da string\r\n",
        "b = a.replace('aco', 'inha') # substituindo onde tem 'aco' por 'inha' na string\r\n",
        "print(a)\r\n",
        "print(b)"
      ],
      "execution_count": 12,
      "outputs": [
        {
          "output_type": "stream",
          "text": [
            "casaco\n",
            "casinha\n"
          ],
          "name": "stdout"
        }
      ]
    },
    {
      "cell_type": "code",
      "metadata": {
        "colab": {
          "base_uri": "https://localhost:8080/"
        },
        "id": "am8mNZTD_l-7",
        "outputId": "52854666-7544-48fc-de4d-07d6f687077e"
      },
      "source": [
        "c = a. replace('o', 'a')\r\n",
        "print(c)"
      ],
      "execution_count": 13,
      "outputs": [
        {
          "output_type": "stream",
          "text": [
            "casaca\n"
          ],
          "name": "stdout"
        }
      ]
    },
    {
      "cell_type": "code",
      "metadata": {
        "colab": {
          "base_uri": "https://localhost:8080/"
        },
        "id": "PniB-0JC_MVD",
        "outputId": "ad2769ce-260a-43d7-9ae6-60892fe2a2ef"
      },
      "source": [
        "# metodo para achar algum elemento dentro da string\r\n",
        "c.find('s') # a resposta vai indicar o índice/posição dentro da string"
      ],
      "execution_count": 14,
      "outputs": [
        {
          "output_type": "execute_result",
          "data": {
            "text/plain": [
              "2"
            ]
          },
          "metadata": {
            "tags": []
          },
          "execution_count": 14
        }
      ]
    },
    {
      "cell_type": "code",
      "metadata": {
        "colab": {
          "base_uri": "https://localhost:8080/"
        },
        "id": "zZd2vTmR_MMF",
        "outputId": "9c932bd9-2946-4771-d512-64fb0b2cf53b"
      },
      "source": [
        "# se houver mais de um caracter igual, vai retornar a posição de apenas O PRIMEIRO encontrado\r\n",
        "c.find('a')"
      ],
      "execution_count": 15,
      "outputs": [
        {
          "output_type": "execute_result",
          "data": {
            "text/plain": [
              "1"
            ]
          },
          "metadata": {
            "tags": []
          },
          "execution_count": 15
        }
      ]
    },
    {
      "cell_type": "code",
      "metadata": {
        "colab": {
          "base_uri": "https://localhost:8080/"
        },
        "id": "76-ngiBq_MCD",
        "outputId": "3525d57d-eaff-4e6e-9f6d-a784475a21f9"
      },
      "source": [
        "# se tentar achar um caracter que não existe, ele vai retornar -1 ou FALSO\r\n",
        "c.find('b')"
      ],
      "execution_count": 16,
      "outputs": [
        {
          "output_type": "execute_result",
          "data": {
            "text/plain": [
              "-1"
            ]
          },
          "metadata": {
            "tags": []
          },
          "execution_count": 16
        }
      ]
    },
    {
      "cell_type": "code",
      "metadata": {
        "colab": {
          "base_uri": "https://localhost:8080/"
        },
        "id": "NsZiH_FwAkTW",
        "outputId": "a1bb588e-733c-403b-e12b-5a27b7703d6d"
      },
      "source": [
        "# tamanho da string - vai contar inclusive os espaços em branco:\r\n",
        "e = ' casaco '\r\n",
        "print(len(e))"
      ],
      "execution_count": 17,
      "outputs": [
        {
          "output_type": "stream",
          "text": [
            "8\n"
          ],
          "name": "stdout"
        }
      ]
    },
    {
      "cell_type": "code",
      "metadata": {
        "colab": {
          "base_uri": "https://localhost:8080/"
        },
        "id": "Dts3s8PSAwDR",
        "outputId": "702884fe-937a-41da-8542-73d70d956fc2"
      },
      "source": [
        "# para retirar os espaços em branco antes e depois\r\n",
        "f = e.strip()\r\n",
        "print(f)\r\n",
        "print(len(f))"
      ],
      "execution_count": 19,
      "outputs": [
        {
          "output_type": "stream",
          "text": [
            "casaco\n",
            "6\n"
          ],
          "name": "stdout"
        }
      ]
    },
    {
      "cell_type": "code",
      "metadata": {
        "colab": {
          "base_uri": "https://localhost:8080/"
        },
        "id": "FfDAS727Avqa",
        "outputId": "3e3a2dae-313e-4a09-baf4-c85e5ea066ac"
      },
      "source": [
        "# usando f para indicar formatação e uso das variáveis concatenadas dentro da string:\r\n",
        "n1 = 14\r\n",
        "n2 = 16\r\n",
        "print(f'Dividindo {n1} por {n2} o resultado é {n1/n2}.')"
      ],
      "execution_count": 20,
      "outputs": [
        {
          "output_type": "stream",
          "text": [
            "Dividindo 14 por 16 o resultado é 0.875.\n"
          ],
          "name": "stdout"
        }
      ]
    },
    {
      "cell_type": "markdown",
      "metadata": {
        "id": "ZOB9XkHTB4mD"
      },
      "source": [
        "# Aula 3. Operações matemáticas"
      ]
    },
    {
      "cell_type": "code",
      "metadata": {
        "colab": {
          "base_uri": "https://localhost:8080/"
        },
        "id": "HO5awM23B-xe",
        "outputId": "68f75f34-3f91-4d25-e581-1832c9b731ef"
      },
      "source": [
        "a = 5\r\n",
        "b = 3\r\n",
        "print(a + b)"
      ],
      "execution_count": 21,
      "outputs": [
        {
          "output_type": "stream",
          "text": [
            "8\n"
          ],
          "name": "stdout"
        }
      ]
    },
    {
      "cell_type": "code",
      "metadata": {
        "colab": {
          "base_uri": "https://localhost:8080/"
        },
        "id": "2j4hrsOvB_vB",
        "outputId": "258c8e1f-9453-4acc-abc8-c01d69e79181"
      },
      "source": [
        "a + b"
      ],
      "execution_count": 22,
      "outputs": [
        {
          "output_type": "execute_result",
          "data": {
            "text/plain": [
              "8"
            ]
          },
          "metadata": {
            "tags": []
          },
          "execution_count": 22
        }
      ]
    },
    {
      "cell_type": "code",
      "metadata": {
        "colab": {
          "base_uri": "https://localhost:8080/"
        },
        "id": "x7nNDKEqB_lb",
        "outputId": "065a5a36-9f05-474d-b24a-bd27e8f6d540"
      },
      "source": [
        "# operações matematicas:\r\n",
        "print('A soma é ', a + b)\r\n",
        "print('A subtração é ', a - b)\r\n",
        "print('A multiplicação é', a * b)\r\n",
        "print('A divisão é', a/b)\r\n",
        "print('O resto da divisão é', a%b) #vai devolver o que sobra da divisão\r\n",
        "print('5 elevado a 3 é', 5**3) # numero elevado a uma potencia\r\n"
      ],
      "execution_count": 27,
      "outputs": [
        {
          "output_type": "stream",
          "text": [
            "A soma é  8\n",
            "A subtração é  2\n",
            "A multiplicação é 15\n",
            "A divisão é 1.6666666666666667\n",
            "O resto da divisão é 2\n",
            "5 elevado a 3 é 125\n"
          ],
          "name": "stdout"
        }
      ]
    },
    {
      "cell_type": "code",
      "metadata": {
        "colab": {
          "base_uri": "https://localhost:8080/"
        },
        "id": "FvEpTQtHDcwg",
        "outputId": "30979981-abe2-43a3-ff80-b890716a7565"
      },
      "source": [
        "# para extrair a raiz quadrada, importar a biblioteca MATH\r\n",
        "import math \r\n",
        "math.sqrt(81)"
      ],
      "execution_count": 28,
      "outputs": [
        {
          "output_type": "execute_result",
          "data": {
            "text/plain": [
              "9.0"
            ]
          },
          "metadata": {
            "tags": []
          },
          "execution_count": 28
        }
      ]
    },
    {
      "cell_type": "markdown",
      "metadata": {
        "id": "aHrX-I2gCZC8"
      },
      "source": [
        "## **Arredondamento**"
      ]
    },
    {
      "cell_type": "code",
      "metadata": {
        "colab": {
          "base_uri": "https://localhost:8080/"
        },
        "id": "I_YvCzQfB_dX",
        "outputId": "a5a48483-5cfd-4665-8a03-de3c76aaa448"
      },
      "source": [
        "casos_doenca = 134\r\n",
        "numero_habitantes = 34432\r\n",
        "casos_por_habitante = casos_doenca / numero_habitantes\r\n",
        "print(casos_por_habitante)"
      ],
      "execution_count": 33,
      "outputs": [
        {
          "output_type": "stream",
          "text": [
            "0.003891728624535316\n"
          ],
          "name": "stdout"
        }
      ]
    },
    {
      "cell_type": "code",
      "metadata": {
        "colab": {
          "base_uri": "https://localhost:8080/"
        },
        "id": "NU4PsbzGD7G_",
        "outputId": "71d567e8-b143-473c-ff65-140f5b57999c"
      },
      "source": [
        "# para arredondar o resultado, usar a função ROUND e o numero de casas decimais desejadas\r\n",
        "round(casos_por_habitante, 6)\r\n",
        "print('O número de casos por habitante é de', round(casos_por_habitante, 4))"
      ],
      "execution_count": 36,
      "outputs": [
        {
          "output_type": "stream",
          "text": [
            "O número de casos por habitante é de 0.0039\n"
          ],
          "name": "stdout"
        }
      ]
    },
    {
      "cell_type": "markdown",
      "metadata": {
        "id": "0pfvImIjEngz"
      },
      "source": [
        "#### **Exercicios de fixação**"
      ]
    },
    {
      "cell_type": "markdown",
      "metadata": {
        "id": "DcIXVyawExb2"
      },
      "source": [
        "**1. Ler dois números inteiros, executar e mostrar o resultado das seguintes operações: adição, subtração, multiplicação e divisão**"
      ]
    },
    {
      "cell_type": "code",
      "metadata": {
        "colab": {
          "base_uri": "https://localhost:8080/"
        },
        "id": "XDQN12kiE16P",
        "outputId": "12988749-2a61-4945-d407-9d9cc876c5e3"
      },
      "source": [
        "numero1 = int(input('Digite um número:'))\r\n",
        "numero2 = int(input('Digite um número:'))\r\n",
        "print('adição dos dois números:', numero1 + numero2)\r\n",
        "print('subtração dos dois números:', numero1 - numero2)\r\n",
        "print('multiplicação dos dois números:', numero1 * numero2)\r\n",
        "print('divisão dos dois números:', round(numero1 / numero2, 2))"
      ],
      "execution_count": 46,
      "outputs": [
        {
          "output_type": "stream",
          "text": [
            "Digite um número:5\n",
            "Digite um número:3\n",
            "adição dos dois números: 8\n",
            "subtração dos dois números: 2\n",
            "multiplicação dos dois números: 15\n",
            "divisão dos dois números: 1.67\n"
          ],
          "name": "stdout"
        }
      ]
    },
    {
      "cell_type": "markdown",
      "metadata": {
        "id": "g0LQQnyQEzGi"
      },
      "source": [
        "**2. Efetuar o cálculo da quantidade de litros de combustível gasto em uma viagem, utilizando um automóvel que faz 12 Km por litro. Para obter o cálculo, o usuário deve fornecer o tempo gasto na viagem e a velocidade média durante ela. Desta forma, será possível obter a distância percorrida com a fórmula DISTANCIA = TEMPO * VELOCIDADE. Tendo o valor da distância, basta calcular a quantidade de litros de combustível utilizada na viagem, com a fórmula: LITROS_USADOS = DISTANCIA / 12. O programa deve apresentar os valores da velocidade média, tempo gasto na viagem, a distância percorrida e a quantidade de litros utilizada na viagem.**"
      ]
    },
    {
      "cell_type": "code",
      "metadata": {
        "colab": {
          "base_uri": "https://localhost:8080/"
        },
        "id": "6DWK5j2ZD-om",
        "outputId": "d8962261-c702-4f96-c81f-912c0106d0b9"
      },
      "source": [
        "consumo = 12\r\n",
        "tempo_viagem = float(input('Digite o tempo de viagem: '))\r\n",
        "velocidade = float(input('Digite a velocidade média: '))\r\n",
        "distancia_percorrida = tempo_viagem * velocidade\r\n",
        "consumo_total = round(distancia_percorrida / consumo, 2)\r\n",
        "print(f'A velocidade média foi de {velocidade}km/h, o tempo gasto foi de {tempo_viagem} horas, a distancia total percorrida foi de {distancia_percorrida} km e o consumo total foi de {consumo_total} litros.')"
      ],
      "execution_count": 48,
      "outputs": [
        {
          "output_type": "stream",
          "text": [
            "Digite o tempo de viagem: 3.5\n",
            "Digite a velocidade média: 80\n",
            "A velocidade média foi de 80.0km/h, o tempo gasto foi de 3.5 horas, a distancia total percorrida foi de 280.0 km e o consumo total foi de 23.33 litros.\n"
          ],
          "name": "stdout"
        }
      ]
    },
    {
      "cell_type": "markdown",
      "metadata": {
        "id": "sVavrR7sRpYO"
      },
      "source": [
        "# Aula 4. Operadores lógicos e relacionais"
      ]
    },
    {
      "cell_type": "markdown",
      "metadata": {
        "id": "XdPPv-Z6R3Ei"
      },
      "source": [
        "## 4.1 Operadores lógicos"
      ]
    },
    {
      "cell_type": "code",
      "metadata": {
        "colab": {
          "base_uri": "https://localhost:8080/"
        },
        "id": "SbnvV0GARvGN",
        "outputId": "2afd451b-5e74-4a20-c762-c31753168975"
      },
      "source": [
        "a = True\r\n",
        "b = False\r\n",
        "print(a, b)"
      ],
      "execution_count": 50,
      "outputs": [
        {
          "output_type": "stream",
          "text": [
            "True False\n"
          ],
          "name": "stdout"
        }
      ]
    },
    {
      "cell_type": "code",
      "metadata": {
        "colab": {
          "base_uri": "https://localhost:8080/"
        },
        "id": "pLPY2NL3SM18",
        "outputId": "34fd6312-6f8d-4168-ede0-9c0c8093b508"
      },
      "source": [
        "a and b"
      ],
      "execution_count": 51,
      "outputs": [
        {
          "output_type": "execute_result",
          "data": {
            "text/plain": [
              "False"
            ]
          },
          "metadata": {
            "tags": []
          },
          "execution_count": 51
        }
      ]
    },
    {
      "cell_type": "code",
      "metadata": {
        "colab": {
          "base_uri": "https://localhost:8080/"
        },
        "id": "Hc3VUkMySMj3",
        "outputId": "18b273df-bec4-4da9-a6ad-eb2bb67a5d42"
      },
      "source": [
        "a & b"
      ],
      "execution_count": 52,
      "outputs": [
        {
          "output_type": "execute_result",
          "data": {
            "text/plain": [
              "False"
            ]
          },
          "metadata": {
            "tags": []
          },
          "execution_count": 52
        }
      ]
    },
    {
      "cell_type": "code",
      "metadata": {
        "colab": {
          "base_uri": "https://localhost:8080/"
        },
        "id": "UdAYVE62SY-n",
        "outputId": "1168382d-02b5-402b-c4ab-b69679946575"
      },
      "source": [
        "c = a and b\r\n",
        "print('A e B são iguais é:', c) # para usar aspas dentro da string, usar aspas duplas por fora e dentro simples: \"'A' e 'B' são iguais é\""
      ],
      "execution_count": 54,
      "outputs": [
        {
          "output_type": "stream",
          "text": [
            "A e B são iguais é: False\n"
          ],
          "name": "stdout"
        }
      ]
    },
    {
      "cell_type": "code",
      "metadata": {
        "colab": {
          "base_uri": "https://localhost:8080/"
        },
        "id": "8AcQBmCOTF1Z",
        "outputId": "c74599c5-ba10-46ab-ca2b-c94fe7abeef8"
      },
      "source": [
        "a or b"
      ],
      "execution_count": 55,
      "outputs": [
        {
          "output_type": "execute_result",
          "data": {
            "text/plain": [
              "True"
            ]
          },
          "metadata": {
            "tags": []
          },
          "execution_count": 55
        }
      ]
    },
    {
      "cell_type": "code",
      "metadata": {
        "colab": {
          "base_uri": "https://localhost:8080/"
        },
        "id": "ik6TdaG0TFoy",
        "outputId": "9070b895-c350-404c-c68c-cc83094f311a"
      },
      "source": [
        "a | b"
      ],
      "execution_count": 56,
      "outputs": [
        {
          "output_type": "execute_result",
          "data": {
            "text/plain": [
              "True"
            ]
          },
          "metadata": {
            "tags": []
          },
          "execution_count": 56
        }
      ]
    },
    {
      "cell_type": "code",
      "metadata": {
        "colab": {
          "base_uri": "https://localhost:8080/"
        },
        "id": "nSUqvbw7TLU5",
        "outputId": "bcc0e373-abe8-499c-dd87-f9dbd5a953fe"
      },
      "source": [
        "d = a or b\r\n",
        "print(\"'A' ou 'B' é igual a\", d)"
      ],
      "execution_count": 58,
      "outputs": [
        {
          "output_type": "stream",
          "text": [
            "'A' ou 'B' é igual a True\n"
          ],
          "name": "stdout"
        }
      ]
    },
    {
      "cell_type": "code",
      "metadata": {
        "colab": {
          "base_uri": "https://localhost:8080/"
        },
        "id": "jZnONkLdTY2m",
        "outputId": "a523d9a6-f5fc-4108-856f-0685ba09eb2f"
      },
      "source": [
        "not a"
      ],
      "execution_count": 59,
      "outputs": [
        {
          "output_type": "execute_result",
          "data": {
            "text/plain": [
              "False"
            ]
          },
          "metadata": {
            "tags": []
          },
          "execution_count": 59
        }
      ]
    },
    {
      "cell_type": "code",
      "metadata": {
        "colab": {
          "base_uri": "https://localhost:8080/"
        },
        "id": "dlza3LrSTYsh",
        "outputId": "28f01e63-05e8-47ac-ed30-663df090771f"
      },
      "source": [
        "not b"
      ],
      "execution_count": 60,
      "outputs": [
        {
          "output_type": "execute_result",
          "data": {
            "text/plain": [
              "True"
            ]
          },
          "metadata": {
            "tags": []
          },
          "execution_count": 60
        }
      ]
    },
    {
      "cell_type": "markdown",
      "metadata": {
        "id": "AZIb3g9bR86B"
      },
      "source": [
        "## 4.2 Operadores relacionais"
      ]
    },
    {
      "cell_type": "code",
      "metadata": {
        "colab": {
          "base_uri": "https://localhost:8080/"
        },
        "id": "qYzMd7NWSAC6",
        "outputId": "4b7ce461-dfb9-4d00-f30c-36af9b01f999"
      },
      "source": [
        "5 > 3"
      ],
      "execution_count": 63,
      "outputs": [
        {
          "output_type": "execute_result",
          "data": {
            "text/plain": [
              "True"
            ]
          },
          "metadata": {
            "tags": []
          },
          "execution_count": 63
        }
      ]
    },
    {
      "cell_type": "code",
      "metadata": {
        "colab": {
          "base_uri": "https://localhost:8080/"
        },
        "id": "WT2loC6sTwDJ",
        "outputId": "f3369c8c-810c-45b6-ca54-4a32d7672ca3"
      },
      "source": [
        "5 < 3"
      ],
      "execution_count": 64,
      "outputs": [
        {
          "output_type": "execute_result",
          "data": {
            "text/plain": [
              "False"
            ]
          },
          "metadata": {
            "tags": []
          },
          "execution_count": 64
        }
      ]
    },
    {
      "cell_type": "code",
      "metadata": {
        "colab": {
          "base_uri": "https://localhost:8080/"
        },
        "id": "ndaf0QYUTv-n",
        "outputId": "7d5407a6-e766-4800-b031-f755e32d8b69"
      },
      "source": [
        "5 >= 5"
      ],
      "execution_count": 65,
      "outputs": [
        {
          "output_type": "execute_result",
          "data": {
            "text/plain": [
              "True"
            ]
          },
          "metadata": {
            "tags": []
          },
          "execution_count": 65
        }
      ]
    },
    {
      "cell_type": "code",
      "metadata": {
        "colab": {
          "base_uri": "https://localhost:8080/"
        },
        "id": "a3-x9u2ATv6k",
        "outputId": "e2dc6969-0291-444b-bb2b-af99566c284c"
      },
      "source": [
        "5 <= 3"
      ],
      "execution_count": 67,
      "outputs": [
        {
          "output_type": "execute_result",
          "data": {
            "text/plain": [
              "False"
            ]
          },
          "metadata": {
            "tags": []
          },
          "execution_count": 67
        }
      ]
    },
    {
      "cell_type": "code",
      "metadata": {
        "colab": {
          "base_uri": "https://localhost:8080/"
        },
        "id": "J_Ro5BLgTv2t",
        "outputId": "1c593e1d-9023-4a4e-c340-b628b60ac74b"
      },
      "source": [
        "5 == 3"
      ],
      "execution_count": 68,
      "outputs": [
        {
          "output_type": "execute_result",
          "data": {
            "text/plain": [
              "False"
            ]
          },
          "metadata": {
            "tags": []
          },
          "execution_count": 68
        }
      ]
    },
    {
      "cell_type": "code",
      "metadata": {
        "colab": {
          "base_uri": "https://localhost:8080/"
        },
        "id": "s4UV3vQqTvyQ",
        "outputId": "95cb8cce-1b52-4038-bde6-e9194402c050"
      },
      "source": [
        "5 != 3"
      ],
      "execution_count": 69,
      "outputs": [
        {
          "output_type": "execute_result",
          "data": {
            "text/plain": [
              "True"
            ]
          },
          "metadata": {
            "tags": []
          },
          "execution_count": 69
        }
      ]
    },
    {
      "cell_type": "markdown",
      "metadata": {
        "id": "uI6xc4D3UFi_"
      },
      "source": [
        "## 4.3 Operadores condicionais - if, else"
      ]
    },
    {
      "cell_type": "code",
      "metadata": {
        "colab": {
          "base_uri": "https://localhost:8080/"
        },
        "id": "CMfzpu60Tvt1",
        "outputId": "312d43e0-fbe8-4d57-861e-1173dad9c93b"
      },
      "source": [
        "if 5 > 3:\r\n",
        "  print('5 é maior que 3')"
      ],
      "execution_count": 70,
      "outputs": [
        {
          "output_type": "stream",
          "text": [
            "5 é maior que 3\n"
          ],
          "name": "stdout"
        }
      ]
    },
    {
      "cell_type": "code",
      "metadata": {
        "colab": {
          "base_uri": "https://localhost:8080/"
        },
        "id": "6eWtJ2-LVF3F",
        "outputId": "982b97a2-6986-4c5d-90ee-fb42cbff8e8d"
      },
      "source": [
        "# 2 condições:\r\n",
        "if 5 > 6:\r\n",
        "  print('5 é maior')\r\n",
        "else:\r\n",
        "  print('5 não é maior')"
      ],
      "execution_count": 72,
      "outputs": [
        {
          "output_type": "stream",
          "text": [
            "5 não é maior\n"
          ],
          "name": "stdout"
        }
      ]
    },
    {
      "cell_type": "code",
      "metadata": {
        "colab": {
          "base_uri": "https://localhost:8080/"
        },
        "id": "C3e2mCRpTvnF",
        "outputId": "beb1dbf8-9a7e-497e-afd4-42daf59e5a9c"
      },
      "source": [
        "# mais de 2 condições:\r\n",
        "n = 9\r\n",
        "if n == 4:\r\n",
        "  print('n é igual a 4')\r\n",
        "else:\r\n",
        "  if n == 3:\r\n",
        "    print('n é igual a 3')\r\n",
        "  else:\r\n",
        "    print('n não é igual a 4 nem 3')"
      ],
      "execution_count": 75,
      "outputs": [
        {
          "output_type": "stream",
          "text": [
            "n não é igual a 4 nem 3\n"
          ],
          "name": "stdout"
        }
      ]
    },
    {
      "cell_type": "code",
      "metadata": {
        "colab": {
          "base_uri": "https://localhost:8080/"
        },
        "id": "p-CIpoUSTvfz",
        "outputId": "2ce8988d-30e4-49a3-8d56-6cde41dae625"
      },
      "source": [
        "x = 4\r\n",
        "y = 3\r\n",
        "if (x > 1) and (y % 2 == 0):\r\n",
        "  print('x é maior que 2 e y é par.')\r\n",
        "else:\r\n",
        "  print('Uma apenas ou nenhuma das condições foram satisfeitas.')"
      ],
      "execution_count": 79,
      "outputs": [
        {
          "output_type": "stream",
          "text": [
            "Uma apenas ou nenhuma das condições foram satisfeitas.\n"
          ],
          "name": "stdout"
        }
      ]
    },
    {
      "cell_type": "markdown",
      "metadata": {
        "id": "CLSlb0IHWo4-"
      },
      "source": [
        "#### **Exercicios de fixação**"
      ]
    },
    {
      "cell_type": "markdown",
      "metadata": {
        "id": "q8SgsDfLWr1F"
      },
      "source": [
        "1. Leia a idade do usuário e classifique-o em:\r\n",
        "* Criança – 0 a 12 anos\r\n",
        "* Adolescente – 13 a 17 anos\r\n",
        "* Adulto – acima de 18 anos\r\n",
        "* Se o usuário digitar um número negativo, mostrar a mensagem que a idade é inválida."
      ]
    },
    {
      "cell_type": "code",
      "metadata": {
        "colab": {
          "base_uri": "https://localhost:8080/"
        },
        "id": "b97SyIAWXAry",
        "outputId": "c58af67c-1562-4846-9c85-dae4f9a6e5dd"
      },
      "source": [
        "idade = int(input('Digite sua idade: '))\r\n",
        "if (idade <= 12):\r\n",
        "  print(f'Sua idade é {idade}, portanto, Criança.')\r\n",
        "elif (idade >= 13 and idade <= 18):\r\n",
        "  print(f'Sua idade é {idade}, portanto, Adolescente.')\r\n",
        "elif (idade > 18):\r\n",
        "  print(f'Sua idade é {idade}, portanto, Adulto.')\r\n",
        "else:\r\n",
        "  print('Idade inválida. Digite novamente.')"
      ],
      "execution_count": 92,
      "outputs": [
        {
          "output_type": "stream",
          "text": [
            "Digite sua idade: 88\n",
            "Sua idade é 88, portanto, Adulto.\n"
          ],
          "name": "stdout"
        }
      ]
    },
    {
      "cell_type": "markdown",
      "metadata": {
        "id": "MU5Or89iXBXe"
      },
      "source": [
        "2. Calcular a média de um aluno que cursou a disciplina de Programação I, a partir da leitura das notas M1, M2 e M3; passando por um cálculo da média aritmética. Após a média calculada, devemos anunciar se o aluno foi aprovado, reprovado ou pegou exame:\r\n",
        "* Se a média estiver entre 0.0 e 4.0, o aluno está reprovado\r\n",
        "* Se a média estiver entre 4.1 e 6.0, o aluno pegou exame\r\n",
        "* Se a média for maior do que 6.0, o aluno está aprovado\r\n",
        "* Se o aluno pegou exame, deve ser lida a nota do exame. Se a nota do exame for maior do que 6.0, está aprovado, senão; está reprovado."
      ]
    },
    {
      "cell_type": "code",
      "metadata": {
        "colab": {
          "base_uri": "https://localhost:8080/"
        },
        "id": "LaRjy0ChW7aO",
        "outputId": "8e8acb8e-d472-4a62-b676-02bf8a7d4aa9"
      },
      "source": [
        "m1 = float(input('Digite a primeira nota: '))\r\n",
        "m2 = float(input('Digite a segunda nota: '))\r\n",
        "m3 = float(input('Digite a terceira nota: '))\r\n",
        "media = (m1 + m2 + m3)/3\r\n",
        "print('Sua média é', round(media, 2))\r\n",
        "if (media <= 4.0):\r\n",
        "  print('Você reprovou!')\r\n",
        "elif (media >= 4.1 and media <= 6.0):\r\n",
        "  print('Você pegou exame!')\r\n",
        "  exame = float(input('Digite a nota do seu exame: '))\r\n",
        "  if (exame > 6.0):\r\n",
        "    print('Você está aprovado no exame!')\r\n",
        "  else:\r\n",
        "    print('Você reprovou no exame!')\r\n",
        "elif (media > 6.0):\r\n",
        "  print('Você está aprovado!')"
      ],
      "execution_count": 106,
      "outputs": [
        {
          "output_type": "stream",
          "text": [
            "Digite a primeira nota: 5\n",
            "Digite a segunda nota: 6\n",
            "Digite a terceira nota: 4\n",
            "Sua média é 5.0\n",
            "Você pegou exame!\n",
            "Digite a nota do seu exame: 5\n",
            "Você reprovou no exame!\n"
          ],
          "name": "stdout"
        }
      ]
    },
    {
      "cell_type": "markdown",
      "metadata": {
        "id": "lg2dJZt7dEvK"
      },
      "source": [
        "# Aula 5. Estruturas de repetição"
      ]
    },
    {
      "cell_type": "markdown",
      "metadata": {
        "id": "AKJyPbxZdMYn"
      },
      "source": [
        "## 5.1 Estrutura de repetição - For"
      ]
    },
    {
      "cell_type": "code",
      "metadata": {
        "colab": {
          "base_uri": "https://localhost:8080/"
        },
        "id": "fbck73-ramxx",
        "outputId": "f09c04df-2754-45cb-e20e-931df12993df"
      },
      "source": [
        "for numero in range(1,5): #imprime de 1 a 4, o ultimo numero não imprime!\r\n",
        "  print(numero)"
      ],
      "execution_count": 107,
      "outputs": [
        {
          "output_type": "stream",
          "text": [
            "1\n",
            "2\n",
            "3\n",
            "4\n"
          ],
          "name": "stdout"
        }
      ]
    },
    {
      "cell_type": "code",
      "metadata": {
        "colab": {
          "base_uri": "https://localhost:8080/"
        },
        "id": "t0jw6x7UdVpM",
        "outputId": "eb84a554-dc2d-4fb1-e628-a95906a62c55"
      },
      "source": [
        "for numero in range(5, 0, -1): # o terceiro parametro é o step, de quantos em quantos\r\n",
        "  print(numero)"
      ],
      "execution_count": 109,
      "outputs": [
        {
          "output_type": "stream",
          "text": [
            "5\n",
            "4\n",
            "3\n",
            "2\n",
            "1\n"
          ],
          "name": "stdout"
        }
      ]
    },
    {
      "cell_type": "code",
      "metadata": {
        "colab": {
          "base_uri": "https://localhost:8080/"
        },
        "id": "48b4B9kKdVf3",
        "outputId": "1e543d62-345c-4fd7-8a27-6be8ac3f348b"
      },
      "source": [
        "soma = 0\r\n",
        "for numero in range (1, 6):\r\n",
        "  soma = soma + numero\r\n",
        "  print(soma)\r\n",
        "print(soma)"
      ],
      "execution_count": 112,
      "outputs": [
        {
          "output_type": "stream",
          "text": [
            "1\n",
            "3\n",
            "6\n",
            "10\n",
            "15\n",
            "15\n"
          ],
          "name": "stdout"
        }
      ]
    },
    {
      "cell_type": "code",
      "metadata": {
        "colab": {
          "base_uri": "https://localhost:8080/"
        },
        "id": "hGb2kX5RhIx-",
        "outputId": "5849c10b-b116-425f-d241-d44c32ab26aa"
      },
      "source": [
        "# como utilizar o for para percorrer strings:\r\n",
        "palavra = 'sorvete'\r\n",
        "for letra in palavra:\r\n",
        "  print(letra)\r\n",
        "  if letra == 'v':\r\n",
        "    print('Achou a letra v!')"
      ],
      "execution_count": 114,
      "outputs": [
        {
          "output_type": "stream",
          "text": [
            "s\n",
            "o\n",
            "r\n",
            "v\n",
            "Achou a letra v!\n",
            "e\n",
            "t\n",
            "e\n"
          ],
          "name": "stdout"
        }
      ]
    },
    {
      "cell_type": "code",
      "metadata": {
        "colab": {
          "base_uri": "https://localhost:8080/"
        },
        "id": "ywnK0BBSho1I",
        "outputId": "f3d355a4-889d-430b-919c-3e2eb90b07b1"
      },
      "source": [
        "# como utilizar o for aninhado, excelente para percorrer matrizes\r\n",
        "for i in range(0,5):\r\n",
        "  print(i)\r\n",
        "  print('---')\r\n",
        "  for j in range (0,3): # para cada i impresso, ele vai imprimir 0, 1 e 2\r\n",
        "    print(j)\r\n",
        "  print()"
      ],
      "execution_count": 117,
      "outputs": [
        {
          "output_type": "stream",
          "text": [
            "0\n",
            "---\n",
            "0\n",
            "1\n",
            "2\n",
            "\n",
            "1\n",
            "---\n",
            "0\n",
            "1\n",
            "2\n",
            "\n",
            "2\n",
            "---\n",
            "0\n",
            "1\n",
            "2\n",
            "\n",
            "3\n",
            "---\n",
            "0\n",
            "1\n",
            "2\n",
            "\n",
            "4\n",
            "---\n",
            "0\n",
            "1\n",
            "2\n",
            "\n"
          ],
          "name": "stdout"
        }
      ]
    },
    {
      "cell_type": "markdown",
      "metadata": {
        "id": "82OrHjzrdWPu"
      },
      "source": [
        "## 5.2 Estrutura de repetição - While"
      ]
    },
    {
      "cell_type": "code",
      "metadata": {
        "colab": {
          "base_uri": "https://localhost:8080/"
        },
        "id": "RBCrGnGuicmj",
        "outputId": "c703aaaa-0076-4167-b9ac-620b7ce04e13"
      },
      "source": [
        "# sempre que trabalhar com while precisa usar um break, senão vai ficar rodando até o final da memoria!\r\n",
        "# SEMPRE definir uma variavel fora do while\r\n",
        "numero = 1 \r\n",
        "while numero < 6: # SEMPRE definir uma condição\r\n",
        "  print(numero)\r\n",
        "  numero += 1 # SEMPRE colocar um incremento para evitar o loop infinito!!!!!!!!!!!  \r\n",
        "print('- - -')"
      ],
      "execution_count": 122,
      "outputs": [
        {
          "output_type": "stream",
          "text": [
            "1\n",
            "2\n",
            "3\n",
            "4\n",
            "5\n",
            "- - -\n"
          ],
          "name": "stdout"
        }
      ]
    },
    {
      "cell_type": "code",
      "metadata": {
        "colab": {
          "base_uri": "https://localhost:8080/"
        },
        "id": "-dbaUwFPdYx7",
        "outputId": "fcdbfe3d-b4dc-45f7-8d29-3d9082ea59ba"
      },
      "source": [
        "# while invertido\r\n",
        "numero = 5\r\n",
        "while numero > 0:\r\n",
        "  print(numero)\r\n",
        "  numero -= 1"
      ],
      "execution_count": 123,
      "outputs": [
        {
          "output_type": "stream",
          "text": [
            "5\n",
            "4\n",
            "3\n",
            "2\n",
            "1\n"
          ],
          "name": "stdout"
        }
      ]
    },
    {
      "cell_type": "code",
      "metadata": {
        "colab": {
          "base_uri": "https://localhost:8080/"
        },
        "id": "bJJC6wV2q5GM",
        "outputId": "03c21362-e0ee-4307-f6e6-5066e8630b82"
      },
      "source": [
        "soma = 0\r\n",
        "numero = 1\r\n",
        "while numero < 6:\r\n",
        "  soma += numero\r\n",
        "  print(soma)\r\n",
        "  numero += 1\r\n",
        "  print(numero)\r\n",
        "  ('...')\r\n",
        "print(soma)"
      ],
      "execution_count": 126,
      "outputs": [
        {
          "output_type": "stream",
          "text": [
            "1\n",
            "2\n",
            "3\n",
            "3\n",
            "6\n",
            "4\n",
            "10\n",
            "5\n",
            "15\n",
            "6\n",
            "15\n"
          ],
          "name": "stdout"
        }
      ]
    },
    {
      "cell_type": "code",
      "metadata": {
        "colab": {
          "base_uri": "https://localhost:8080/"
        },
        "id": "tSruQ95udY-H",
        "outputId": "e92da041-fa19-453a-9c40-41e2cd9c33ff"
      },
      "source": [
        "# usando o while quando o usuario precisa digitar algum input\r\n",
        "# semelhante a uma validação do input do usuario\r\n",
        "numero = -1\r\n",
        "while numero < 1 or numero > 10:\r\n",
        "  numero = int(input('Digite um numerode 1 a 10: ')) # enquanto o usuario digitar qualquer numero fora do range, ele vai continuar executando...\r\n",
        "# enquanto a condição for FALSA, ele continua executando o loop.\r\n",
        "# quando a condição for VERDADEIRA, ele pára a execução"
      ],
      "execution_count": 127,
      "outputs": [
        {
          "output_type": "stream",
          "text": [
            "Digite um numerode 1 a 10: 12\n",
            "Digite um numerode 1 a 10: 7\n"
          ],
          "name": "stdout"
        }
      ]
    },
    {
      "cell_type": "markdown",
      "metadata": {
        "id": "Kq8m97FMvGF9"
      },
      "source": [
        "#### **Exercicios de fixação**"
      ]
    },
    {
      "cell_type": "markdown",
      "metadata": {
        "id": "utZVXDbsvJfZ"
      },
      "source": [
        "1. Ler 5 notas e informar a média."
      ]
    },
    {
      "cell_type": "code",
      "metadata": {
        "colab": {
          "base_uri": "https://localhost:8080/"
        },
        "id": "qxIrr6RBvSY7",
        "outputId": "43d17f2f-751c-4066-d1b2-8fd40841ce73"
      },
      "source": [
        "# usando FOR:\r\n",
        "soma_notas = 0\r\n",
        "n_notas = 5\r\n",
        "for _ in range(n_notas): # usa-se _ para substituir a definição de alguma variavel que não vai ser utilizada posteriormente, apenas para percorrer o FOR\r\n",
        "  soma_notas = float(input('Digite uma nota: ')) + soma_notas\r\n",
        "  # print(soma_notas)\r\n",
        "media = soma_notas / n_notas\r\n",
        "print(f'A média é {media}.')"
      ],
      "execution_count": 137,
      "outputs": [
        {
          "output_type": "stream",
          "text": [
            "Digite uma nota: 9\n",
            "Digite uma nota: 8\n",
            "Digite uma nota: 7\n",
            "Digite uma nota: 6\n",
            "Digite uma nota: 9\n",
            "A média é 7.8.\n"
          ],
          "name": "stdout"
        }
      ]
    },
    {
      "cell_type": "code",
      "metadata": {
        "colab": {
          "base_uri": "https://localhost:8080/"
        },
        "id": "uumqQ9JHzg8C",
        "outputId": "8e8b2538-eee0-429e-e23d-4b0cabbac0f6"
      },
      "source": [
        "# usando o WHILE:\r\n",
        "numero = 1\r\n",
        "while numero <= 5:\r\n",
        "  nota = float(input(\"Digite a nota: \"))\r\n",
        "  soma += nota\r\n",
        "  numero += 1\r\n",
        "print('A média é ', soma/5)"
      ],
      "execution_count": 142,
      "outputs": [
        {
          "output_type": "stream",
          "text": [
            "Digite a nota: 9\n",
            "Digite a nota: 8\n",
            "Digite a nota: 7\n",
            "Digite a nota: 6\n",
            "Digite a nota: 5\n",
            "A média é  15.6\n"
          ],
          "name": "stdout"
        }
      ]
    },
    {
      "cell_type": "markdown",
      "metadata": {
        "id": "VX-FEJSqvPCH"
      },
      "source": [
        "2. Imprimir a tabuada do número 3 (3 x 1 = 1 – 3 x 10 = 30)"
      ]
    },
    {
      "cell_type": "code",
      "metadata": {
        "colab": {
          "base_uri": "https://localhost:8080/"
        },
        "id": "YHTiOpaTwlJ5",
        "outputId": "75d13f70-5f1e-483e-9c33-13931d39a9c1"
      },
      "source": [
        " # usando FOR:\r\n",
        "valor = int(input('Digite um numero para ver a tabuada: '))\r\n",
        "for numero in range (1, 11):\r\n",
        "  print(f'{valor} x {numero} = {valor * numero}')"
      ],
      "execution_count": 155,
      "outputs": [
        {
          "output_type": "stream",
          "text": [
            "Digite um numero para ver a tabuada: 8\n",
            "8 x 1 = 8\n",
            "8 x 2 = 16\n",
            "8 x 3 = 24\n",
            "8 x 4 = 32\n",
            "8 x 5 = 40\n",
            "8 x 6 = 48\n",
            "8 x 7 = 56\n",
            "8 x 8 = 64\n",
            "8 x 9 = 72\n",
            "8 x 10 = 80\n"
          ],
          "name": "stdout"
        }
      ]
    },
    {
      "cell_type": "code",
      "metadata": {
        "colab": {
          "base_uri": "https://localhost:8080/"
        },
        "id": "WFgYKbGb1yIa",
        "outputId": "dfdf7732-e7c0-4b9e-b3be-d200fb5b0e6e"
      },
      "source": [
        "# usando WHILE:\r\n",
        "numero_tabuada = 1\r\n",
        "while numero_tabuada <= 10:\r\n",
        "  print('3 x {} = {}'.format(numero_tabuada, 3 * numero_tabuada))\r\n",
        "  numero_tabuada += 1"
      ],
      "execution_count": 145,
      "outputs": [
        {
          "output_type": "stream",
          "text": [
            "3 x 1 = 3\n",
            "3 x 2 = 6\n",
            "3 x 3 = 9\n",
            "3 x 4 = 12\n",
            "3 x 5 = 15\n",
            "3 x 6 = 18\n",
            "3 x 7 = 21\n",
            "3 x 8 = 24\n",
            "3 x 9 = 27\n",
            "3 x 10 = 30\n"
          ],
          "name": "stdout"
        }
      ]
    },
    {
      "cell_type": "markdown",
      "metadata": {
        "id": "GTZar3DX3TL-"
      },
      "source": [
        "# Aula 6. Coleções"
      ]
    },
    {
      "cell_type": "markdown",
      "metadata": {
        "id": "6rVTA_nn3ZtL"
      },
      "source": [
        "## 6.1 Tuplas - usa ( )"
      ]
    },
    {
      "cell_type": "code",
      "metadata": {
        "colab": {
          "base_uri": "https://localhost:8080/"
        },
        "id": "UdsAC13a3pnh",
        "outputId": "55c2894c-61f2-4dac-a240-e5a5b82afdbe"
      },
      "source": [
        "tupla = ('Homo sapiens', 'Canis familiaris', 'Felis catus')\r\n",
        "tupla"
      ],
      "execution_count": 150,
      "outputs": [
        {
          "output_type": "execute_result",
          "data": {
            "text/plain": [
              "('Homo sapiens', 'Canis familiaris', 'Felis catus')"
            ]
          },
          "metadata": {
            "tags": []
          },
          "execution_count": 150
        }
      ]
    },
    {
      "cell_type": "code",
      "metadata": {
        "colab": {
          "base_uri": "https://localhost:8080/",
          "height": 35
        },
        "id": "JieQyIQy341j",
        "outputId": "3f8c668a-3011-45da-f47e-ffd193f94860"
      },
      "source": [
        "# traz o conteudo na posição 1\r\n",
        "tupla[1]"
      ],
      "execution_count": 153,
      "outputs": [
        {
          "output_type": "execute_result",
          "data": {
            "application/vnd.google.colaboratory.intrinsic+json": {
              "type": "string"
            },
            "text/plain": [
              "'Canis familiaris'"
            ]
          },
          "metadata": {
            "tags": []
          },
          "execution_count": 153
        }
      ]
    },
    {
      "cell_type": "code",
      "metadata": {
        "colab": {
          "base_uri": "https://localhost:8080/"
        },
        "id": "u1ek3vQ434qb",
        "outputId": "e4bd79bf-609f-4cc3-e9d3-ea7ada0c0ba0"
      },
      "source": [
        "# mostra em que posição está determinado item\r\n",
        "tupla.index('Canis familiaris')"
      ],
      "execution_count": 154,
      "outputs": [
        {
          "output_type": "execute_result",
          "data": {
            "text/plain": [
              "1"
            ]
          },
          "metadata": {
            "tags": []
          },
          "execution_count": 154
        }
      ]
    },
    {
      "cell_type": "code",
      "metadata": {
        "colab": {
          "base_uri": "https://localhost:8080/"
        },
        "id": "0TXDd1GD4bsI",
        "outputId": "f419d8d3-7ab7-4e86-c498-5585e1d9b407"
      },
      "source": [
        "# verificar cada um dos elementos dentro da lista\r\n",
        "for elemento in tupla:\r\n",
        "  print(elemento)"
      ],
      "execution_count": 156,
      "outputs": [
        {
          "output_type": "stream",
          "text": [
            "Homo sapiens\n",
            "Canis familiaris\n",
            "Felis catus\n"
          ],
          "name": "stdout"
        }
      ]
    },
    {
      "cell_type": "markdown",
      "metadata": {
        "id": "K1fjU49y3Z42"
      },
      "source": [
        "## 6.2 Listas - usa [ ] e permite armazenar mais valores"
      ]
    },
    {
      "cell_type": "code",
      "metadata": {
        "colab": {
          "base_uri": "https://localhost:8080/"
        },
        "id": "AAGOiONl3qYf",
        "outputId": "89c2bcce-ac72-482b-ac9d-9fbf600a0942"
      },
      "source": [
        "lista_1 = ['Homo sapiens', 'Canis familiaris', 'Felis catus']\r\n",
        "lista_2 = ['Xenopus laevis', 'Ailuropoda melanoleuca']\r\n",
        "lista_3 = lista_1 + lista_2\r\n",
        "print(lista_3)"
      ],
      "execution_count": 158,
      "outputs": [
        {
          "output_type": "stream",
          "text": [
            "['Homo sapiens', 'Canis familiaris', 'Felis catus', 'Xenopus laevis', 'Ailuropoda melanoleuca']\n"
          ],
          "name": "stdout"
        }
      ]
    },
    {
      "cell_type": "code",
      "metadata": {
        "colab": {
          "base_uri": "https://localhost:8080/"
        },
        "id": "e7AdJtx05RJV",
        "outputId": "f479bbb8-f4b1-456f-ae77-982d21fb3026"
      },
      "source": [
        "# é possível multiplicar ou replicar o conteúdo de uma lista\r\n",
        "lista_2_2 = lista_2 * 2\r\n",
        "print(lista_2_2)"
      ],
      "execution_count": 159,
      "outputs": [
        {
          "output_type": "stream",
          "text": [
            "['Xenopus laevis', 'Ailuropoda melanoleuca', 'Xenopus laevis', 'Ailuropoda melanoleuca']\n"
          ],
          "name": "stdout"
        }
      ]
    },
    {
      "cell_type": "code",
      "metadata": {
        "colab": {
          "base_uri": "https://localhost:8080/",
          "height": 35
        },
        "id": "1HIfDZVX5iS3",
        "outputId": "e823c7d9-18ef-4cfc-f85a-6d1072298fdd"
      },
      "source": [
        "# para visualizar apenas o elemento do indice 0\r\n",
        "lista_1[0]"
      ],
      "execution_count": 160,
      "outputs": [
        {
          "output_type": "execute_result",
          "data": {
            "application/vnd.google.colaboratory.intrinsic+json": {
              "type": "string"
            },
            "text/plain": [
              "'Homo sapiens'"
            ]
          },
          "metadata": {
            "tags": []
          },
          "execution_count": 160
        }
      ]
    },
    {
      "cell_type": "code",
      "metadata": {
        "colab": {
          "base_uri": "https://localhost:8080/"
        },
        "id": "ymyUpOCX5w7X",
        "outputId": "7442d035-8a1e-404d-ccf4-425571cbe352"
      },
      "source": [
        "# para visualizar mais de um elemento na lista\r\n",
        "lista_1[0:2] # lembrando que ele não traz o último!!!!!!!!!!!"
      ],
      "execution_count": 161,
      "outputs": [
        {
          "output_type": "execute_result",
          "data": {
            "text/plain": [
              "['Homo sapiens', 'Canis familiaris']"
            ]
          },
          "metadata": {
            "tags": []
          },
          "execution_count": 161
        }
      ]
    },
    {
      "cell_type": "code",
      "metadata": {
        "colab": {
          "base_uri": "https://localhost:8080/"
        },
        "id": "vTt7xQT66B6S",
        "outputId": "17ed6173-b2e7-4cfb-de8f-908a69db0523"
      },
      "source": [
        "# adicionando itens na lista\r\n",
        "lista_1.append('Gorila gorila')\r\n",
        "print(lista_1)"
      ],
      "execution_count": 163,
      "outputs": [
        {
          "output_type": "stream",
          "text": [
            "['Homo sapiens', 'Canis familiaris', 'Felis catus', 'Gorila gorila', 'Gorila gorila']\n"
          ],
          "name": "stdout"
        }
      ]
    },
    {
      "cell_type": "code",
      "metadata": {
        "colab": {
          "base_uri": "https://localhost:8080/"
        },
        "id": "mQpgKp-X5iHI",
        "outputId": "c2febe9e-a2fe-4534-b083-448ff4c79d99"
      },
      "source": [
        "# removendo algum item desta lista\r\n",
        "lista_1.remove('Gorila gorila')\r\n",
        "print(lista_1)"
      ],
      "execution_count": 164,
      "outputs": [
        {
          "output_type": "stream",
          "text": [
            "['Homo sapiens', 'Canis familiaris', 'Felis catus', 'Gorila gorila']\n"
          ],
          "name": "stdout"
        }
      ]
    },
    {
      "cell_type": "code",
      "metadata": {
        "colab": {
          "base_uri": "https://localhost:8080/"
        },
        "id": "v05PJL6g6X4G",
        "outputId": "b2fe8829-8a9b-47f7-f26e-a40a899a2ce8"
      },
      "source": [
        "# para deletar uma lista\r\n",
        "del(lista_2)\r\n",
        "print(lista_3)"
      ],
      "execution_count": 165,
      "outputs": [
        {
          "output_type": "stream",
          "text": [
            "['Homo sapiens', 'Canis familiaris', 'Felis catus', 'Xenopus laevis', 'Ailuropoda melanoleuca']\n"
          ],
          "name": "stdout"
        }
      ]
    },
    {
      "cell_type": "code",
      "metadata": {
        "colab": {
          "base_uri": "https://localhost:8080/"
        },
        "id": "C6dHh9cf6msS",
        "outputId": "e9d5d43f-dc5a-432a-a7cc-b5fba07ee4c7"
      },
      "source": [
        "# para percorrer cada um dos elementos de uma lista, pode-se usar o FOR\r\n",
        "for item in lista_2_2:\r\n",
        "  print(item)"
      ],
      "execution_count": 166,
      "outputs": [
        {
          "output_type": "stream",
          "text": [
            "Xenopus laevis\n",
            "Ailuropoda melanoleuca\n",
            "Xenopus laevis\n",
            "Ailuropoda melanoleuca\n"
          ],
          "name": "stdout"
        }
      ]
    },
    {
      "cell_type": "markdown",
      "metadata": {
        "id": "RmjcvlQ83aBz"
      },
      "source": [
        "## 6.3 Dicionários - usam { } e carregam o conceito de chave e valor"
      ]
    },
    {
      "cell_type": "code",
      "metadata": {
        "id": "0f20fOBR3rT3"
      },
      "source": [
        "coleta = {'Aedes aegypt': 32, 'Aedes albopictus': 22, 'Anopheles darlingi': 14}"
      ],
      "execution_count": 167,
      "outputs": []
    },
    {
      "cell_type": "code",
      "metadata": {
        "colab": {
          "base_uri": "https://localhost:8080/"
        },
        "id": "w66pCzKt-J_3",
        "outputId": "40699ac9-28e7-41b8-c53d-066e4693c9a9"
      },
      "source": [
        "coleta['Aedes aegypt']"
      ],
      "execution_count": 168,
      "outputs": [
        {
          "output_type": "execute_result",
          "data": {
            "text/plain": [
              "32"
            ]
          },
          "metadata": {
            "tags": []
          },
          "execution_count": 168
        }
      ]
    },
    {
      "cell_type": "code",
      "metadata": {
        "colab": {
          "base_uri": "https://localhost:8080/"
        },
        "id": "cPqPNhL7-QCx",
        "outputId": "860de47c-c57b-4b3d-fbe4-665003f535f1"
      },
      "source": [
        "# para adicionar um novo item no dicionario\r\n",
        "coleta['Rhodnius montenegrensis'] = 11\r\n",
        "print(coleta)"
      ],
      "execution_count": 169,
      "outputs": [
        {
          "output_type": "stream",
          "text": [
            "{'Aedes aegypt': 32, 'Aedes albopictus': 22, 'Anopheles darlingi': 14, 'Rhodnius montenegrensis': 11}\n"
          ],
          "name": "stdout"
        }
      ]
    },
    {
      "cell_type": "code",
      "metadata": {
        "colab": {
          "base_uri": "https://localhost:8080/"
        },
        "id": "YkoSfvO3-P5I",
        "outputId": "a84fa3da-e6bb-4817-cf06-fb49903b28b3"
      },
      "source": [
        "# para apagar um item\r\n",
        "del(coleta)['Rhodnius montenegrensis']\r\n",
        "print(coleta)"
      ],
      "execution_count": 170,
      "outputs": [
        {
          "output_type": "stream",
          "text": [
            "{'Aedes aegypt': 32, 'Aedes albopictus': 22, 'Anopheles darlingi': 14}\n"
          ],
          "name": "stdout"
        }
      ]
    },
    {
      "cell_type": "code",
      "metadata": {
        "colab": {
          "base_uri": "https://localhost:8080/"
        },
        "id": "6j_YcJU_-ssb",
        "outputId": "8abfe49a-b42c-4a84-bba7-02c5bf46d032"
      },
      "source": [
        "# para visualizar os itens do dicionario\r\n",
        "coleta.items()"
      ],
      "execution_count": 175,
      "outputs": [
        {
          "output_type": "execute_result",
          "data": {
            "text/plain": [
              "dict_items([('Aedes aegypt', 32), ('Aedes albopictus', 22), ('Anopheles darlingi', 14)])"
            ]
          },
          "metadata": {
            "tags": []
          },
          "execution_count": 175
        }
      ]
    },
    {
      "cell_type": "code",
      "metadata": {
        "colab": {
          "base_uri": "https://localhost:8080/"
        },
        "id": "BZ6EPRnQ-PvY",
        "outputId": "ae288fdb-ea85-4551-ee2c-f7034deb490e"
      },
      "source": [
        "# para visualizar as chaves do dicionario\r\n",
        "coleta.keys()"
      ],
      "execution_count": 176,
      "outputs": [
        {
          "output_type": "execute_result",
          "data": {
            "text/plain": [
              "dict_keys(['Aedes aegypt', 'Aedes albopictus', 'Anopheles darlingi'])"
            ]
          },
          "metadata": {
            "tags": []
          },
          "execution_count": 176
        }
      ]
    },
    {
      "cell_type": "code",
      "metadata": {
        "colab": {
          "base_uri": "https://localhost:8080/"
        },
        "id": "mwjaBdQs-7bB",
        "outputId": "7cc5c2e9-bc44-4619-9656-f2d90745ceeb"
      },
      "source": [
        "# para visualizar os valores no dicionario\r\n",
        "coleta.values()"
      ],
      "execution_count": 177,
      "outputs": [
        {
          "output_type": "execute_result",
          "data": {
            "text/plain": [
              "dict_values([32, 22, 14])"
            ]
          },
          "metadata": {
            "tags": []
          },
          "execution_count": 177
        }
      ]
    },
    {
      "cell_type": "code",
      "metadata": {
        "id": "HCAvIRWi-7RX"
      },
      "source": [
        "# juntar 2 dicionarios\r\n",
        "coleta2 = {'Anopheles gambiae': 13, 'Anopheles daeneorum': 14}"
      ],
      "execution_count": 178,
      "outputs": []
    },
    {
      "cell_type": "code",
      "metadata": {
        "colab": {
          "base_uri": "https://localhost:8080/"
        },
        "id": "_KJCuCwo_fXw",
        "outputId": "1e4fa972-07ed-4826-e824-485b3d9b40ef"
      },
      "source": [
        "# após criar o novo dicionario\r\n",
        "coleta.update(coleta2) # primeiro dicionario + metodo update e como parametro o dicionario a ser incorporado no primeiro\r\n",
        "print(coleta)"
      ],
      "execution_count": 179,
      "outputs": [
        {
          "output_type": "stream",
          "text": [
            "{'Aedes aegypt': 32, 'Aedes albopictus': 22, 'Anopheles darlingi': 14, 'Anopheles gambiae': 13, 'Anopheles daeneorum': 14}\n"
          ],
          "name": "stdout"
        }
      ]
    },
    {
      "cell_type": "code",
      "metadata": {
        "colab": {
          "base_uri": "https://localhost:8080/"
        },
        "id": "daT95c4w_5t7",
        "outputId": "de75151e-51e3-4e8a-e09e-1348ca22599e"
      },
      "source": [
        "# ver todos os itens agora com os 2 dicionarios adicionados\r\n",
        "coleta.items()"
      ],
      "execution_count": 180,
      "outputs": [
        {
          "output_type": "execute_result",
          "data": {
            "text/plain": [
              "dict_items([('Aedes aegypt', 32), ('Aedes albopictus', 22), ('Anopheles darlingi', 14), ('Anopheles gambiae', 13), ('Anopheles daeneorum', 14)])"
            ]
          },
          "metadata": {
            "tags": []
          },
          "execution_count": 180
        }
      ]
    },
    {
      "cell_type": "code",
      "metadata": {
        "colab": {
          "base_uri": "https://localhost:8080/"
        },
        "id": "wBSG-2Fm_1En",
        "outputId": "a62fbc21-7870-4e60-caed-a1ec47124448"
      },
      "source": [
        "for especie, num_especimes in coleta.items(): # especie é a chave, num_especimes é o valor\r\n",
        "  print(f'Espécie: {especie} | Número de especimes: {num_especimes}.')"
      ],
      "execution_count": 182,
      "outputs": [
        {
          "output_type": "stream",
          "text": [
            "Espécie: Aedes aegypt | Número de especimes: 32.\n",
            "Espécie: Aedes albopictus | Número de especimes: 22.\n",
            "Espécie: Anopheles darlingi | Número de especimes: 14.\n",
            "Espécie: Anopheles gambiae | Número de especimes: 13.\n",
            "Espécie: Anopheles daeneorum | Número de especimes: 14.\n"
          ],
          "name": "stdout"
        }
      ]
    },
    {
      "cell_type": "markdown",
      "metadata": {
        "id": "XgeFWXp83aJX"
      },
      "source": [
        "## 6.4 Conjuntos (set)"
      ]
    },
    {
      "cell_type": "code",
      "metadata": {
        "colab": {
          "base_uri": "https://localhost:8080/"
        },
        "id": "XuUREJEi3r3u",
        "outputId": "b8f5cd2e-0fa6-4011-991d-3f21fb45abe7"
      },
      "source": [
        "biomoleculas = ('proteina', 'ácidos nucleicos', 'carboidrato', 'lipídeo', 'ácidos nucleicos', 'carboidrato', 'carboidrato', 'carboidrato')\r\n",
        "print(biomoleculas)"
      ],
      "execution_count": 184,
      "outputs": [
        {
          "output_type": "stream",
          "text": [
            "('proteina', 'ácidos nucleicos', 'carboidrato', 'lipídeo', 'ácidos nucleicos', 'carboidrato', 'carboidrato', 'carboidrato')\n"
          ],
          "name": "stdout"
        }
      ]
    },
    {
      "cell_type": "code",
      "metadata": {
        "colab": {
          "base_uri": "https://localhost:8080/"
        },
        "id": "4dG0gAv4BPv1",
        "outputId": "2481ddfe-b1bb-4321-80b4-9cf666adae6b"
      },
      "source": [
        "print(set(biomoleculas)) # vai trazer apenas os itens únicos, sem repetição"
      ],
      "execution_count": 185,
      "outputs": [
        {
          "output_type": "stream",
          "text": [
            "{'proteina', 'carboidrato', 'lipídeo', 'ácidos nucleicos'}\n"
          ],
          "name": "stdout"
        }
      ]
    },
    {
      "cell_type": "code",
      "metadata": {
        "colab": {
          "base_uri": "https://localhost:8080/"
        },
        "id": "qZe67NsaBPj5",
        "outputId": "abcf81af-aee4-41de-a408-472d3c0fce07"
      },
      "source": [
        "conj1 = {1,2,3,4,5}\r\n",
        "conj2 = {3,4,5,6,7}\r\n",
        "conj3 = conj1.intersection(conj2) # a função intersection vai trazer apenas os itens que estão presentes nos 2 conjuntos analisados\r\n",
        "print(conj3)"
      ],
      "execution_count": 188,
      "outputs": [
        {
          "output_type": "stream",
          "text": [
            "{3, 4, 5}\n"
          ],
          "name": "stdout"
        }
      ]
    },
    {
      "cell_type": "code",
      "metadata": {
        "colab": {
          "base_uri": "https://localhost:8080/"
        },
        "id": "YpxnCGuRBPX6",
        "outputId": "ee29e9fe-2476-4115-c744-fb0fa05e5e71"
      },
      "source": [
        "# calculo da diferença entre os conjuntos - vai retornar apenas os itens que estão presentes no C1 mas NÃO ESTÃO NO c2\r\n",
        "conj1.difference(conj2)"
      ],
      "execution_count": 189,
      "outputs": [
        {
          "output_type": "execute_result",
          "data": {
            "text/plain": [
              "{1, 2}"
            ]
          },
          "metadata": {
            "tags": []
          },
          "execution_count": 189
        }
      ]
    },
    {
      "cell_type": "code",
      "metadata": {
        "colab": {
          "base_uri": "https://localhost:8080/"
        },
        "id": "bBqATrnbDUka",
        "outputId": "143a6698-00a5-4c1c-fda5-2b0b83a4c6ca"
      },
      "source": [
        "conj2.difference(conj1) # vai trazer apenas os itens que estão presentes no C2 mas nao estão no C1"
      ],
      "execution_count": 190,
      "outputs": [
        {
          "output_type": "execute_result",
          "data": {
            "text/plain": [
              "{6, 7}"
            ]
          },
          "metadata": {
            "tags": []
          },
          "execution_count": 190
        }
      ]
    },
    {
      "cell_type": "markdown",
      "metadata": {
        "id": "7lhM23znD5EI"
      },
      "source": [
        "## 6.5 Matrizes - precisa da biblioteca Numpy para processamento dos calculos matematicos"
      ]
    },
    {
      "cell_type": "code",
      "metadata": {
        "id": "LTQnPXeDDUa2"
      },
      "source": [
        "import numpy as np"
      ],
      "execution_count": 192,
      "outputs": []
    },
    {
      "cell_type": "code",
      "metadata": {
        "colab": {
          "base_uri": "https://localhost:8080/"
        },
        "id": "RKQC9_JIDUOx",
        "outputId": "ee453db1-d35c-4c39-b189-297cfcbab568"
      },
      "source": [
        "matriz = np.array([[2, 3, 1], \r\n",
        "                   [4, 5, 7]]) # 2 linhas e 3 colunas\r\n",
        "matriz"
      ],
      "execution_count": 199,
      "outputs": [
        {
          "output_type": "execute_result",
          "data": {
            "text/plain": [
              "array([[2, 3, 1],\n",
              "       [4, 5, 7]])"
            ]
          },
          "metadata": {
            "tags": []
          },
          "execution_count": 199
        }
      ]
    },
    {
      "cell_type": "code",
      "metadata": {
        "colab": {
          "base_uri": "https://localhost:8080/"
        },
        "id": "TujVwsBFE0bm",
        "outputId": "4f7559af-14c1-474b-c04d-ada341e59d7b"
      },
      "source": [
        "# traz o formato da matriz\r\n",
        "matriz.shape "
      ],
      "execution_count": 198,
      "outputs": [
        {
          "output_type": "execute_result",
          "data": {
            "text/plain": [
              "(2, 3)"
            ]
          },
          "metadata": {
            "tags": []
          },
          "execution_count": 198
        }
      ]
    },
    {
      "cell_type": "code",
      "metadata": {
        "colab": {
          "base_uri": "https://localhost:8080/"
        },
        "id": "J0sPlW_WE2XZ",
        "outputId": "84336ec5-d655-4e10-e980-3e9076626a02"
      },
      "source": [
        "# traz tudo que ocupa a posição 0 dentro do array\r\n",
        "matriz [0] "
      ],
      "execution_count": 197,
      "outputs": [
        {
          "output_type": "execute_result",
          "data": {
            "text/plain": [
              "array([2, 3, 1])"
            ]
          },
          "metadata": {
            "tags": []
          },
          "execution_count": 197
        }
      ]
    },
    {
      "cell_type": "code",
      "metadata": {
        "colab": {
          "base_uri": "https://localhost:8080/"
        },
        "id": "wG7imonNE0Q0",
        "outputId": "8f2c6c8e-68b5-4af8-c6e5-7eb6b4b79328"
      },
      "source": [
        "# traz tudo que ocupa a posição 1 dentro do array\r\n",
        "matriz[1]"
      ],
      "execution_count": 200,
      "outputs": [
        {
          "output_type": "execute_result",
          "data": {
            "text/plain": [
              "array([4, 5, 7])"
            ]
          },
          "metadata": {
            "tags": []
          },
          "execution_count": 200
        }
      ]
    },
    {
      "cell_type": "code",
      "metadata": {
        "colab": {
          "base_uri": "https://localhost:8080/"
        },
        "id": "73seJnISFUUN",
        "outputId": "cb75f66d-2464-4fad-dcd0-1e7f23a6f03a"
      },
      "source": [
        "# traz de dentro do conjunto da posição 0, o elemento na posição 1\r\n",
        "matriz[0][2]"
      ],
      "execution_count": 202,
      "outputs": [
        {
          "output_type": "execute_result",
          "data": {
            "text/plain": [
              "1"
            ]
          },
          "metadata": {
            "tags": []
          },
          "execution_count": 202
        }
      ]
    },
    {
      "cell_type": "code",
      "metadata": {
        "colab": {
          "base_uri": "https://localhost:8080/"
        },
        "id": "P1ltnipqFUJB",
        "outputId": "0aba797a-7af5-45cb-a6b4-cbe404fe679b"
      },
      "source": [
        "# traz de dentro do conjunto da posição 1, o elemento na posição 2\r\n",
        "matriz[1][2]"
      ],
      "execution_count": 203,
      "outputs": [
        {
          "output_type": "execute_result",
          "data": {
            "text/plain": [
              "7"
            ]
          },
          "metadata": {
            "tags": []
          },
          "execution_count": 203
        }
      ]
    },
    {
      "cell_type": "code",
      "metadata": {
        "colab": {
          "base_uri": "https://localhost:8080/"
        },
        "id": "g0oKuiQPGABq",
        "outputId": "976a6d39-9a76-4a2e-a908-4efbd12049a7"
      },
      "source": [
        "# percorrer todos os elementos do array\r\n",
        "for i in range(matriz.shape[0]): # vai percorrer as linhas\r\n",
        "  print(matriz[i])\r\n",
        "  for j in range(matriz.shape[1]): # vai percorrer as colunas dentro de cada um dos i = cada linha\r\n",
        "    print(matriz[i][j])"
      ],
      "execution_count": 205,
      "outputs": [
        {
          "output_type": "stream",
          "text": [
            "[2 3 1]\n",
            "2\n",
            "3\n",
            "1\n",
            "[4 5 7]\n",
            "4\n",
            "5\n",
            "7\n"
          ],
          "name": "stdout"
        }
      ]
    },
    {
      "cell_type": "markdown",
      "metadata": {
        "id": "tAzWOfR8G6tp"
      },
      "source": [
        "#### **Exercicios de fixação**"
      ]
    },
    {
      "cell_type": "markdown",
      "metadata": {
        "id": "_MhfGOOdG_QW"
      },
      "source": [
        "1. **Lista**: Crie uma estrutura de repetição para fazer a leitura de 5 números inteiros e os armazene dentro de uma lista. Após a leitura, crie outra estrutura de repetição para somar todos os valores digitados"
      ]
    },
    {
      "cell_type": "code",
      "metadata": {
        "colab": {
          "base_uri": "https://localhost:8080/"
        },
        "id": "7Aa1mqjrHW2J",
        "outputId": "43d79e5e-62a5-4652-a9b3-3b2d4162a35b"
      },
      "source": [
        "lista = []\r\n",
        "for i in range(0, 5):\r\n",
        "  numero = int(input(\"Digite um numero: \"))\r\n",
        "  lista.append(numero)\r\n",
        "print(lista)\r\n",
        "\r\n",
        "# usando FOR\r\n",
        "soma = 0\r\n",
        "for item in lista:\r\n",
        "  soma += item\r\n",
        "print(soma)"
      ],
      "execution_count": 230,
      "outputs": [
        {
          "output_type": "stream",
          "text": [
            "Digite um numero: 1\n",
            "Digite um numero: 2\n",
            "Digite um numero: 3\n",
            "Digite um numero: 4\n",
            "Digite um numero: 5\n",
            "[1, 2, 3, 4, 5]\n",
            "15\n"
          ],
          "name": "stdout"
        }
      ]
    },
    {
      "cell_type": "code",
      "metadata": {
        "colab": {
          "base_uri": "https://localhost:8080/"
        },
        "id": "v-cBxkGwRn5V",
        "outputId": "2b257c0b-f477-4e6c-9384-2a636f4b228b"
      },
      "source": [
        "# usando NUMPY\r\n",
        "import numpy as np\r\n",
        "np.array(lista).sum()"
      ],
      "execution_count": 233,
      "outputs": [
        {
          "output_type": "execute_result",
          "data": {
            "text/plain": [
              "15"
            ]
          },
          "metadata": {
            "tags": []
          },
          "execution_count": 233
        }
      ]
    },
    {
      "cell_type": "markdown",
      "metadata": {
        "id": "05V6eGVdHCMG"
      },
      "source": [
        "2. **Dicionário**: Crie um dicionário para armazenar o nome e a nota de 3 alunos, fazendo a leitura dos valores por meio de uma estrutura de repetição. Depois, crie uma nova estrutura de repetição para somar todas as notas e retornar a média"
      ]
    },
    {
      "cell_type": "code",
      "metadata": {
        "colab": {
          "base_uri": "https://localhost:8080/"
        },
        "id": "9NZC3MynHXrR",
        "outputId": "18fb84b6-b33a-4594-f3fd-7dcbd9f26b3f"
      },
      "source": [
        "alunos = {}\r\n",
        "for item in range(1, 4):\r\n",
        "  nome = str(input('Digite o nome do aluno: '))\r\n",
        "  nota = float(input('Digite a nota: '))\r\n",
        "  alunos[nome] = nota\r\n",
        "print(alunos)"
      ],
      "execution_count": 238,
      "outputs": [
        {
          "output_type": "stream",
          "text": [
            "Digite o nome do aluno: joao\n",
            "Digite a nota: 9\n",
            "Digite o nome do aluno: ana\n",
            "Digite a nota: 8\n",
            "Digite o nome do aluno: jose\n",
            "Digite a nota: 7\n",
            "{'joao': 9.0, 'ana': 8.0, 'jose': 7.0}\n"
          ],
          "name": "stdout"
        }
      ]
    },
    {
      "cell_type": "code",
      "metadata": {
        "colab": {
          "base_uri": "https://localhost:8080/"
        },
        "id": "jC-8ETODUBxF",
        "outputId": "d433eaa0-766c-4911-b87d-70eb80c83fbc"
      },
      "source": [
        "# qual a nota da Ana?\r\n",
        "alunos['ana']"
      ],
      "execution_count": 241,
      "outputs": [
        {
          "output_type": "execute_result",
          "data": {
            "text/plain": [
              "8.0"
            ]
          },
          "metadata": {
            "tags": []
          },
          "execution_count": 241
        }
      ]
    },
    {
      "cell_type": "code",
      "metadata": {
        "colab": {
          "base_uri": "https://localhost:8080/"
        },
        "id": "QgtpOGgbTQ_n",
        "outputId": "cc8f0597-0f4d-46b2-c2c3-faed440b4635"
      },
      "source": [
        "# cálculo da média\r\n",
        "soma = 0\r\n",
        "for i in alunos.values():\r\n",
        "  soma += i\r\n",
        "media = soma / 3\r\n",
        "print(f'Média: {media}')"
      ],
      "execution_count": 242,
      "outputs": [
        {
          "output_type": "stream",
          "text": [
            "Média: 8.0\n"
          ],
          "name": "stdout"
        }
      ]
    },
    {
      "cell_type": "markdown",
      "metadata": {
        "id": "97-_TQYbHCVW"
      },
      "source": [
        "3. **Matriz**: Dada a matriz abaixo, construa uma estrutura de repetição para percorrer e somar todos os elementos da matriz\r\n",
        "matriz = np.array([[3, 4, 1], [3, 1, 5]])"
      ]
    },
    {
      "cell_type": "code",
      "metadata": {
        "id": "EXBekVVmF_sD"
      },
      "source": [
        "matrizz = np.array([[3, 4, 1], [3, 1, 5]])"
      ],
      "execution_count": 218,
      "outputs": []
    },
    {
      "cell_type": "code",
      "metadata": {
        "colab": {
          "base_uri": "https://localhost:8080/"
        },
        "id": "JAzKtQfDE0FO",
        "outputId": "2dd904ec-555d-4742-a155-8732c7393a46"
      },
      "source": [
        "total = 0\r\n",
        "for i in range(matrizz.shape[0]):\r\n",
        "  for j in range(matrizz.shape[1]):\r\n",
        "    total += matrizz[i][j]\r\n",
        "print(f'Soma dos valores é {total}.')"
      ],
      "execution_count": 245,
      "outputs": [
        {
          "output_type": "stream",
          "text": [
            "Soma dos valores é 17.\n"
          ],
          "name": "stdout"
        }
      ]
    },
    {
      "cell_type": "markdown",
      "metadata": {
        "id": "gRtwwzfoXTIb"
      },
      "source": [
        "# Aula 7. Funções"
      ]
    },
    {
      "cell_type": "markdown",
      "metadata": {
        "id": "h0CWKEwn6CT7"
      },
      "source": [
        "## 7.1 Funções sem parâmetro e sem retorno"
      ]
    },
    {
      "cell_type": "code",
      "metadata": {
        "id": "tgXzOtMj6PFq"
      },
      "source": [
        "def mensagem():\r\n",
        "  print('Texto dessa função')"
      ],
      "execution_count": 4,
      "outputs": []
    },
    {
      "cell_type": "code",
      "metadata": {
        "colab": {
          "base_uri": "https://localhost:8080/"
        },
        "id": "6QdFdbw26VDW",
        "outputId": "d14a4b78-4ec4-45ed-ef6b-094cd4ecbc10"
      },
      "source": [
        "mensagem()"
      ],
      "execution_count": 6,
      "outputs": [
        {
          "output_type": "stream",
          "text": [
            "Texto dessa função\n"
          ],
          "name": "stdout"
        }
      ]
    },
    {
      "cell_type": "markdown",
      "metadata": {
        "id": "qqFMcXjq6Cj2"
      },
      "source": [
        "## 7.2 Funções com passagem de parâmetro"
      ]
    },
    {
      "cell_type": "code",
      "metadata": {
        "id": "2y6GVeq4-Ms_"
      },
      "source": [
        "def mensagem(texto):\r\n",
        "  print(texto)"
      ],
      "execution_count": 7,
      "outputs": []
    },
    {
      "cell_type": "code",
      "metadata": {
        "colab": {
          "base_uri": "https://localhost:8080/"
        },
        "id": "K93fyTVZ-MZf",
        "outputId": "07bb7d06-ac08-4f65-cc31-c02224f737ce"
      },
      "source": [
        "mensagem('texto 1')\r\n",
        "mensagem('texto 2')\r\n",
        "mensagem('texto 3')"
      ],
      "execution_count": 10,
      "outputs": [
        {
          "output_type": "stream",
          "text": [
            "texto 1\n",
            "texto 2\n",
            "texto 3\n"
          ],
          "name": "stdout"
        }
      ]
    },
    {
      "cell_type": "code",
      "metadata": {
        "id": "6uY3a-rA-mww"
      },
      "source": [
        "def soma(a, b):\r\n",
        "  print(a + b)"
      ],
      "execution_count": 11,
      "outputs": []
    },
    {
      "cell_type": "code",
      "metadata": {
        "colab": {
          "base_uri": "https://localhost:8080/"
        },
        "id": "Ie-ShpL2-qJ3",
        "outputId": "8946949a-b328-44d2-8264-34aae4dd488a"
      },
      "source": [
        "soma(2, 4)"
      ],
      "execution_count": 12,
      "outputs": [
        {
          "output_type": "stream",
          "text": [
            "6\n"
          ],
          "name": "stdout"
        }
      ]
    },
    {
      "cell_type": "code",
      "metadata": {
        "colab": {
          "base_uri": "https://localhost:8080/"
        },
        "id": "AokdZthh-twI",
        "outputId": "83d33cf5-596b-49dc-f0f6-921ad9cf4f0b"
      },
      "source": [
        "soma(3, 3)\r\n",
        "soma(1, 2)"
      ],
      "execution_count": 15,
      "outputs": [
        {
          "output_type": "stream",
          "text": [
            "6\n",
            "3\n"
          ],
          "name": "stdout"
        }
      ]
    },
    {
      "cell_type": "markdown",
      "metadata": {
        "id": "gJMBrKtZ6CuX"
      },
      "source": [
        "## 7.3 Funções com passagem de parâmetros e retorno"
      ]
    },
    {
      "cell_type": "code",
      "metadata": {
        "id": "Y16q7W1DXWcz"
      },
      "source": [
        "def soma(a, b):\r\n",
        "  return a + b"
      ],
      "execution_count": 16,
      "outputs": []
    },
    {
      "cell_type": "code",
      "metadata": {
        "colab": {
          "base_uri": "https://localhost:8080/"
        },
        "id": "kHVqmDW8-6kX",
        "outputId": "b8d536b1-7da7-4c2e-aea2-f9cbe572e34e"
      },
      "source": [
        "soma(3, 2)"
      ],
      "execution_count": 17,
      "outputs": [
        {
          "output_type": "execute_result",
          "data": {
            "text/plain": [
              "5"
            ]
          },
          "metadata": {
            "tags": []
          },
          "execution_count": 17
        }
      ]
    },
    {
      "cell_type": "code",
      "metadata": {
        "colab": {
          "base_uri": "https://localhost:8080/"
        },
        "id": "knPeakfd_IC9",
        "outputId": "52ea5410-8ed5-4a8f-d45b-4536712acb3b"
      },
      "source": [
        "# r = 7\r\n",
        "r = soma(3,2) # o que será mostrado será o return a + b\r\n",
        "print(r)"
      ],
      "execution_count": 18,
      "outputs": [
        {
          "output_type": "stream",
          "text": [
            "5\n"
          ],
          "name": "stdout"
        }
      ]
    },
    {
      "cell_type": "code",
      "metadata": {
        "id": "tdZ7Gb39-6Zw"
      },
      "source": [
        "def calcula_energia_potencial_gravitacional(m, h, g=10):\r\n",
        "  '''\r\n",
        "  calcula a energia potencial gravitacional\r\n",
        "  m: massa, argumento de entrada como uma variavel float\r\n",
        "  h: altura, argumento de entrada como uma variavl float\r\n",
        "  g: aceleração gravitacional, argumento variavel mas com valor default de 10\r\n",
        "  '''\r\n",
        "  e = g * m * h\r\n",
        "  return e"
      ],
      "execution_count": 19,
      "outputs": []
    },
    {
      "cell_type": "code",
      "metadata": {
        "colab": {
          "base_uri": "https://localhost:8080/"
        },
        "id": "WEzBaNBFSi1F",
        "outputId": "cce2389f-a240-455c-b85f-e679ea1a3453"
      },
      "source": [
        "calcula_energia_potencial_gravitacional(30, 12) # NÃO PRECISA COLOCAR O g PQ ELE JÁ TRAZ POR PADRÃO, JÁ FOI DEFINIDO NA FUNÇÃO."
      ],
      "execution_count": 21,
      "outputs": [
        {
          "output_type": "execute_result",
          "data": {
            "text/plain": [
              "3600"
            ]
          },
          "metadata": {
            "tags": []
          },
          "execution_count": 21
        }
      ]
    },
    {
      "cell_type": "code",
      "metadata": {
        "colab": {
          "base_uri": "https://localhost:8080/"
        },
        "id": "ukH8V62lSinc",
        "outputId": "ad4beda2-6db6-4877-b5cf-478acabdb9c8"
      },
      "source": [
        "calcula_energia_potencial_gravitacional(30, 12, 9.8) # aqui o valor de g foi substituido por 9.8"
      ],
      "execution_count": 23,
      "outputs": [
        {
          "output_type": "execute_result",
          "data": {
            "text/plain": [
              "3528.0"
            ]
          },
          "metadata": {
            "tags": []
          },
          "execution_count": 23
        }
      ]
    },
    {
      "cell_type": "code",
      "metadata": {
        "id": "xvo_y19qUYxY"
      },
      "source": [
        "help(calcula_energia_potencial_gravitacional)"
      ],
      "execution_count": null,
      "outputs": []
    },
    {
      "cell_type": "markdown",
      "metadata": {
        "id": "3-H7s0G0Vbwt"
      },
      "source": [
        "#### **Exercicios de fixação**"
      ]
    },
    {
      "cell_type": "markdown",
      "metadata": {
        "id": "bg6UiupsVd_z"
      },
      "source": [
        "1. Ler uma temperatura em graus Celsius e apresentá-la convertida em graus Fahrenheit. A fórmula de conversão é F = (9 * C + 160) / 5, na qual F é a temperatura em Fahrenheit e C é a temperatura em graus Celsius:\r\n",
        "- Função para ler e retorna o valor da temperatura (não recebe parâmetro)\r\n",
        "- Função para fazer o cálculo (recebe como parâmetro a temperatura em graus Celsius)\r\n",
        "- Função para mostrar o resultado, recebendo como parâmetro o valor e fazendo a impressão\r\n",
        "\r\n"
      ]
    },
    {
      "cell_type": "code",
      "metadata": {
        "id": "lNEYmXWZVwF5"
      },
      "source": [
        "def ler_temperatura():\r\n",
        "  c = float(input(\"Digite a temperatura em Celsius: \"))\r\n",
        "  return c"
      ],
      "execution_count": 54,
      "outputs": []
    },
    {
      "cell_type": "code",
      "metadata": {
        "id": "E6G3qIqwWYxQ"
      },
      "source": [
        "def calcula_temp_fahrenheit(c):\r\n",
        "  f = (9 * c + 160) / 5\r\n",
        "  return f"
      ],
      "execution_count": 55,
      "outputs": []
    },
    {
      "cell_type": "code",
      "metadata": {
        "id": "9J0w7zSxWYbc"
      },
      "source": [
        "def resultado(f):\r\n",
        "  print(f)"
      ],
      "execution_count": 56,
      "outputs": []
    },
    {
      "cell_type": "code",
      "metadata": {
        "colab": {
          "base_uri": "https://localhost:8080/"
        },
        "id": "3wZvcwPOWYMX",
        "outputId": "b7911771-2431-4eba-dd85-46a539013619"
      },
      "source": [
        "resultado(calcula_temp_fahrenheit(ler_temperatura()))"
      ],
      "execution_count": 57,
      "outputs": [
        {
          "output_type": "stream",
          "text": [
            "Digite a temperatura em Celsius: 30\n",
            "86.0\n"
          ],
          "name": "stdout"
        }
      ]
    },
    {
      "cell_type": "markdown",
      "metadata": {
        "id": "6u6V2MkSVelz"
      },
      "source": [
        "2. Efetuar o cálculo da quantidade de litros de combustível gasto em uma viagem, utilizando um automóvel que faz 12 Km por litro. Para obter o cálculo, o usuário deve fornecer o tempo gasto na viagem e a velocidade média durante ela. Desta forma, será possível obter a distância percorrida com a fórmula DISTANCIA = TEMPO * VELOCIDADE. Tendo o valor da distância, basta calcular a quantidade de litros de combustível utilizada na viagem, com a fórmula: LITROS_USADOS = DISTANCIA / 12. O programa deve apresentar os valores da velocidade média, tempo gasto na viagem, a distância percorrida e a quantidade de litros utilizada na viagem:\r\n",
        "- Função para ler os valores (não recebe parâmetro e retorna os dois valores)\r\n",
        "- Função para calcular a distância (recebe como parâmetro o tempo e a velocidade e retorna a distância)\r\n",
        "- Função para calcular a quantidade de litros (recebe como parâmetro a distância e retorna os litros)\r\n",
        "- Função para apresentar o resultado (recebe como parâmetro os valores e somente imprime o resultado)"
      ]
    },
    {
      "cell_type": "code",
      "metadata": {
        "id": "5NeYTGGDZpRi"
      },
      "source": [
        "def ler_valores():\r\n",
        "  tempo = float(input('Digite o tempo gasto da viagem: '))\r\n",
        "  velocidade = float(input('Digite a velocidade média: '))\r\n",
        "  return tempo, velocidade"
      ],
      "execution_count": 58,
      "outputs": []
    },
    {
      "cell_type": "code",
      "metadata": {
        "id": "pzSmbydLZpI2"
      },
      "source": [
        "def calcula_distancia(tempo, velocidade):\r\n",
        "  return tempo * velocidade"
      ],
      "execution_count": 66,
      "outputs": []
    },
    {
      "cell_type": "code",
      "metadata": {
        "id": "TH9e6HtFZo-l"
      },
      "source": [
        "def litros_gastos(distancia):\r\n",
        "  return distancia / 12"
      ],
      "execution_count": 67,
      "outputs": []
    },
    {
      "cell_type": "code",
      "metadata": {
        "id": "m98A9szQZoz4"
      },
      "source": [
        "def resultado(tempo, velocidade, distancia, litros):\r\n",
        "  print(f'O tempo gasto foi de é {tempo} horas, a velocidade média foi de {velocidade} km/h, a distancia percorrida foi de {distancia} km e o total gasto de gasolina foi de {round(litros,2)} litros.')"
      ],
      "execution_count": 77,
      "outputs": []
    },
    {
      "cell_type": "code",
      "metadata": {
        "colab": {
          "base_uri": "https://localhost:8080/"
        },
        "id": "vudoFahLdnmQ",
        "outputId": "41f4496a-fc5e-4ba8-da4b-6bd44bc72ded"
      },
      "source": [
        "t, v = ler_valores()\r\n",
        "d = calcula_distancia(t, v)\r\n",
        "l = litros_gastos(d)\r\n",
        "resultado(t, v, d, l)"
      ],
      "execution_count": 78,
      "outputs": [
        {
          "output_type": "stream",
          "text": [
            "Digite o tempo gasto da viagem: 4.5\n",
            "Digite a velocidade média: 85\n",
            "O tempo gasto foi de é 4.5 horas, a velocidade média foi de 85.0 km/h, a distancia percorrida foi de 382.5 km e o total gasto de gasolina foi de 31.88 litros.\n"
          ],
          "name": "stdout"
        }
      ]
    },
    {
      "cell_type": "markdown",
      "metadata": {
        "id": "BzbOHXWufPKK"
      },
      "source": [
        "# Aula 8. Módulos úteis - math, datetime, random, time\r\n",
        "\r\n"
      ]
    },
    {
      "cell_type": "markdown",
      "metadata": {
        "id": "j2_a3A4VfUou"
      },
      "source": [
        "## 8.1 Biblioteca math \r\n",
        "https://docs.python.org/3/library/math.html "
      ]
    },
    {
      "cell_type": "code",
      "metadata": {
        "id": "LTyRbnrdfedj"
      },
      "source": [
        "import math"
      ],
      "execution_count": 79,
      "outputs": []
    },
    {
      "cell_type": "code",
      "metadata": {
        "colab": {
          "base_uri": "https://localhost:8080/"
        },
        "id": "t0FPa1Ibf6Gc",
        "outputId": "9eccf76b-19aa-4efc-e0c1-1b8d1c0abbe5"
      },
      "source": [
        "# raiz quadrada\r\n",
        "math.sqrt(9)"
      ],
      "execution_count": 82,
      "outputs": [
        {
          "output_type": "execute_result",
          "data": {
            "text/plain": [
              "3.0"
            ]
          },
          "metadata": {
            "tags": []
          },
          "execution_count": 82
        }
      ]
    },
    {
      "cell_type": "code",
      "metadata": {
        "colab": {
          "base_uri": "https://localhost:8080/"
        },
        "id": "cuGUOZ_VgCfF",
        "outputId": "9310492b-8093-48c1-9335-294aee5b28d4"
      },
      "source": [
        "# seno\r\n",
        "math.sin(45)"
      ],
      "execution_count": 83,
      "outputs": [
        {
          "output_type": "execute_result",
          "data": {
            "text/plain": [
              "0.8509035245341184"
            ]
          },
          "metadata": {
            "tags": []
          },
          "execution_count": 83
        }
      ]
    },
    {
      "cell_type": "code",
      "metadata": {
        "colab": {
          "base_uri": "https://localhost:8080/"
        },
        "id": "sRUuORnUf55s",
        "outputId": "0c123f6a-1298-4d7b-d117-d70df55bb44f"
      },
      "source": [
        "# cosseno\r\n",
        "math.cos(45)"
      ],
      "execution_count": 84,
      "outputs": [
        {
          "output_type": "execute_result",
          "data": {
            "text/plain": [
              "0.5253219888177297"
            ]
          },
          "metadata": {
            "tags": []
          },
          "execution_count": 84
        }
      ]
    },
    {
      "cell_type": "code",
      "metadata": {
        "colab": {
          "base_uri": "https://localhost:8080/"
        },
        "id": "L3Nm94Bof5s6",
        "outputId": "e131b45e-23cf-47aa-8688-7b5851c472f1"
      },
      "source": [
        "# logaritmo\r\n",
        "math.log(1000, 10)"
      ],
      "execution_count": 88,
      "outputs": [
        {
          "output_type": "execute_result",
          "data": {
            "text/plain": [
              "2.9999999999999996"
            ]
          },
          "metadata": {
            "tags": []
          },
          "execution_count": 88
        }
      ]
    },
    {
      "cell_type": "code",
      "metadata": {
        "colab": {
          "base_uri": "https://localhost:8080/"
        },
        "id": "MygeMnCDggVj",
        "outputId": "9f0f1ffc-75b2-4e84-8278-7844be0672dd"
      },
      "source": [
        "# logaritmo sem declarar a base, ele usa por default o número de Euler 2.718281.....\r\n",
        "math.log(1000)"
      ],
      "execution_count": 89,
      "outputs": [
        {
          "output_type": "execute_result",
          "data": {
            "text/plain": [
              "6.907755278982137"
            ]
          },
          "metadata": {
            "tags": []
          },
          "execution_count": 89
        }
      ]
    },
    {
      "cell_type": "code",
      "metadata": {
        "colab": {
          "base_uri": "https://localhost:8080/"
        },
        "id": "vlIo24BgggLO",
        "outputId": "bdc83602-ce62-4441-e8fe-a065abc8eeaf"
      },
      "source": [
        "math.e"
      ],
      "execution_count": 90,
      "outputs": [
        {
          "output_type": "execute_result",
          "data": {
            "text/plain": [
              "2.718281828459045"
            ]
          },
          "metadata": {
            "tags": []
          },
          "execution_count": 90
        }
      ]
    },
    {
      "cell_type": "code",
      "metadata": {
        "colab": {
          "base_uri": "https://localhost:8080/"
        },
        "id": "IS5cpDP8gyQZ",
        "outputId": "02b9187c-6998-4883-ae74-9aa0fd65b224"
      },
      "source": [
        "math.pi"
      ],
      "execution_count": 91,
      "outputs": [
        {
          "output_type": "execute_result",
          "data": {
            "text/plain": [
              "3.141592653589793"
            ]
          },
          "metadata": {
            "tags": []
          },
          "execution_count": 91
        }
      ]
    },
    {
      "cell_type": "markdown",
      "metadata": {
        "id": "TTfejd_Bg3F-"
      },
      "source": [
        "## 8.2 Biblioteca datetime\r\n",
        "https://docs.python.org/3/library/datetime.html "
      ]
    },
    {
      "cell_type": "code",
      "metadata": {
        "id": "hVyhZ_yCggAL"
      },
      "source": [
        "import datetime"
      ],
      "execution_count": 92,
      "outputs": []
    },
    {
      "cell_type": "code",
      "metadata": {
        "colab": {
          "base_uri": "https://localhost:8080/"
        },
        "id": "vErqkpluhL7_",
        "outputId": "66cafb88-5f22-4eea-d72b-e037cd74da50"
      },
      "source": [
        "dir(datetime)"
      ],
      "execution_count": 93,
      "outputs": [
        {
          "output_type": "execute_result",
          "data": {
            "text/plain": [
              "['MAXYEAR',\n",
              " 'MINYEAR',\n",
              " '__builtins__',\n",
              " '__cached__',\n",
              " '__doc__',\n",
              " '__file__',\n",
              " '__loader__',\n",
              " '__name__',\n",
              " '__package__',\n",
              " '__spec__',\n",
              " 'date',\n",
              " 'datetime',\n",
              " 'datetime_CAPI',\n",
              " 'sys',\n",
              " 'time',\n",
              " 'timedelta',\n",
              " 'timezone',\n",
              " 'tzinfo']"
            ]
          },
          "metadata": {
            "tags": []
          },
          "execution_count": 93
        }
      ]
    },
    {
      "cell_type": "code",
      "metadata": {
        "colab": {
          "base_uri": "https://localhost:8080/"
        },
        "id": "u0NCsf1yhLyV",
        "outputId": "6c3867f8-609d-41d7-d635-498d612e3378"
      },
      "source": [
        "datetime.date.today()"
      ],
      "execution_count": 94,
      "outputs": [
        {
          "output_type": "execute_result",
          "data": {
            "text/plain": [
              "datetime.date(2020, 12, 10)"
            ]
          },
          "metadata": {
            "tags": []
          },
          "execution_count": 94
        }
      ]
    },
    {
      "cell_type": "code",
      "metadata": {
        "colab": {
          "base_uri": "https://localhost:8080/"
        },
        "id": "w7stJ7bSh30s",
        "outputId": "8326c59a-515d-460c-f22e-7940eec210d3"
      },
      "source": [
        "datetime.datetime.now()"
      ],
      "execution_count": 95,
      "outputs": [
        {
          "output_type": "execute_result",
          "data": {
            "text/plain": [
              "datetime.datetime(2020, 12, 10, 21, 21, 59, 13086)"
            ]
          },
          "metadata": {
            "tags": []
          },
          "execution_count": 95
        }
      ]
    },
    {
      "cell_type": "code",
      "metadata": {
        "colab": {
          "base_uri": "https://localhost:8080/"
        },
        "id": "63J0W2_cioCX",
        "outputId": "213fa9ce-0517-4f79-e4de-e642da70274b"
      },
      "source": [
        "data = datetime.date(2020, 12, 10)\r\n",
        "data"
      ],
      "execution_count": 96,
      "outputs": [
        {
          "output_type": "execute_result",
          "data": {
            "text/plain": [
              "datetime.date(2020, 12, 10)"
            ]
          },
          "metadata": {
            "tags": []
          },
          "execution_count": 96
        }
      ]
    },
    {
      "cell_type": "code",
      "metadata": {
        "colab": {
          "base_uri": "https://localhost:8080/"
        },
        "id": "44-w_N9-hLpO",
        "outputId": "b1fab51d-2b5c-4154-e0db-89827f27bc37"
      },
      "source": [
        "# extraindo o dia apenas\r\n",
        "data.day"
      ],
      "execution_count": 97,
      "outputs": [
        {
          "output_type": "execute_result",
          "data": {
            "text/plain": [
              "10"
            ]
          },
          "metadata": {
            "tags": []
          },
          "execution_count": 97
        }
      ]
    },
    {
      "cell_type": "code",
      "metadata": {
        "colab": {
          "base_uri": "https://localhost:8080/"
        },
        "id": "aWlQDw4Mqxjf",
        "outputId": "8dd5737b-53b1-42cd-efff-73680196a5f3"
      },
      "source": [
        "# extraindo o mês apenas\r\n",
        "data.month"
      ],
      "execution_count": 98,
      "outputs": [
        {
          "output_type": "execute_result",
          "data": {
            "text/plain": [
              "12"
            ]
          },
          "metadata": {
            "tags": []
          },
          "execution_count": 98
        }
      ]
    },
    {
      "cell_type": "code",
      "metadata": {
        "colab": {
          "base_uri": "https://localhost:8080/"
        },
        "id": "a7LDoUNUqxXQ",
        "outputId": "1c055679-558f-4246-c8fb-75ee8b61598c"
      },
      "source": [
        "# extraindo apenas o ano\r\n",
        "data.year"
      ],
      "execution_count": 99,
      "outputs": [
        {
          "output_type": "execute_result",
          "data": {
            "text/plain": [
              "2020"
            ]
          },
          "metadata": {
            "tags": []
          },
          "execution_count": 99
        }
      ]
    },
    {
      "cell_type": "code",
      "metadata": {
        "id": "SqYOtpdeq951"
      },
      "source": [
        "horario = datetime.datetime(2020, 12, 10, 4, 30, 0)"
      ],
      "execution_count": 104,
      "outputs": []
    },
    {
      "cell_type": "code",
      "metadata": {
        "colab": {
          "base_uri": "https://localhost:8080/"
        },
        "id": "FBTYKvq0q9v7",
        "outputId": "19e6569c-1618-4592-a10c-16808d082d82"
      },
      "source": [
        "# extraindo a hora\r\n",
        "horario.hour"
      ],
      "execution_count": 105,
      "outputs": [
        {
          "output_type": "execute_result",
          "data": {
            "text/plain": [
              "4"
            ]
          },
          "metadata": {
            "tags": []
          },
          "execution_count": 105
        }
      ]
    },
    {
      "cell_type": "code",
      "metadata": {
        "colab": {
          "base_uri": "https://localhost:8080/"
        },
        "id": "AZY571f-rbew",
        "outputId": "61c3320b-70d6-4720-ba0a-68e3314e9520"
      },
      "source": [
        "# extraindo os minutos\r\n",
        "horario.min"
      ],
      "execution_count": 106,
      "outputs": [
        {
          "output_type": "execute_result",
          "data": {
            "text/plain": [
              "datetime.datetime(1, 1, 1, 0, 0)"
            ]
          },
          "metadata": {
            "tags": []
          },
          "execution_count": 106
        }
      ]
    },
    {
      "cell_type": "markdown",
      "metadata": {
        "id": "vAhzA0n-hS7E"
      },
      "source": [
        "## 8.3 Biblioteca random\r\n",
        "https://docs.python.org/3/library/random.html "
      ]
    },
    {
      "cell_type": "code",
      "metadata": {
        "id": "IUfAMv1uqxK_"
      },
      "source": [
        "import random"
      ],
      "execution_count": 107,
      "outputs": []
    },
    {
      "cell_type": "code",
      "metadata": {
        "id": "tR1Tze_ptSQj"
      },
      "source": [
        ""
      ],
      "execution_count": null,
      "outputs": []
    },
    {
      "cell_type": "code",
      "metadata": {
        "id": "HcX6vC5ktSLQ"
      },
      "source": [
        ""
      ],
      "execution_count": null,
      "outputs": []
    },
    {
      "cell_type": "code",
      "metadata": {
        "id": "asqBXQVOtSGr"
      },
      "source": [
        ""
      ],
      "execution_count": null,
      "outputs": []
    },
    {
      "cell_type": "code",
      "metadata": {
        "id": "zX83wqU0tR_4"
      },
      "source": [
        ""
      ],
      "execution_count": null,
      "outputs": []
    },
    {
      "cell_type": "code",
      "metadata": {
        "id": "WjL-hn2BhTpE"
      },
      "source": [
        ""
      ],
      "execution_count": null,
      "outputs": []
    },
    {
      "cell_type": "markdown",
      "metadata": {
        "id": "gTX_AJKchT2x"
      },
      "source": [
        "## 8.4 Biblioteca time\r\n",
        "https://docs.python.org/3/library/time.html "
      ]
    },
    {
      "cell_type": "code",
      "metadata": {
        "id": "MnI8KWFbhf6R"
      },
      "source": [
        ""
      ],
      "execution_count": null,
      "outputs": []
    },
    {
      "cell_type": "markdown",
      "metadata": {
        "id": "1kuKTexRfQzt"
      },
      "source": [
        "# Aula 9. Criação de módulos personalizados"
      ]
    },
    {
      "cell_type": "code",
      "metadata": {
        "id": "TS_rye01hl9l"
      },
      "source": [
        ""
      ],
      "execution_count": null,
      "outputs": []
    },
    {
      "cell_type": "markdown",
      "metadata": {
        "id": "yYu5W_R8fVC1"
      },
      "source": [
        "## 7.3 Funções com passagem de parâmetros e retorno"
      ]
    },
    {
      "cell_type": "markdown",
      "metadata": {
        "id": "DqcF9CfsfR3F"
      },
      "source": [
        "# Aula 10. Tratamento de errros e exceções"
      ]
    },
    {
      "cell_type": "markdown",
      "metadata": {
        "id": "FZeUkhYifVYO"
      },
      "source": [
        "## 7.3 Funções com passagem de parâmetros e retorno"
      ]
    }
  ]
}