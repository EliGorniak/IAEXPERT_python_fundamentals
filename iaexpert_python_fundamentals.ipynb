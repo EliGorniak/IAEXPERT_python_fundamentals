{
  "nbformat": 4,
  "nbformat_minor": 0,
  "metadata": {
    "colab": {
      "name": "iaexpert_python_fundamentals.ipynb",
      "provenance": [],
      "collapsed_sections": [],
      "include_colab_link": true
    },
    "kernelspec": {
      "name": "python3",
      "display_name": "Python 3"
    }
  },
  "cells": [
    {
      "cell_type": "markdown",
      "metadata": {
        "id": "view-in-github",
        "colab_type": "text"
      },
      "source": [
        "<a href=\"https://colab.research.google.com/github/EliGorniak/IAEXPERT_python_fundamentals/blob/main/iaexpert_python_fundamentals.ipynb\" target=\"_parent\"><img src=\"https://colab.research.google.com/assets/colab-badge.svg\" alt=\"Open In Colab\"/></a>"
      ]
    },
    {
      "cell_type": "markdown",
      "metadata": {
        "id": "V8QjcFa6R5y2"
      },
      "source": [
        "# Aula 1. Manipulação de variáveis e constantes"
      ]
    },
    {
      "cell_type": "markdown",
      "metadata": {
        "id": "vpSo8ozVTLCo"
      },
      "source": [
        "## Variáveis e constantes\n",
        "\n",
        "- Por meio de variáveis que um algortimo “guarda” os dados do problema\n",
        "- Todo dado que tem a possibilidade de ser alterado no decorrer do tempo deverá ser tratado como uma variável\n",
        "- Quando um dado não tem nenhuma possibilidade de variar no decorrer do tempo, deverá ser tratado como constante\n",
        "\n",
        "Exemplo: calcular a área de um triângulo. Sabemos que a fórmula para o cálculo da área de um triângulo é BASE * ALTURA / 2. **Base** e **altura** são dados que irão variar no decorrer do “tempo de execução”. O número 2 da fórmula é um dado constante, pois sempre terá o mesmo valor\n",
        "\n",
        "## Tipo de variáveis\n",
        "\n",
        "- Inteiros: valores positivos ou negativos, que não possuem uma parte fracionária. Exemplos: 1, 30, 40, 12, -50\n",
        "- Float (real): valores positivos ou negativos, que podem possuir uma parte fracionária (também podem ser inteiros). Exemplos: 1.4, 6.7, 10.3, 100, -47\n",
        "- Caracteres (char ou string): qualquer elemento presente no teclado. Exemplos: “Maria”, “João”, ‘M’, ‘F’\n",
        "- Lógico (boleano): verdadeiro ou falso. Exemplos: true, false, 1, 0"
      ]
    },
    {
      "cell_type": "markdown",
      "metadata": {
        "id": "dJuQ83faR_Pc"
      },
      "source": [
        "## Variáveis inteiras"
      ]
    },
    {
      "cell_type": "code",
      "metadata": {
        "id": "AlNS5Ngsm_dB"
      },
      "source": [
        "numero = -3\n",
        "numero_jogos = 14\n",
        "numero_convidados = 15"
      ],
      "execution_count": null,
      "outputs": []
    },
    {
      "cell_type": "code",
      "metadata": {
        "id": "h11ASYEknOD1",
        "colab": {
          "base_uri": "https://localhost:8080/",
          "height": 34
        },
        "outputId": "09ccff4b-8abc-4412-e838-c1bfbd4ed70e"
      },
      "source": [
        "numero"
      ],
      "execution_count": null,
      "outputs": [
        {
          "output_type": "execute_result",
          "data": {
            "text/plain": [
              "-3"
            ]
          },
          "metadata": {
            "tags": []
          },
          "execution_count": 2
        }
      ]
    },
    {
      "cell_type": "code",
      "metadata": {
        "id": "c8kmjtIinQNi",
        "colab": {
          "base_uri": "https://localhost:8080/",
          "height": 34
        },
        "outputId": "8492b50a-aa97-4e8f-d716-cfb81c7cef6c"
      },
      "source": [
        "print(numero)"
      ],
      "execution_count": null,
      "outputs": [
        {
          "output_type": "stream",
          "text": [
            "-3\n"
          ],
          "name": "stdout"
        }
      ]
    },
    {
      "cell_type": "code",
      "metadata": {
        "id": "KP0Wt0yynY7b",
        "colab": {
          "base_uri": "https://localhost:8080/",
          "height": 34
        },
        "outputId": "485cae45-969d-48a3-f4e8-86be9db7c1e7"
      },
      "source": [
        "print(numero, numero_convidados)"
      ],
      "execution_count": null,
      "outputs": [
        {
          "output_type": "stream",
          "text": [
            "-3 15\n"
          ],
          "name": "stdout"
        }
      ]
    },
    {
      "cell_type": "markdown",
      "metadata": {
        "id": "JhCsz7fBSQ8E"
      },
      "source": [
        "## Variáveis float (ponto flutuante)"
      ]
    },
    {
      "cell_type": "code",
      "metadata": {
        "id": "wNQq80punev_"
      },
      "source": [
        "pi = 3.14\n",
        "numero_euler = 2.71\n",
        "escala_terremoto = -4.55"
      ],
      "execution_count": 1,
      "outputs": []
    },
    {
      "cell_type": "code",
      "metadata": {
        "id": "yusfNXQ2nmCv",
        "colab": {
          "base_uri": "https://localhost:8080/"
        },
        "outputId": "e8382875-266b-471a-de71-fe5c177eb809"
      },
      "source": [
        "print(pi)\n",
        "print(numero_euler)\n",
        "print(escala_terremoto)"
      ],
      "execution_count": 2,
      "outputs": [
        {
          "output_type": "stream",
          "text": [
            "3.14\n",
            "2.71\n",
            "-4.55\n"
          ],
          "name": "stdout"
        }
      ]
    },
    {
      "cell_type": "markdown",
      "metadata": {
        "id": "fCiZKeOFSwig"
      },
      "source": [
        "## Strings e chars"
      ]
    },
    {
      "cell_type": "code",
      "metadata": {
        "id": "yvccp63ZnvEZ"
      },
      "source": [
        "letra = 'a'\n",
        "palavra1 = 'linguagem de programação'\n",
        "palavra2 = 'Python'"
      ],
      "execution_count": null,
      "outputs": []
    },
    {
      "cell_type": "code",
      "metadata": {
        "id": "AwZul8K-n3L-",
        "colab": {
          "base_uri": "https://localhost:8080/",
          "height": 34
        },
        "outputId": "dbb0fd0e-d82e-493a-91b7-0bab8f344335"
      },
      "source": [
        "print(letra, palavra1)"
      ],
      "execution_count": null,
      "outputs": [
        {
          "output_type": "stream",
          "text": [
            "a linguagem de programação\n"
          ],
          "name": "stdout"
        }
      ]
    },
    {
      "cell_type": "code",
      "metadata": {
        "id": "DnEKLamYn7Vw",
        "colab": {
          "base_uri": "https://localhost:8080/",
          "height": 34
        },
        "outputId": "f64e92ce-b909-4bbf-9439-ecf5b7215768"
      },
      "source": [
        "print('Estou aprendendo uma', palavra1)"
      ],
      "execution_count": null,
      "outputs": [
        {
          "output_type": "stream",
          "text": [
            "Estou aprendendo uma linguagem de programação\n"
          ],
          "name": "stdout"
        }
      ]
    },
    {
      "cell_type": "code",
      "metadata": {
        "id": "07uhcWXEoGHs",
        "colab": {
          "base_uri": "https://localhost:8080/",
          "height": 34
        },
        "outputId": "35a9e0b5-4fa0-4f7b-abeb-5c29c8c12c69"
      },
      "source": [
        "print('Esta', palavra1, 'se chama', palavra2)"
      ],
      "execution_count": null,
      "outputs": [
        {
          "output_type": "stream",
          "text": [
            "Esta linguagem de programação se chama Python\n"
          ],
          "name": "stdout"
        }
      ]
    },
    {
      "cell_type": "code",
      "metadata": {
        "id": "QbO7XNY3oQKk",
        "colab": {
          "base_uri": "https://localhost:8080/",
          "height": 50
        },
        "outputId": "efaf6847-684f-4aa7-f9d3-482e65202fda"
      },
      "source": [
        "idade = int(input('Digite sua idade:'))\n",
        "print('Sua idade é ', idade)"
      ],
      "execution_count": null,
      "outputs": [
        {
          "output_type": "stream",
          "text": [
            "Digite sua idade:21\n",
            "Sua idade é  21\n"
          ],
          "name": "stdout"
        }
      ]
    },
    {
      "cell_type": "code",
      "metadata": {
        "id": "4Bmhcm_sogXZ",
        "colab": {
          "base_uri": "https://localhost:8080/"
        },
        "outputId": "546f6a7b-f8e5-4e5a-92ea-9e7aa8c251b2"
      },
      "source": [
        "pH = float(input('Qual o pH do solo durante a última medição? '))\n",
        "print('O pH medido foi ', pH)"
      ],
      "execution_count": 3,
      "outputs": [
        {
          "output_type": "stream",
          "text": [
            "Qual o pH do solo durante a última medição? 2.5\n",
            "O pH medido foi  2.5\n"
          ],
          "name": "stdout"
        }
      ]
    },
    {
      "cell_type": "code",
      "metadata": {
        "id": "TWKEPsOHosFh",
        "colab": {
          "base_uri": "https://localhost:8080/",
          "height": 50
        },
        "outputId": "6b8e6a6c-6626-4624-8ca5-ddcaacca1d59"
      },
      "source": [
        "nome = str(input('Qual o seu nome?'))\n",
        "print('Seu nome é', nome)"
      ],
      "execution_count": null,
      "outputs": [
        {
          "output_type": "stream",
          "text": [
            "Qual o seu nome?Jones\n",
            "Seu nome é Jones\n"
          ],
          "name": "stdout"
        }
      ]
    },
    {
      "cell_type": "code",
      "metadata": {
        "id": "WS0kaS_jo5c2",
        "colab": {
          "base_uri": "https://localhost:8080/",
          "height": 34
        },
        "outputId": "705e3741-49c4-419f-9579-159f74f0cd87"
      },
      "source": [
        "idade"
      ],
      "execution_count": null,
      "outputs": [
        {
          "output_type": "execute_result",
          "data": {
            "text/plain": [
              "21"
            ]
          },
          "metadata": {
            "tags": []
          },
          "execution_count": 16
        }
      ]
    },
    {
      "cell_type": "markdown",
      "metadata": {
        "id": "9XhwkaE4s86u"
      },
      "source": [
        "# Aula 2. Manipulação de Strings"
      ]
    },
    {
      "cell_type": "code",
      "metadata": {
        "colab": {
          "base_uri": "https://localhost:8080/"
        },
        "id": "2YKxFErKtx1e",
        "outputId": "20842bc7-0c37-4ef6-e818-b5dd38d80c30"
      },
      "source": [
        "a = 'casaco'\r\n",
        "print(a)"
      ],
      "execution_count": 4,
      "outputs": [
        {
          "output_type": "stream",
          "text": [
            "casaco\n"
          ],
          "name": "stdout"
        }
      ]
    },
    {
      "cell_type": "code",
      "metadata": {
        "colab": {
          "base_uri": "https://localhost:8080/"
        },
        "id": "pvsYShiF8ubI",
        "outputId": "c875ff4b-45f9-4f48-ac72-677eae962acd"
      },
      "source": [
        "maiuscula = a.upper()\r\n",
        "print(maiuscula)"
      ],
      "execution_count": 5,
      "outputs": [
        {
          "output_type": "stream",
          "text": [
            "CASACO\n"
          ],
          "name": "stdout"
        }
      ]
    },
    {
      "cell_type": "code",
      "metadata": {
        "colab": {
          "base_uri": "https://localhost:8080/"
        },
        "id": "gOheSu3Z8uLo",
        "outputId": "0d5883ee-67d8-42e0-b1e3-947ec3bfd97d"
      },
      "source": [
        "minuscula = maiuscula.lower()\r\n",
        "print(minuscula)"
      ],
      "execution_count": 6,
      "outputs": [
        {
          "output_type": "stream",
          "text": [
            "casaco\n"
          ],
          "name": "stdout"
        }
      ]
    },
    {
      "cell_type": "code",
      "metadata": {
        "colab": {
          "base_uri": "https://localhost:8080/"
        },
        "id": "sz6IAT9m8uAV",
        "outputId": "242b35be-22f5-4cdb-9588-fbc91b0ddb7b"
      },
      "source": [
        "capital = a.capitalize()\r\n",
        "print(capital)"
      ],
      "execution_count": 7,
      "outputs": [
        {
          "output_type": "stream",
          "text": [
            "Casaco\n"
          ],
          "name": "stdout"
        }
      ]
    },
    {
      "cell_type": "code",
      "metadata": {
        "colab": {
          "base_uri": "https://localhost:8080/"
        },
        "id": "TGnxg9xk9D3M",
        "outputId": "08bff44b-dc4c-4968-ad02-3f5f5c660fda"
      },
      "source": [
        "# extrair partes da string pelo índice\r\n",
        "metade_palavra = a[0:3] # de zero a 3\r\n",
        "print(metade_palavra)"
      ],
      "execution_count": 8,
      "outputs": [
        {
          "output_type": "stream",
          "text": [
            "cas\n"
          ],
          "name": "stdout"
        }
      ]
    },
    {
      "cell_type": "code",
      "metadata": {
        "colab": {
          "base_uri": "https://localhost:8080/"
        },
        "id": "4fGgmKSb9Dtd",
        "outputId": "feb6d280-a3c7-48db-bd3c-c6a47055f9a3"
      },
      "source": [
        "# extrair as ultimas letras\r\n",
        "ultimas_letras = a[3:] # da posição 3 até o final (posições 3, 4 e 5)\r\n",
        "print(ultimas_letras)"
      ],
      "execution_count": 10,
      "outputs": [
        {
          "output_type": "stream",
          "text": [
            "aco\n"
          ],
          "name": "stdout"
        }
      ]
    },
    {
      "cell_type": "code",
      "metadata": {
        "colab": {
          "base_uri": "https://localhost:8080/"
        },
        "id": "oNJ2eOpP9DkC",
        "outputId": "890d2e4c-87b0-461e-b656-4e4bb2d59165"
      },
      "source": [
        "# para substituir algum caractere dentro da string\r\n",
        "b = a.replace('aco', 'inha') # substituindo onde tem 'aco' por 'inha' na string\r\n",
        "print(a)\r\n",
        "print(b)"
      ],
      "execution_count": 12,
      "outputs": [
        {
          "output_type": "stream",
          "text": [
            "casaco\n",
            "casinha\n"
          ],
          "name": "stdout"
        }
      ]
    },
    {
      "cell_type": "code",
      "metadata": {
        "colab": {
          "base_uri": "https://localhost:8080/"
        },
        "id": "am8mNZTD_l-7",
        "outputId": "52854666-7544-48fc-de4d-07d6f687077e"
      },
      "source": [
        "c = a. replace('o', 'a')\r\n",
        "print(c)"
      ],
      "execution_count": 13,
      "outputs": [
        {
          "output_type": "stream",
          "text": [
            "casaca\n"
          ],
          "name": "stdout"
        }
      ]
    },
    {
      "cell_type": "code",
      "metadata": {
        "colab": {
          "base_uri": "https://localhost:8080/"
        },
        "id": "PniB-0JC_MVD",
        "outputId": "ad2769ce-260a-43d7-9ae6-60892fe2a2ef"
      },
      "source": [
        "# metodo para achar algum elemento dentro da string\r\n",
        "c.find('s') # a resposta vai indicar o índice/posição dentro da string"
      ],
      "execution_count": 14,
      "outputs": [
        {
          "output_type": "execute_result",
          "data": {
            "text/plain": [
              "2"
            ]
          },
          "metadata": {
            "tags": []
          },
          "execution_count": 14
        }
      ]
    },
    {
      "cell_type": "code",
      "metadata": {
        "colab": {
          "base_uri": "https://localhost:8080/"
        },
        "id": "zZd2vTmR_MMF",
        "outputId": "9c932bd9-2946-4771-d512-64fb0b2cf53b"
      },
      "source": [
        "# se houver mais de um caracter igual, vai retornar a posição de apenas O PRIMEIRO encontrado\r\n",
        "c.find('a')"
      ],
      "execution_count": 15,
      "outputs": [
        {
          "output_type": "execute_result",
          "data": {
            "text/plain": [
              "1"
            ]
          },
          "metadata": {
            "tags": []
          },
          "execution_count": 15
        }
      ]
    },
    {
      "cell_type": "code",
      "metadata": {
        "colab": {
          "base_uri": "https://localhost:8080/"
        },
        "id": "76-ngiBq_MCD",
        "outputId": "3525d57d-eaff-4e6e-9f6d-a784475a21f9"
      },
      "source": [
        "# se tentar achar um caracter que não existe, ele vai retornar -1 ou FALSO\r\n",
        "c.find('b')"
      ],
      "execution_count": 16,
      "outputs": [
        {
          "output_type": "execute_result",
          "data": {
            "text/plain": [
              "-1"
            ]
          },
          "metadata": {
            "tags": []
          },
          "execution_count": 16
        }
      ]
    },
    {
      "cell_type": "code",
      "metadata": {
        "colab": {
          "base_uri": "https://localhost:8080/"
        },
        "id": "NsZiH_FwAkTW",
        "outputId": "a1bb588e-733c-403b-e12b-5a27b7703d6d"
      },
      "source": [
        "# tamanho da string - vai contar inclusive os espaços em branco:\r\n",
        "e = ' casaco '\r\n",
        "print(len(e))"
      ],
      "execution_count": 17,
      "outputs": [
        {
          "output_type": "stream",
          "text": [
            "8\n"
          ],
          "name": "stdout"
        }
      ]
    },
    {
      "cell_type": "code",
      "metadata": {
        "colab": {
          "base_uri": "https://localhost:8080/"
        },
        "id": "Dts3s8PSAwDR",
        "outputId": "702884fe-937a-41da-8542-73d70d956fc2"
      },
      "source": [
        "# para retirar os espaços em branco antes e depois\r\n",
        "f = e.strip()\r\n",
        "print(f)\r\n",
        "print(len(f))"
      ],
      "execution_count": 19,
      "outputs": [
        {
          "output_type": "stream",
          "text": [
            "casaco\n",
            "6\n"
          ],
          "name": "stdout"
        }
      ]
    },
    {
      "cell_type": "code",
      "metadata": {
        "colab": {
          "base_uri": "https://localhost:8080/"
        },
        "id": "FfDAS727Avqa",
        "outputId": "3e3a2dae-313e-4a09-baf4-c85e5ea066ac"
      },
      "source": [
        "# usando f para indicar formatação e uso das variáveis concatenadas dentro da string:\r\n",
        "n1 = 14\r\n",
        "n2 = 16\r\n",
        "print(f'Dividindo {n1} por {n2} o resultado é {n1/n2}.')"
      ],
      "execution_count": 20,
      "outputs": [
        {
          "output_type": "stream",
          "text": [
            "Dividindo 14 por 16 o resultado é 0.875.\n"
          ],
          "name": "stdout"
        }
      ]
    },
    {
      "cell_type": "markdown",
      "metadata": {
        "id": "ZOB9XkHTB4mD"
      },
      "source": [
        "# Aula 3. Operações matemáticas"
      ]
    },
    {
      "cell_type": "code",
      "metadata": {
        "colab": {
          "base_uri": "https://localhost:8080/"
        },
        "id": "HO5awM23B-xe",
        "outputId": "68f75f34-3f91-4d25-e581-1832c9b731ef"
      },
      "source": [
        "a = 5\r\n",
        "b = 3\r\n",
        "print(a + b)"
      ],
      "execution_count": 21,
      "outputs": [
        {
          "output_type": "stream",
          "text": [
            "8\n"
          ],
          "name": "stdout"
        }
      ]
    },
    {
      "cell_type": "code",
      "metadata": {
        "colab": {
          "base_uri": "https://localhost:8080/"
        },
        "id": "2j4hrsOvB_vB",
        "outputId": "258c8e1f-9453-4acc-abc8-c01d69e79181"
      },
      "source": [
        "a + b"
      ],
      "execution_count": 22,
      "outputs": [
        {
          "output_type": "execute_result",
          "data": {
            "text/plain": [
              "8"
            ]
          },
          "metadata": {
            "tags": []
          },
          "execution_count": 22
        }
      ]
    },
    {
      "cell_type": "code",
      "metadata": {
        "colab": {
          "base_uri": "https://localhost:8080/"
        },
        "id": "x7nNDKEqB_lb",
        "outputId": "065a5a36-9f05-474d-b24a-bd27e8f6d540"
      },
      "source": [
        "# operações matematicas:\r\n",
        "print('A soma é ', a + b)\r\n",
        "print('A subtração é ', a - b)\r\n",
        "print('A multiplicação é', a * b)\r\n",
        "print('A divisão é', a/b)\r\n",
        "print('O resto da divisão é', a%b) #vai devolver o que sobra da divisão\r\n",
        "print('5 elevado a 3 é', 5**3) # numero elevado a uma potencia\r\n"
      ],
      "execution_count": 27,
      "outputs": [
        {
          "output_type": "stream",
          "text": [
            "A soma é  8\n",
            "A subtração é  2\n",
            "A multiplicação é 15\n",
            "A divisão é 1.6666666666666667\n",
            "O resto da divisão é 2\n",
            "5 elevado a 3 é 125\n"
          ],
          "name": "stdout"
        }
      ]
    },
    {
      "cell_type": "code",
      "metadata": {
        "colab": {
          "base_uri": "https://localhost:8080/"
        },
        "id": "FvEpTQtHDcwg",
        "outputId": "30979981-abe2-43a3-ff80-b890716a7565"
      },
      "source": [
        "# para extrair a raiz quadrada, importar a biblioteca MATH\r\n",
        "import math \r\n",
        "math.sqrt(81)"
      ],
      "execution_count": 28,
      "outputs": [
        {
          "output_type": "execute_result",
          "data": {
            "text/plain": [
              "9.0"
            ]
          },
          "metadata": {
            "tags": []
          },
          "execution_count": 28
        }
      ]
    },
    {
      "cell_type": "markdown",
      "metadata": {
        "id": "aHrX-I2gCZC8"
      },
      "source": [
        "## **Arredondamento**"
      ]
    },
    {
      "cell_type": "code",
      "metadata": {
        "colab": {
          "base_uri": "https://localhost:8080/"
        },
        "id": "I_YvCzQfB_dX",
        "outputId": "a5a48483-5cfd-4665-8a03-de3c76aaa448"
      },
      "source": [
        "casos_doenca = 134\r\n",
        "numero_habitantes = 34432\r\n",
        "casos_por_habitante = casos_doenca / numero_habitantes\r\n",
        "print(casos_por_habitante)"
      ],
      "execution_count": 33,
      "outputs": [
        {
          "output_type": "stream",
          "text": [
            "0.003891728624535316\n"
          ],
          "name": "stdout"
        }
      ]
    },
    {
      "cell_type": "code",
      "metadata": {
        "colab": {
          "base_uri": "https://localhost:8080/"
        },
        "id": "NU4PsbzGD7G_",
        "outputId": "71d567e8-b143-473c-ff65-140f5b57999c"
      },
      "source": [
        "# para arredondar o resultado, usar a função ROUND e o numero de casas decimais desejadas\r\n",
        "round(casos_por_habitante, 6)\r\n",
        "print('O número de casos por habitante é de', round(casos_por_habitante, 4))"
      ],
      "execution_count": 36,
      "outputs": [
        {
          "output_type": "stream",
          "text": [
            "O número de casos por habitante é de 0.0039\n"
          ],
          "name": "stdout"
        }
      ]
    },
    {
      "cell_type": "markdown",
      "metadata": {
        "id": "0pfvImIjEngz"
      },
      "source": [
        "#### **Exercicios de fixação**"
      ]
    },
    {
      "cell_type": "markdown",
      "metadata": {
        "id": "DcIXVyawExb2"
      },
      "source": [
        "**1. Ler dois números inteiros, executar e mostrar o resultado das seguintes operações: adição, subtração, multiplicação e divisão**"
      ]
    },
    {
      "cell_type": "code",
      "metadata": {
        "colab": {
          "base_uri": "https://localhost:8080/"
        },
        "id": "XDQN12kiE16P",
        "outputId": "12988749-2a61-4945-d407-9d9cc876c5e3"
      },
      "source": [
        "numero1 = int(input('Digite um número:'))\r\n",
        "numero2 = int(input('Digite um número:'))\r\n",
        "print('adição dos dois números:', numero1 + numero2)\r\n",
        "print('subtração dos dois números:', numero1 - numero2)\r\n",
        "print('multiplicação dos dois números:', numero1 * numero2)\r\n",
        "print('divisão dos dois números:', round(numero1 / numero2, 2))"
      ],
      "execution_count": 46,
      "outputs": [
        {
          "output_type": "stream",
          "text": [
            "Digite um número:5\n",
            "Digite um número:3\n",
            "adição dos dois números: 8\n",
            "subtração dos dois números: 2\n",
            "multiplicação dos dois números: 15\n",
            "divisão dos dois números: 1.67\n"
          ],
          "name": "stdout"
        }
      ]
    },
    {
      "cell_type": "markdown",
      "metadata": {
        "id": "g0LQQnyQEzGi"
      },
      "source": [
        "**2. Efetuar o cálculo da quantidade de litros de combustível gasto em uma viagem, utilizando um automóvel que faz 12 Km por litro. Para obter o cálculo, o usuário deve fornecer o tempo gasto na viagem e a velocidade média durante ela. Desta forma, será possível obter a distância percorrida com a fórmula DISTANCIA = TEMPO * VELOCIDADE. Tendo o valor da distância, basta calcular a quantidade de litros de combustível utilizada na viagem, com a fórmula: LITROS_USADOS = DISTANCIA / 12. O programa deve apresentar os valores da velocidade média, tempo gasto na viagem, a distância percorrida e a quantidade de litros utilizada na viagem.**"
      ]
    },
    {
      "cell_type": "code",
      "metadata": {
        "colab": {
          "base_uri": "https://localhost:8080/"
        },
        "id": "6DWK5j2ZD-om",
        "outputId": "d8962261-c702-4f96-c81f-912c0106d0b9"
      },
      "source": [
        "consumo = 12\r\n",
        "tempo_viagem = float(input('Digite o tempo de viagem: '))\r\n",
        "velocidade = float(input('Digite a velocidade média: '))\r\n",
        "distancia_percorrida = tempo_viagem * velocidade\r\n",
        "consumo_total = round(distancia_percorrida / consumo, 2)\r\n",
        "print(f'A velocidade média foi de {velocidade}km/h, o tempo gasto foi de {tempo_viagem} horas, a distancia total percorrida foi de {distancia_percorrida} km e o consumo total foi de {consumo_total} litros.')"
      ],
      "execution_count": 48,
      "outputs": [
        {
          "output_type": "stream",
          "text": [
            "Digite o tempo de viagem: 3.5\n",
            "Digite a velocidade média: 80\n",
            "A velocidade média foi de 80.0km/h, o tempo gasto foi de 3.5 horas, a distancia total percorrida foi de 280.0 km e o consumo total foi de 23.33 litros.\n"
          ],
          "name": "stdout"
        }
      ]
    },
    {
      "cell_type": "markdown",
      "metadata": {
        "id": "sVavrR7sRpYO"
      },
      "source": [
        "# Aula 4. Operadores lógicos e relacionais"
      ]
    },
    {
      "cell_type": "markdown",
      "metadata": {
        "id": "XdPPv-Z6R3Ei"
      },
      "source": [
        "## 4.1 Operadores lógicos"
      ]
    },
    {
      "cell_type": "code",
      "metadata": {
        "colab": {
          "base_uri": "https://localhost:8080/"
        },
        "id": "SbnvV0GARvGN",
        "outputId": "2afd451b-5e74-4a20-c762-c31753168975"
      },
      "source": [
        "a = True\r\n",
        "b = False\r\n",
        "print(a, b)"
      ],
      "execution_count": 50,
      "outputs": [
        {
          "output_type": "stream",
          "text": [
            "True False\n"
          ],
          "name": "stdout"
        }
      ]
    },
    {
      "cell_type": "code",
      "metadata": {
        "colab": {
          "base_uri": "https://localhost:8080/"
        },
        "id": "pLPY2NL3SM18",
        "outputId": "34fd6312-6f8d-4168-ede0-9c0c8093b508"
      },
      "source": [
        "a and b"
      ],
      "execution_count": 51,
      "outputs": [
        {
          "output_type": "execute_result",
          "data": {
            "text/plain": [
              "False"
            ]
          },
          "metadata": {
            "tags": []
          },
          "execution_count": 51
        }
      ]
    },
    {
      "cell_type": "code",
      "metadata": {
        "colab": {
          "base_uri": "https://localhost:8080/"
        },
        "id": "Hc3VUkMySMj3",
        "outputId": "18b273df-bec4-4da9-a6ad-eb2bb67a5d42"
      },
      "source": [
        "a & b"
      ],
      "execution_count": 52,
      "outputs": [
        {
          "output_type": "execute_result",
          "data": {
            "text/plain": [
              "False"
            ]
          },
          "metadata": {
            "tags": []
          },
          "execution_count": 52
        }
      ]
    },
    {
      "cell_type": "code",
      "metadata": {
        "colab": {
          "base_uri": "https://localhost:8080/"
        },
        "id": "UdAYVE62SY-n",
        "outputId": "1168382d-02b5-402b-c4ab-b69679946575"
      },
      "source": [
        "c = a and b\r\n",
        "print('A e B são iguais é:', c) # para usar aspas dentro da string, usar aspas duplas por fora e dentro simples: \"'A' e 'B' são iguais é\""
      ],
      "execution_count": 54,
      "outputs": [
        {
          "output_type": "stream",
          "text": [
            "A e B são iguais é: False\n"
          ],
          "name": "stdout"
        }
      ]
    },
    {
      "cell_type": "code",
      "metadata": {
        "colab": {
          "base_uri": "https://localhost:8080/"
        },
        "id": "8AcQBmCOTF1Z",
        "outputId": "c74599c5-ba10-46ab-ca2b-c94fe7abeef8"
      },
      "source": [
        "a or b"
      ],
      "execution_count": 55,
      "outputs": [
        {
          "output_type": "execute_result",
          "data": {
            "text/plain": [
              "True"
            ]
          },
          "metadata": {
            "tags": []
          },
          "execution_count": 55
        }
      ]
    },
    {
      "cell_type": "code",
      "metadata": {
        "colab": {
          "base_uri": "https://localhost:8080/"
        },
        "id": "ik6TdaG0TFoy",
        "outputId": "9070b895-c350-404c-c68c-cc83094f311a"
      },
      "source": [
        "a | b"
      ],
      "execution_count": 56,
      "outputs": [
        {
          "output_type": "execute_result",
          "data": {
            "text/plain": [
              "True"
            ]
          },
          "metadata": {
            "tags": []
          },
          "execution_count": 56
        }
      ]
    },
    {
      "cell_type": "code",
      "metadata": {
        "colab": {
          "base_uri": "https://localhost:8080/"
        },
        "id": "nSUqvbw7TLU5",
        "outputId": "bcc0e373-abe8-499c-dd87-f9dbd5a953fe"
      },
      "source": [
        "d = a or b\r\n",
        "print(\"'A' ou 'B' é igual a\", d)"
      ],
      "execution_count": 58,
      "outputs": [
        {
          "output_type": "stream",
          "text": [
            "'A' ou 'B' é igual a True\n"
          ],
          "name": "stdout"
        }
      ]
    },
    {
      "cell_type": "code",
      "metadata": {
        "colab": {
          "base_uri": "https://localhost:8080/"
        },
        "id": "jZnONkLdTY2m",
        "outputId": "a523d9a6-f5fc-4108-856f-0685ba09eb2f"
      },
      "source": [
        "not a"
      ],
      "execution_count": 59,
      "outputs": [
        {
          "output_type": "execute_result",
          "data": {
            "text/plain": [
              "False"
            ]
          },
          "metadata": {
            "tags": []
          },
          "execution_count": 59
        }
      ]
    },
    {
      "cell_type": "code",
      "metadata": {
        "colab": {
          "base_uri": "https://localhost:8080/"
        },
        "id": "dlza3LrSTYsh",
        "outputId": "28f01e63-05e8-47ac-ed30-663df090771f"
      },
      "source": [
        "not b"
      ],
      "execution_count": 60,
      "outputs": [
        {
          "output_type": "execute_result",
          "data": {
            "text/plain": [
              "True"
            ]
          },
          "metadata": {
            "tags": []
          },
          "execution_count": 60
        }
      ]
    },
    {
      "cell_type": "markdown",
      "metadata": {
        "id": "AZIb3g9bR86B"
      },
      "source": [
        "## 4.2 Operadores relacionais"
      ]
    },
    {
      "cell_type": "code",
      "metadata": {
        "colab": {
          "base_uri": "https://localhost:8080/"
        },
        "id": "qYzMd7NWSAC6",
        "outputId": "4b7ce461-dfb9-4d00-f30c-36af9b01f999"
      },
      "source": [
        "5 > 3"
      ],
      "execution_count": 63,
      "outputs": [
        {
          "output_type": "execute_result",
          "data": {
            "text/plain": [
              "True"
            ]
          },
          "metadata": {
            "tags": []
          },
          "execution_count": 63
        }
      ]
    },
    {
      "cell_type": "code",
      "metadata": {
        "colab": {
          "base_uri": "https://localhost:8080/"
        },
        "id": "WT2loC6sTwDJ",
        "outputId": "f3369c8c-810c-45b6-ca54-4a32d7672ca3"
      },
      "source": [
        "5 < 3"
      ],
      "execution_count": 64,
      "outputs": [
        {
          "output_type": "execute_result",
          "data": {
            "text/plain": [
              "False"
            ]
          },
          "metadata": {
            "tags": []
          },
          "execution_count": 64
        }
      ]
    },
    {
      "cell_type": "code",
      "metadata": {
        "colab": {
          "base_uri": "https://localhost:8080/"
        },
        "id": "ndaf0QYUTv-n",
        "outputId": "7d5407a6-e766-4800-b031-f755e32d8b69"
      },
      "source": [
        "5 >= 5"
      ],
      "execution_count": 65,
      "outputs": [
        {
          "output_type": "execute_result",
          "data": {
            "text/plain": [
              "True"
            ]
          },
          "metadata": {
            "tags": []
          },
          "execution_count": 65
        }
      ]
    },
    {
      "cell_type": "code",
      "metadata": {
        "colab": {
          "base_uri": "https://localhost:8080/"
        },
        "id": "a3-x9u2ATv6k",
        "outputId": "e2dc6969-0291-444b-bb2b-af99566c284c"
      },
      "source": [
        "5 <= 3"
      ],
      "execution_count": 67,
      "outputs": [
        {
          "output_type": "execute_result",
          "data": {
            "text/plain": [
              "False"
            ]
          },
          "metadata": {
            "tags": []
          },
          "execution_count": 67
        }
      ]
    },
    {
      "cell_type": "code",
      "metadata": {
        "colab": {
          "base_uri": "https://localhost:8080/"
        },
        "id": "J_Ro5BLgTv2t",
        "outputId": "1c593e1d-9023-4a4e-c340-b628b60ac74b"
      },
      "source": [
        "5 == 3"
      ],
      "execution_count": 68,
      "outputs": [
        {
          "output_type": "execute_result",
          "data": {
            "text/plain": [
              "False"
            ]
          },
          "metadata": {
            "tags": []
          },
          "execution_count": 68
        }
      ]
    },
    {
      "cell_type": "code",
      "metadata": {
        "colab": {
          "base_uri": "https://localhost:8080/"
        },
        "id": "s4UV3vQqTvyQ",
        "outputId": "95cb8cce-1b52-4038-bde6-e9194402c050"
      },
      "source": [
        "5 != 3"
      ],
      "execution_count": 69,
      "outputs": [
        {
          "output_type": "execute_result",
          "data": {
            "text/plain": [
              "True"
            ]
          },
          "metadata": {
            "tags": []
          },
          "execution_count": 69
        }
      ]
    },
    {
      "cell_type": "markdown",
      "metadata": {
        "id": "uI6xc4D3UFi_"
      },
      "source": [
        "## 4.3 Operadores condicionais"
      ]
    },
    {
      "cell_type": "code",
      "metadata": {
        "id": "CMfzpu60Tvt1"
      },
      "source": [
        ""
      ],
      "execution_count": null,
      "outputs": []
    },
    {
      "cell_type": "code",
      "metadata": {
        "id": "C3e2mCRpTvnF"
      },
      "source": [
        ""
      ],
      "execution_count": null,
      "outputs": []
    },
    {
      "cell_type": "code",
      "metadata": {
        "id": "p-CIpoUSTvfz"
      },
      "source": [
        ""
      ],
      "execution_count": null,
      "outputs": []
    }
  ]
}